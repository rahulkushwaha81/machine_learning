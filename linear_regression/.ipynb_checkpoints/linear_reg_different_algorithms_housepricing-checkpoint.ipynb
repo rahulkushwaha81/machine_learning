{
 "cells": [
  {
   "cell_type": "markdown",
   "metadata": {},
   "source": [
    "In this notebook, we are going to predict price of the house through different regression algorithms.\n",
    "\n",
    "We will be preforming below steps\n",
    "\n",
    "1. Exploratory data analysis\n",
    "2. Feature Engineering\n",
    "3. Prediction using different algorithms\n",
    "\n",
    "Algorithms which we are going to cover are:\n",
    "\n",
    "1. Linear regression\n",
    "2. Ridge regression\n",
    "3. Lasso regression\n",
    "4. Random Forest\n",
    "5. Artificial neural network \n"
   ]
  },
  {
   "cell_type": "code",
   "execution_count": 1,
   "metadata": {},
   "outputs": [],
   "source": [
    "#let's import all the modules as one place\n",
    "import numpy as np\n",
    "import pandas as pd\n",
    "import matplotlib.pyplot as plt\n",
    "import seaborn as sns\n",
    "from sklearn.preprocessing import MinMaxScaler\n",
    "from sklearn.model_selection import train_test_split\n",
    "from sklearn.linear_model import LinearRegression,Ridge,Lasso\n",
    "from sklearn.metrics import mean_squared_error\n",
    "from tensorflow.keras.models import Sequential\n",
    "from tensorflow.keras.layers import Dense,Dropout"
   ]
  },
  {
   "cell_type": "code",
   "execution_count": 2,
   "metadata": {},
   "outputs": [],
   "source": [
    "df = pd.read_csv('../dataset/kc_house_data.csv')"
   ]
  },
  {
   "cell_type": "markdown",
   "metadata": {},
   "source": [
    "## **Exploratory data analysis**"
   ]
  },
  {
   "cell_type": "code",
   "execution_count": 3,
   "metadata": {},
   "outputs": [
    {
     "data": {
      "text/html": [
       "<div>\n",
       "<style scoped>\n",
       "    .dataframe tbody tr th:only-of-type {\n",
       "        vertical-align: middle;\n",
       "    }\n",
       "\n",
       "    .dataframe tbody tr th {\n",
       "        vertical-align: top;\n",
       "    }\n",
       "\n",
       "    .dataframe thead th {\n",
       "        text-align: right;\n",
       "    }\n",
       "</style>\n",
       "<table border=\"1\" class=\"dataframe\">\n",
       "  <thead>\n",
       "    <tr style=\"text-align: right;\">\n",
       "      <th></th>\n",
       "      <th>id</th>\n",
       "      <th>date</th>\n",
       "      <th>price</th>\n",
       "      <th>bedrooms</th>\n",
       "      <th>bathrooms</th>\n",
       "      <th>sqft_living</th>\n",
       "      <th>sqft_lot</th>\n",
       "      <th>floors</th>\n",
       "      <th>waterfront</th>\n",
       "      <th>view</th>\n",
       "      <th>...</th>\n",
       "      <th>grade</th>\n",
       "      <th>sqft_above</th>\n",
       "      <th>sqft_basement</th>\n",
       "      <th>yr_built</th>\n",
       "      <th>yr_renovated</th>\n",
       "      <th>zipcode</th>\n",
       "      <th>lat</th>\n",
       "      <th>long</th>\n",
       "      <th>sqft_living15</th>\n",
       "      <th>sqft_lot15</th>\n",
       "    </tr>\n",
       "  </thead>\n",
       "  <tbody>\n",
       "    <tr>\n",
       "      <th>0</th>\n",
       "      <td>7129300520</td>\n",
       "      <td>10/13/2014</td>\n",
       "      <td>221900.0</td>\n",
       "      <td>3</td>\n",
       "      <td>1.00</td>\n",
       "      <td>1180</td>\n",
       "      <td>5650</td>\n",
       "      <td>1.0</td>\n",
       "      <td>0</td>\n",
       "      <td>0</td>\n",
       "      <td>...</td>\n",
       "      <td>7</td>\n",
       "      <td>1180</td>\n",
       "      <td>0</td>\n",
       "      <td>1955</td>\n",
       "      <td>0</td>\n",
       "      <td>98178</td>\n",
       "      <td>47.5112</td>\n",
       "      <td>-122.257</td>\n",
       "      <td>1340</td>\n",
       "      <td>5650</td>\n",
       "    </tr>\n",
       "    <tr>\n",
       "      <th>1</th>\n",
       "      <td>6414100192</td>\n",
       "      <td>12/9/2014</td>\n",
       "      <td>538000.0</td>\n",
       "      <td>3</td>\n",
       "      <td>2.25</td>\n",
       "      <td>2570</td>\n",
       "      <td>7242</td>\n",
       "      <td>2.0</td>\n",
       "      <td>0</td>\n",
       "      <td>0</td>\n",
       "      <td>...</td>\n",
       "      <td>7</td>\n",
       "      <td>2170</td>\n",
       "      <td>400</td>\n",
       "      <td>1951</td>\n",
       "      <td>1991</td>\n",
       "      <td>98125</td>\n",
       "      <td>47.7210</td>\n",
       "      <td>-122.319</td>\n",
       "      <td>1690</td>\n",
       "      <td>7639</td>\n",
       "    </tr>\n",
       "    <tr>\n",
       "      <th>2</th>\n",
       "      <td>5631500400</td>\n",
       "      <td>2/25/2015</td>\n",
       "      <td>180000.0</td>\n",
       "      <td>2</td>\n",
       "      <td>1.00</td>\n",
       "      <td>770</td>\n",
       "      <td>10000</td>\n",
       "      <td>1.0</td>\n",
       "      <td>0</td>\n",
       "      <td>0</td>\n",
       "      <td>...</td>\n",
       "      <td>6</td>\n",
       "      <td>770</td>\n",
       "      <td>0</td>\n",
       "      <td>1933</td>\n",
       "      <td>0</td>\n",
       "      <td>98028</td>\n",
       "      <td>47.7379</td>\n",
       "      <td>-122.233</td>\n",
       "      <td>2720</td>\n",
       "      <td>8062</td>\n",
       "    </tr>\n",
       "    <tr>\n",
       "      <th>3</th>\n",
       "      <td>2487200875</td>\n",
       "      <td>12/9/2014</td>\n",
       "      <td>604000.0</td>\n",
       "      <td>4</td>\n",
       "      <td>3.00</td>\n",
       "      <td>1960</td>\n",
       "      <td>5000</td>\n",
       "      <td>1.0</td>\n",
       "      <td>0</td>\n",
       "      <td>0</td>\n",
       "      <td>...</td>\n",
       "      <td>7</td>\n",
       "      <td>1050</td>\n",
       "      <td>910</td>\n",
       "      <td>1965</td>\n",
       "      <td>0</td>\n",
       "      <td>98136</td>\n",
       "      <td>47.5208</td>\n",
       "      <td>-122.393</td>\n",
       "      <td>1360</td>\n",
       "      <td>5000</td>\n",
       "    </tr>\n",
       "    <tr>\n",
       "      <th>4</th>\n",
       "      <td>1954400510</td>\n",
       "      <td>2/18/2015</td>\n",
       "      <td>510000.0</td>\n",
       "      <td>3</td>\n",
       "      <td>2.00</td>\n",
       "      <td>1680</td>\n",
       "      <td>8080</td>\n",
       "      <td>1.0</td>\n",
       "      <td>0</td>\n",
       "      <td>0</td>\n",
       "      <td>...</td>\n",
       "      <td>8</td>\n",
       "      <td>1680</td>\n",
       "      <td>0</td>\n",
       "      <td>1987</td>\n",
       "      <td>0</td>\n",
       "      <td>98074</td>\n",
       "      <td>47.6168</td>\n",
       "      <td>-122.045</td>\n",
       "      <td>1800</td>\n",
       "      <td>7503</td>\n",
       "    </tr>\n",
       "  </tbody>\n",
       "</table>\n",
       "<p>5 rows × 21 columns</p>\n",
       "</div>"
      ],
      "text/plain": [
       "           id        date     price  bedrooms  bathrooms  sqft_living  \\\n",
       "0  7129300520  10/13/2014  221900.0         3       1.00         1180   \n",
       "1  6414100192   12/9/2014  538000.0         3       2.25         2570   \n",
       "2  5631500400   2/25/2015  180000.0         2       1.00          770   \n",
       "3  2487200875   12/9/2014  604000.0         4       3.00         1960   \n",
       "4  1954400510   2/18/2015  510000.0         3       2.00         1680   \n",
       "\n",
       "   sqft_lot  floors  waterfront  view  ...  grade  sqft_above  sqft_basement  \\\n",
       "0      5650     1.0           0     0  ...      7        1180              0   \n",
       "1      7242     2.0           0     0  ...      7        2170            400   \n",
       "2     10000     1.0           0     0  ...      6         770              0   \n",
       "3      5000     1.0           0     0  ...      7        1050            910   \n",
       "4      8080     1.0           0     0  ...      8        1680              0   \n",
       "\n",
       "   yr_built  yr_renovated  zipcode      lat     long  sqft_living15  \\\n",
       "0      1955             0    98178  47.5112 -122.257           1340   \n",
       "1      1951          1991    98125  47.7210 -122.319           1690   \n",
       "2      1933             0    98028  47.7379 -122.233           2720   \n",
       "3      1965             0    98136  47.5208 -122.393           1360   \n",
       "4      1987             0    98074  47.6168 -122.045           1800   \n",
       "\n",
       "   sqft_lot15  \n",
       "0        5650  \n",
       "1        7639  \n",
       "2        8062  \n",
       "3        5000  \n",
       "4        7503  \n",
       "\n",
       "[5 rows x 21 columns]"
      ]
     },
     "execution_count": 3,
     "metadata": {},
     "output_type": "execute_result"
    }
   ],
   "source": [
    "df.head()"
   ]
  },
  {
   "cell_type": "code",
   "execution_count": 4,
   "metadata": {},
   "outputs": [
    {
     "data": {
      "text/html": [
       "<div>\n",
       "<style scoped>\n",
       "    .dataframe tbody tr th:only-of-type {\n",
       "        vertical-align: middle;\n",
       "    }\n",
       "\n",
       "    .dataframe tbody tr th {\n",
       "        vertical-align: top;\n",
       "    }\n",
       "\n",
       "    .dataframe thead th {\n",
       "        text-align: right;\n",
       "    }\n",
       "</style>\n",
       "<table border=\"1\" class=\"dataframe\">\n",
       "  <thead>\n",
       "    <tr style=\"text-align: right;\">\n",
       "      <th></th>\n",
       "      <th>id</th>\n",
       "      <th>price</th>\n",
       "      <th>bedrooms</th>\n",
       "      <th>bathrooms</th>\n",
       "      <th>sqft_living</th>\n",
       "      <th>sqft_lot</th>\n",
       "      <th>floors</th>\n",
       "      <th>waterfront</th>\n",
       "      <th>view</th>\n",
       "      <th>condition</th>\n",
       "      <th>grade</th>\n",
       "      <th>sqft_above</th>\n",
       "      <th>sqft_basement</th>\n",
       "      <th>yr_built</th>\n",
       "      <th>yr_renovated</th>\n",
       "      <th>zipcode</th>\n",
       "      <th>lat</th>\n",
       "      <th>long</th>\n",
       "      <th>sqft_living15</th>\n",
       "      <th>sqft_lot15</th>\n",
       "    </tr>\n",
       "  </thead>\n",
       "  <tbody>\n",
       "    <tr>\n",
       "      <th>count</th>\n",
       "      <td>2.159700e+04</td>\n",
       "      <td>2.159700e+04</td>\n",
       "      <td>21597.000000</td>\n",
       "      <td>21597.000000</td>\n",
       "      <td>21597.000000</td>\n",
       "      <td>2.159700e+04</td>\n",
       "      <td>21597.000000</td>\n",
       "      <td>21597.000000</td>\n",
       "      <td>21597.000000</td>\n",
       "      <td>21597.000000</td>\n",
       "      <td>21597.000000</td>\n",
       "      <td>21597.000000</td>\n",
       "      <td>21597.000000</td>\n",
       "      <td>21597.000000</td>\n",
       "      <td>21597.000000</td>\n",
       "      <td>21597.000000</td>\n",
       "      <td>21597.000000</td>\n",
       "      <td>21597.000000</td>\n",
       "      <td>21597.000000</td>\n",
       "      <td>21597.000000</td>\n",
       "    </tr>\n",
       "    <tr>\n",
       "      <th>mean</th>\n",
       "      <td>4.580474e+09</td>\n",
       "      <td>5.402966e+05</td>\n",
       "      <td>3.373200</td>\n",
       "      <td>2.115826</td>\n",
       "      <td>2080.321850</td>\n",
       "      <td>1.509941e+04</td>\n",
       "      <td>1.494096</td>\n",
       "      <td>0.007547</td>\n",
       "      <td>0.234292</td>\n",
       "      <td>3.409825</td>\n",
       "      <td>7.657915</td>\n",
       "      <td>1788.596842</td>\n",
       "      <td>291.725008</td>\n",
       "      <td>1970.999676</td>\n",
       "      <td>84.464787</td>\n",
       "      <td>98077.951845</td>\n",
       "      <td>47.560093</td>\n",
       "      <td>-122.213982</td>\n",
       "      <td>1986.620318</td>\n",
       "      <td>12758.283512</td>\n",
       "    </tr>\n",
       "    <tr>\n",
       "      <th>std</th>\n",
       "      <td>2.876736e+09</td>\n",
       "      <td>3.673681e+05</td>\n",
       "      <td>0.926299</td>\n",
       "      <td>0.768984</td>\n",
       "      <td>918.106125</td>\n",
       "      <td>4.141264e+04</td>\n",
       "      <td>0.539683</td>\n",
       "      <td>0.086549</td>\n",
       "      <td>0.766390</td>\n",
       "      <td>0.650546</td>\n",
       "      <td>1.173200</td>\n",
       "      <td>827.759761</td>\n",
       "      <td>442.667800</td>\n",
       "      <td>29.375234</td>\n",
       "      <td>401.821438</td>\n",
       "      <td>53.513072</td>\n",
       "      <td>0.138552</td>\n",
       "      <td>0.140724</td>\n",
       "      <td>685.230472</td>\n",
       "      <td>27274.441950</td>\n",
       "    </tr>\n",
       "    <tr>\n",
       "      <th>min</th>\n",
       "      <td>1.000102e+06</td>\n",
       "      <td>7.800000e+04</td>\n",
       "      <td>1.000000</td>\n",
       "      <td>0.500000</td>\n",
       "      <td>370.000000</td>\n",
       "      <td>5.200000e+02</td>\n",
       "      <td>1.000000</td>\n",
       "      <td>0.000000</td>\n",
       "      <td>0.000000</td>\n",
       "      <td>1.000000</td>\n",
       "      <td>3.000000</td>\n",
       "      <td>370.000000</td>\n",
       "      <td>0.000000</td>\n",
       "      <td>1900.000000</td>\n",
       "      <td>0.000000</td>\n",
       "      <td>98001.000000</td>\n",
       "      <td>47.155900</td>\n",
       "      <td>-122.519000</td>\n",
       "      <td>399.000000</td>\n",
       "      <td>651.000000</td>\n",
       "    </tr>\n",
       "    <tr>\n",
       "      <th>25%</th>\n",
       "      <td>2.123049e+09</td>\n",
       "      <td>3.220000e+05</td>\n",
       "      <td>3.000000</td>\n",
       "      <td>1.750000</td>\n",
       "      <td>1430.000000</td>\n",
       "      <td>5.040000e+03</td>\n",
       "      <td>1.000000</td>\n",
       "      <td>0.000000</td>\n",
       "      <td>0.000000</td>\n",
       "      <td>3.000000</td>\n",
       "      <td>7.000000</td>\n",
       "      <td>1190.000000</td>\n",
       "      <td>0.000000</td>\n",
       "      <td>1951.000000</td>\n",
       "      <td>0.000000</td>\n",
       "      <td>98033.000000</td>\n",
       "      <td>47.471100</td>\n",
       "      <td>-122.328000</td>\n",
       "      <td>1490.000000</td>\n",
       "      <td>5100.000000</td>\n",
       "    </tr>\n",
       "    <tr>\n",
       "      <th>50%</th>\n",
       "      <td>3.904930e+09</td>\n",
       "      <td>4.500000e+05</td>\n",
       "      <td>3.000000</td>\n",
       "      <td>2.250000</td>\n",
       "      <td>1910.000000</td>\n",
       "      <td>7.618000e+03</td>\n",
       "      <td>1.500000</td>\n",
       "      <td>0.000000</td>\n",
       "      <td>0.000000</td>\n",
       "      <td>3.000000</td>\n",
       "      <td>7.000000</td>\n",
       "      <td>1560.000000</td>\n",
       "      <td>0.000000</td>\n",
       "      <td>1975.000000</td>\n",
       "      <td>0.000000</td>\n",
       "      <td>98065.000000</td>\n",
       "      <td>47.571800</td>\n",
       "      <td>-122.231000</td>\n",
       "      <td>1840.000000</td>\n",
       "      <td>7620.000000</td>\n",
       "    </tr>\n",
       "    <tr>\n",
       "      <th>75%</th>\n",
       "      <td>7.308900e+09</td>\n",
       "      <td>6.450000e+05</td>\n",
       "      <td>4.000000</td>\n",
       "      <td>2.500000</td>\n",
       "      <td>2550.000000</td>\n",
       "      <td>1.068500e+04</td>\n",
       "      <td>2.000000</td>\n",
       "      <td>0.000000</td>\n",
       "      <td>0.000000</td>\n",
       "      <td>4.000000</td>\n",
       "      <td>8.000000</td>\n",
       "      <td>2210.000000</td>\n",
       "      <td>560.000000</td>\n",
       "      <td>1997.000000</td>\n",
       "      <td>0.000000</td>\n",
       "      <td>98118.000000</td>\n",
       "      <td>47.678000</td>\n",
       "      <td>-122.125000</td>\n",
       "      <td>2360.000000</td>\n",
       "      <td>10083.000000</td>\n",
       "    </tr>\n",
       "    <tr>\n",
       "      <th>max</th>\n",
       "      <td>9.900000e+09</td>\n",
       "      <td>7.700000e+06</td>\n",
       "      <td>33.000000</td>\n",
       "      <td>8.000000</td>\n",
       "      <td>13540.000000</td>\n",
       "      <td>1.651359e+06</td>\n",
       "      <td>3.500000</td>\n",
       "      <td>1.000000</td>\n",
       "      <td>4.000000</td>\n",
       "      <td>5.000000</td>\n",
       "      <td>13.000000</td>\n",
       "      <td>9410.000000</td>\n",
       "      <td>4820.000000</td>\n",
       "      <td>2015.000000</td>\n",
       "      <td>2015.000000</td>\n",
       "      <td>98199.000000</td>\n",
       "      <td>47.777600</td>\n",
       "      <td>-121.315000</td>\n",
       "      <td>6210.000000</td>\n",
       "      <td>871200.000000</td>\n",
       "    </tr>\n",
       "  </tbody>\n",
       "</table>\n",
       "</div>"
      ],
      "text/plain": [
       "                 id         price      bedrooms     bathrooms   sqft_living  \\\n",
       "count  2.159700e+04  2.159700e+04  21597.000000  21597.000000  21597.000000   \n",
       "mean   4.580474e+09  5.402966e+05      3.373200      2.115826   2080.321850   \n",
       "std    2.876736e+09  3.673681e+05      0.926299      0.768984    918.106125   \n",
       "min    1.000102e+06  7.800000e+04      1.000000      0.500000    370.000000   \n",
       "25%    2.123049e+09  3.220000e+05      3.000000      1.750000   1430.000000   \n",
       "50%    3.904930e+09  4.500000e+05      3.000000      2.250000   1910.000000   \n",
       "75%    7.308900e+09  6.450000e+05      4.000000      2.500000   2550.000000   \n",
       "max    9.900000e+09  7.700000e+06     33.000000      8.000000  13540.000000   \n",
       "\n",
       "           sqft_lot        floors    waterfront          view     condition  \\\n",
       "count  2.159700e+04  21597.000000  21597.000000  21597.000000  21597.000000   \n",
       "mean   1.509941e+04      1.494096      0.007547      0.234292      3.409825   \n",
       "std    4.141264e+04      0.539683      0.086549      0.766390      0.650546   \n",
       "min    5.200000e+02      1.000000      0.000000      0.000000      1.000000   \n",
       "25%    5.040000e+03      1.000000      0.000000      0.000000      3.000000   \n",
       "50%    7.618000e+03      1.500000      0.000000      0.000000      3.000000   \n",
       "75%    1.068500e+04      2.000000      0.000000      0.000000      4.000000   \n",
       "max    1.651359e+06      3.500000      1.000000      4.000000      5.000000   \n",
       "\n",
       "              grade    sqft_above  sqft_basement      yr_built  yr_renovated  \\\n",
       "count  21597.000000  21597.000000   21597.000000  21597.000000  21597.000000   \n",
       "mean       7.657915   1788.596842     291.725008   1970.999676     84.464787   \n",
       "std        1.173200    827.759761     442.667800     29.375234    401.821438   \n",
       "min        3.000000    370.000000       0.000000   1900.000000      0.000000   \n",
       "25%        7.000000   1190.000000       0.000000   1951.000000      0.000000   \n",
       "50%        7.000000   1560.000000       0.000000   1975.000000      0.000000   \n",
       "75%        8.000000   2210.000000     560.000000   1997.000000      0.000000   \n",
       "max       13.000000   9410.000000    4820.000000   2015.000000   2015.000000   \n",
       "\n",
       "            zipcode           lat          long  sqft_living15     sqft_lot15  \n",
       "count  21597.000000  21597.000000  21597.000000   21597.000000   21597.000000  \n",
       "mean   98077.951845     47.560093   -122.213982    1986.620318   12758.283512  \n",
       "std       53.513072      0.138552      0.140724     685.230472   27274.441950  \n",
       "min    98001.000000     47.155900   -122.519000     399.000000     651.000000  \n",
       "25%    98033.000000     47.471100   -122.328000    1490.000000    5100.000000  \n",
       "50%    98065.000000     47.571800   -122.231000    1840.000000    7620.000000  \n",
       "75%    98118.000000     47.678000   -122.125000    2360.000000   10083.000000  \n",
       "max    98199.000000     47.777600   -121.315000    6210.000000  871200.000000  "
      ]
     },
     "execution_count": 4,
     "metadata": {},
     "output_type": "execute_result"
    }
   ],
   "source": [
    "df.describe()"
   ]
  },
  {
   "cell_type": "markdown",
   "metadata": {},
   "source": [
    "How is the disribution of price?"
   ]
  },
  {
   "cell_type": "code",
   "execution_count": 5,
   "metadata": {},
   "outputs": [
    {
     "data": {
      "text/plain": [
       "<matplotlib.axes._subplots.AxesSubplot at 0x1ea86497d48>"
      ]
     },
     "execution_count": 5,
     "metadata": {},
     "output_type": "execute_result"
    },
    {
     "data": {
      "image/png": "[encoded data removed]",
      "text/plain": [
       "<Figure size 1080x360 with 2 Axes>"
      ]
     },
     "metadata": {
      "needs_background": "light"
     },
     "output_type": "display_data"
    }
   ],
   "source": [
    "fig,ax = plt.subplots(nrows=2,ncols=1,figsize=(15,5))\n",
    "sns.distplot(df['price'],bins=30,ax=ax[0])\n",
    "sns.boxplot(df['price'],ax=ax[1])"
   ]
  },
  {
   "cell_type": "markdown",
   "metadata": {},
   "source": [
    "- most of the prices are around 500K\n",
    "- very few houses have price more than 2.5 million. These can be treated as outliers."
   ]
  },
  {
   "cell_type": "markdown",
   "metadata": {},
   "source": [
    "Let's see which features are **highly correlated** with price and plot top 4 of them"
   ]
  },
  {
   "cell_type": "code",
   "execution_count": 6,
   "metadata": {},
   "outputs": [
    {
     "data": {
      "text/plain": [
       "price            1.000000\n",
       "sqft_living      0.701917\n",
       "grade            0.667951\n",
       "sqft_above       0.605368\n",
       "sqft_living15    0.585241\n",
       "bathrooms        0.525906\n",
       "view             0.397370\n",
       "sqft_basement    0.323799\n",
       "bedrooms         0.308787\n",
       "lat              0.306692\n",
       "waterfront       0.266398\n",
       "floors           0.256804\n",
       "yr_renovated     0.126424\n",
       "sqft_lot         0.089876\n",
       "sqft_lot15       0.082845\n",
       "yr_built         0.053953\n",
       "condition        0.036056\n",
       "long             0.022036\n",
       "id              -0.016772\n",
       "zipcode         -0.053402\n",
       "Name: price, dtype: float64"
      ]
     },
     "execution_count": 6,
     "metadata": {},
     "output_type": "execute_result"
    }
   ],
   "source": [
    "df.corr().price.sort_values(ascending=False)"
   ]
  },
  {
   "cell_type": "code",
   "execution_count": 7,
   "metadata": {},
   "outputs": [
    {
     "data": {
      "image/png": "[encoded data removed]",
      "text/plain": [
       "<Figure size 1440x720 with 4 Axes>"
      ]
     },
     "metadata": {
      "needs_background": "light"
     },
     "output_type": "display_data"
    }
   ],
   "source": [
    "fig,ax_array=plt.subplots(nrows=2,ncols=2,figsize=(20,10))\n",
    "ax_array[0,0].scatter(df['sqft_living'],df['price']) #can't use seaborn joinplot in array of axes \n",
    "ax_array[0,0].set(xlabel='sqft_living',ylabel='price',title='price vs sqft_living')\n",
    "ax_array[0,1].scatter(df['grade'],df['price']) \n",
    "ax_array[0,1].set(xlabel='grade',ylabel='price',title='price vs grade')\n",
    "ax_array[1,0].scatter(df['sqft_above'],df['price']) \n",
    "ax_array[1,0].set(xlabel='sqft_above',ylabel='price',title='price vs sqft_above')\n",
    "ax_array[1,1].scatter(df['bathrooms'],df['price']) \n",
    "ax_array[1,1].set(xlabel='bathrooms',ylabel='price',title='price vs bathrooms')\n",
    "plt.tight_layout()"
   ]
  },
  {
   "cell_type": "markdown",
   "metadata": {},
   "source": [
    "We can see that price increases with increase in X-axis in above graphs"
   ]
  },
  {
   "cell_type": "code",
   "execution_count": 8,
   "metadata": {},
   "outputs": [
    {
     "data": {
      "text/plain": [
       "id               False\n",
       "date             False\n",
       "price            False\n",
       "bedrooms         False\n",
       "bathrooms        False\n",
       "sqft_living      False\n",
       "sqft_lot         False\n",
       "floors           False\n",
       "waterfront       False\n",
       "view             False\n",
       "condition        False\n",
       "grade            False\n",
       "sqft_above       False\n",
       "sqft_basement    False\n",
       "yr_built         False\n",
       "yr_renovated     False\n",
       "zipcode          False\n",
       "lat              False\n",
       "long             False\n",
       "sqft_living15    False\n",
       "sqft_lot15       False\n",
       "dtype: bool"
      ]
     },
     "execution_count": 8,
     "metadata": {},
     "output_type": "execute_result"
    }
   ],
   "source": [
    "df.isnull().any() #non of the columns have null value which is good."
   ]
  },
  {
   "cell_type": "markdown",
   "metadata": {},
   "source": [
    "## Feature Engineering"
   ]
  },
  {
   "cell_type": "code",
   "execution_count": 9,
   "metadata": {},
   "outputs": [
    {
     "name": "stdout",
     "output_type": "stream",
     "text": [
      "21420\n"
     ]
    }
   ],
   "source": [
    "print(df.id.nunique())"
   ]
  },
  {
   "cell_type": "markdown",
   "metadata": {},
   "source": [
    "id column is an unique identifier for each transaction and can be dropped off as it doesn't contribute to the price"
   ]
  },
  {
   "cell_type": "code",
   "execution_count": 10,
   "metadata": {},
   "outputs": [],
   "source": [
    "df.drop('id',axis=1,inplace=True)"
   ]
  },
  {
   "cell_type": "code",
   "execution_count": 11,
   "metadata": {},
   "outputs": [
    {
     "data": {
      "text/plain": [
       "-0.053402434377726675"
      ]
     },
     "execution_count": 11,
     "metadata": {},
     "output_type": "execute_result"
    }
   ],
   "source": [
    "df.corr().price['zipcode']"
   ]
  },
  {
   "cell_type": "markdown",
   "metadata": {},
   "source": [
    "Technically zipcode also doesn't contribute to pricing. This can be dropped too. Also there is very minor correlation between zipcode and  price"
   ]
  },
  {
   "cell_type": "code",
   "execution_count": 12,
   "metadata": {},
   "outputs": [],
   "source": [
    "df.drop('zipcode',axis=1,inplace=True)"
   ]
  },
  {
   "cell_type": "code",
   "execution_count": 13,
   "metadata": {},
   "outputs": [
    {
     "name": "stdout",
     "output_type": "stream",
     "text": [
      "<class 'pandas.core.frame.DataFrame'>\n",
      "RangeIndex: 21597 entries, 0 to 21596\n",
      "Data columns (total 19 columns):\n",
      " #   Column         Non-Null Count  Dtype  \n",
      "---  ------         --------------  -----  \n",
      " 0   date           21597 non-null  object \n",
      " 1   price          21597 non-null  float64\n",
      " 2   bedrooms       21597 non-null  int64  \n",
      " 3   bathrooms      21597 non-null  float64\n",
      " 4   sqft_living    21597 non-null  int64  \n",
      " 5   sqft_lot       21597 non-null  int64  \n",
      " 6   floors         21597 non-null  float64\n",
      " 7   waterfront     21597 non-null  int64  \n",
      " 8   view           21597 non-null  int64  \n",
      " 9   condition      21597 non-null  int64  \n",
      " 10  grade          21597 non-null  int64  \n",
      " 11  sqft_above     21597 non-null  int64  \n",
      " 12  sqft_basement  21597 non-null  int64  \n",
      " 13  yr_built       21597 non-null  int64  \n",
      " 14  yr_renovated   21597 non-null  int64  \n",
      " 15  lat            21597 non-null  float64\n",
      " 16  long           21597 non-null  float64\n",
      " 17  sqft_living15  21597 non-null  int64  \n",
      " 18  sqft_lot15     21597 non-null  int64  \n",
      "dtypes: float64(5), int64(13), object(1)\n",
      "memory usage: 3.1+ MB\n"
     ]
    }
   ],
   "source": [
    "df.info()"
   ]
  },
  {
   "cell_type": "markdown",
   "metadata": {},
   "source": [
    "date is the only object/string type present in dataset and this needs to be analysed whether it is of any use or not.\n",
    "Let's convert it into datetime and extract year,month information."
   ]
  },
  {
   "cell_type": "code",
   "execution_count": 14,
   "metadata": {},
   "outputs": [
    {
     "data": {
      "text/plain": [
       "0.003727139624315501"
      ]
     },
     "execution_count": 14,
     "metadata": {},
     "output_type": "execute_result"
    }
   ],
   "source": [
    "df['date'] = pd.to_datetime(df['date'])\n",
    "df['yr_of_tran'] = df['date'].apply(lambda x:x.year)\n",
    "df['month_of_tran'] = df['date'].apply(lambda x:x.month)\n",
    "df.corr().price['yr_of_tran']"
   ]
  },
  {
   "cell_type": "code",
   "execution_count": 15,
   "metadata": {},
   "outputs": [
    {
     "data": {
      "text/plain": [
       "<seaborn.axisgrid.JointGrid at 0x1ea86dce0c8>"
      ]
     },
     "execution_count": 15,
     "metadata": {},
     "output_type": "execute_result"
    },
    {
     "data": {
      "image/png": "[encoded data removed]",
      "text/plain": [
       "<Figure size 432x432 with 3 Axes>"
      ]
     },
     "metadata": {
      "needs_background": "light"
     },
     "output_type": "display_data"
    }
   ],
   "source": [
    "sns.jointplot(x='yr_of_tran',y='price',data=df)"
   ]
  },
  {
   "cell_type": "markdown",
   "metadata": {},
   "source": [
    "Although as we can see that there is no major impact of year on price, but generally price increases as we tend to move to next year. This is depicted below. We can use this feature. "
   ]
  },
  {
   "cell_type": "code",
   "execution_count": 16,
   "metadata": {},
   "outputs": [
    {
     "data": {
      "text/plain": [
       "yr_of_tran\n",
       "2014    539350.911777\n",
       "2015    542279.005878\n",
       "Name: price, dtype: float64"
      ]
     },
     "execution_count": 16,
     "metadata": {},
     "output_type": "execute_result"
    }
   ],
   "source": [
    "df.groupby('yr_of_tran').mean()['price']"
   ]
  },
  {
   "cell_type": "code",
   "execution_count": 17,
   "metadata": {},
   "outputs": [],
   "source": [
    "#we can now drop date column as we have extracted year and month features.\n",
    "df.drop('date',axis=1,inplace=True)"
   ]
  },
  {
   "cell_type": "code",
   "execution_count": 18,
   "metadata": {},
   "outputs": [
    {
     "data": {
      "text/html": [
       "<div>\n",
       "<style scoped>\n",
       "    .dataframe tbody tr th:only-of-type {\n",
       "        vertical-align: middle;\n",
       "    }\n",
       "\n",
       "    .dataframe tbody tr th {\n",
       "        vertical-align: top;\n",
       "    }\n",
       "\n",
       "    .dataframe thead th {\n",
       "        text-align: right;\n",
       "    }\n",
       "</style>\n",
       "<table border=\"1\" class=\"dataframe\">\n",
       "  <thead>\n",
       "    <tr style=\"text-align: right;\">\n",
       "      <th></th>\n",
       "      <th>price</th>\n",
       "      <th>bedrooms</th>\n",
       "      <th>bathrooms</th>\n",
       "      <th>sqft_living</th>\n",
       "      <th>sqft_lot</th>\n",
       "      <th>floors</th>\n",
       "      <th>waterfront</th>\n",
       "      <th>view</th>\n",
       "      <th>condition</th>\n",
       "      <th>grade</th>\n",
       "      <th>sqft_above</th>\n",
       "      <th>sqft_basement</th>\n",
       "      <th>yr_built</th>\n",
       "      <th>yr_renovated</th>\n",
       "      <th>lat</th>\n",
       "      <th>long</th>\n",
       "      <th>sqft_living15</th>\n",
       "      <th>sqft_lot15</th>\n",
       "      <th>yr_of_tran</th>\n",
       "      <th>month_of_tran</th>\n",
       "    </tr>\n",
       "  </thead>\n",
       "  <tbody>\n",
       "    <tr>\n",
       "      <th>0</th>\n",
       "      <td>221900.0</td>\n",
       "      <td>3</td>\n",
       "      <td>1.00</td>\n",
       "      <td>1180</td>\n",
       "      <td>5650</td>\n",
       "      <td>1.0</td>\n",
       "      <td>0</td>\n",
       "      <td>0</td>\n",
       "      <td>3</td>\n",
       "      <td>7</td>\n",
       "      <td>1180</td>\n",
       "      <td>0</td>\n",
       "      <td>1955</td>\n",
       "      <td>0</td>\n",
       "      <td>47.5112</td>\n",
       "      <td>-122.257</td>\n",
       "      <td>1340</td>\n",
       "      <td>5650</td>\n",
       "      <td>2014</td>\n",
       "      <td>10</td>\n",
       "    </tr>\n",
       "    <tr>\n",
       "      <th>1</th>\n",
       "      <td>538000.0</td>\n",
       "      <td>3</td>\n",
       "      <td>2.25</td>\n",
       "      <td>2570</td>\n",
       "      <td>7242</td>\n",
       "      <td>2.0</td>\n",
       "      <td>0</td>\n",
       "      <td>0</td>\n",
       "      <td>3</td>\n",
       "      <td>7</td>\n",
       "      <td>2170</td>\n",
       "      <td>400</td>\n",
       "      <td>1951</td>\n",
       "      <td>1991</td>\n",
       "      <td>47.7210</td>\n",
       "      <td>-122.319</td>\n",
       "      <td>1690</td>\n",
       "      <td>7639</td>\n",
       "      <td>2014</td>\n",
       "      <td>12</td>\n",
       "    </tr>\n",
       "    <tr>\n",
       "      <th>2</th>\n",
       "      <td>180000.0</td>\n",
       "      <td>2</td>\n",
       "      <td>1.00</td>\n",
       "      <td>770</td>\n",
       "      <td>10000</td>\n",
       "      <td>1.0</td>\n",
       "      <td>0</td>\n",
       "      <td>0</td>\n",
       "      <td>3</td>\n",
       "      <td>6</td>\n",
       "      <td>770</td>\n",
       "      <td>0</td>\n",
       "      <td>1933</td>\n",
       "      <td>0</td>\n",
       "      <td>47.7379</td>\n",
       "      <td>-122.233</td>\n",
       "      <td>2720</td>\n",
       "      <td>8062</td>\n",
       "      <td>2015</td>\n",
       "      <td>2</td>\n",
       "    </tr>\n",
       "    <tr>\n",
       "      <th>3</th>\n",
       "      <td>604000.0</td>\n",
       "      <td>4</td>\n",
       "      <td>3.00</td>\n",
       "      <td>1960</td>\n",
       "      <td>5000</td>\n",
       "      <td>1.0</td>\n",
       "      <td>0</td>\n",
       "      <td>0</td>\n",
       "      <td>5</td>\n",
       "      <td>7</td>\n",
       "      <td>1050</td>\n",
       "      <td>910</td>\n",
       "      <td>1965</td>\n",
       "      <td>0</td>\n",
       "      <td>47.5208</td>\n",
       "      <td>-122.393</td>\n",
       "      <td>1360</td>\n",
       "      <td>5000</td>\n",
       "      <td>2014</td>\n",
       "      <td>12</td>\n",
       "    </tr>\n",
       "    <tr>\n",
       "      <th>4</th>\n",
       "      <td>510000.0</td>\n",
       "      <td>3</td>\n",
       "      <td>2.00</td>\n",
       "      <td>1680</td>\n",
       "      <td>8080</td>\n",
       "      <td>1.0</td>\n",
       "      <td>0</td>\n",
       "      <td>0</td>\n",
       "      <td>3</td>\n",
       "      <td>8</td>\n",
       "      <td>1680</td>\n",
       "      <td>0</td>\n",
       "      <td>1987</td>\n",
       "      <td>0</td>\n",
       "      <td>47.6168</td>\n",
       "      <td>-122.045</td>\n",
       "      <td>1800</td>\n",
       "      <td>7503</td>\n",
       "      <td>2015</td>\n",
       "      <td>2</td>\n",
       "    </tr>\n",
       "  </tbody>\n",
       "</table>\n",
       "</div>"
      ],
      "text/plain": [
       "      price  bedrooms  bathrooms  sqft_living  sqft_lot  floors  waterfront  \\\n",
       "0  221900.0         3       1.00         1180      5650     1.0           0   \n",
       "1  538000.0         3       2.25         2570      7242     2.0           0   \n",
       "2  180000.0         2       1.00          770     10000     1.0           0   \n",
       "3  604000.0         4       3.00         1960      5000     1.0           0   \n",
       "4  510000.0         3       2.00         1680      8080     1.0           0   \n",
       "\n",
       "   view  condition  grade  sqft_above  sqft_basement  yr_built  yr_renovated  \\\n",
       "0     0          3      7        1180              0      1955             0   \n",
       "1     0          3      7        2170            400      1951          1991   \n",
       "2     0          3      6         770              0      1933             0   \n",
       "3     0          5      7        1050            910      1965             0   \n",
       "4     0          3      8        1680              0      1987             0   \n",
       "\n",
       "       lat     long  sqft_living15  sqft_lot15  yr_of_tran  month_of_tran  \n",
       "0  47.5112 -122.257           1340        5650        2014             10  \n",
       "1  47.7210 -122.319           1690        7639        2014             12  \n",
       "2  47.7379 -122.233           2720        8062        2015              2  \n",
       "3  47.5208 -122.393           1360        5000        2014             12  \n",
       "4  47.6168 -122.045           1800        7503        2015              2  "
      ]
     },
     "execution_count": 18,
     "metadata": {},
     "output_type": "execute_result"
    }
   ],
   "source": [
    "#final look of data\n",
    "df.head()"
   ]
  },
  {
   "cell_type": "markdown",
   "metadata": {},
   "source": [
    "# Implementing algorithm"
   ]
  },
  {
   "cell_type": "markdown",
   "metadata": {},
   "source": [
    "We have to standardized the all features into one scale as their values ranges from single digit to 4 digits\n",
    "\n",
    "Example bathrooms and sqft_living are of different scales. We need to being them under same scale.\n",
    "\n",
    "You can refer to this url [chosing scaler](https://stackoverflow.com/questions/51237635/difference-between-standard-scaler-and-minmaxscaler/51237727) for choosing the scaler. Here we would be using minmax scaler\n",
    "\n",
    "Before scaling, we need to split data into training and test sets"
   ]
  },
  {
   "cell_type": "code",
   "execution_count": 19,
   "metadata": {},
   "outputs": [
    {
     "name": "stdout",
     "output_type": "stream",
     "text": [
      "Index(['price', 'bedrooms', 'bathrooms', 'sqft_living', 'sqft_lot', 'floors',\n",
      "       'waterfront', 'view', 'condition', 'grade', 'sqft_above',\n",
      "       'sqft_basement', 'yr_built', 'yr_renovated', 'lat', 'long',\n",
      "       'sqft_living15', 'sqft_lot15', 'yr_of_tran', 'month_of_tran'],\n",
      "      dtype='object')\n"
     ]
    }
   ],
   "source": [
    "# hit and trial\n",
    "# df = df[(df.price<800000)] #to remove outliers\n",
    "# df = df[(df.price>2000000) & (df.price<5000000)]\n",
    "# df.drop('grade',axis=1,inplace=True)\n",
    "# df.drop('sqft_living15',axis=1,inplace=True)\n",
    "# df.drop('bathrooms',axis=1,inplace=True)\n",
    "# df.drop('sqft_lot',axis=1,inplace=True)\n",
    "# df.drop('bedrooms',axis=1,inplace=True)\n",
    "print(df.columns)"
   ]
  },
  {
   "cell_type": "code",
   "execution_count": 20,
   "metadata": {},
   "outputs": [
    {
     "name": "stdout",
     "output_type": "stream",
     "text": [
      "(15117, 19) (6480, 19) (15117,) (6480,)\n"
     ]
    }
   ],
   "source": [
    "X=df.drop('price',axis=1).values #converting this into numpy arrays as keras/tensorflow doesn't accept dataframes\n",
    "y=df['price'].values\n",
    "X_train,X_test,y_train,y_test = train_test_split(X,y,test_size=0.3)\n",
    "print(X_train.shape,X_test.shape,y_train.shape,y_test.shape)"
   ]
  },
  {
   "cell_type": "code",
   "execution_count": 21,
   "metadata": {},
   "outputs": [
    {
     "data": {
      "text/plain": [
       "array([[0.03125   , 0.06666667, 0.04935459, 0.00384789, 0.2       ,\n",
       "        0.        , 0.        , 0.75      , 0.3       , 0.07190265,\n",
       "        0.        , 0.05217391, 0.        , 0.8309474 , 0.09874477,\n",
       "        0.18774738, 0.0049957 , 1.        , 0.09090909],\n",
       "       [0.0625    , 0.13333333, 0.1070615 , 0.01329584, 0.        ,\n",
       "        0.        , 0.        , 0.25      , 0.4       , 0.09623894,\n",
       "        0.1120332 , 0.52173913, 0.        , 0.42319447, 0.16066946,\n",
       "        0.25141972, 0.01048074, 0.        , 0.63636364]])"
      ]
     },
     "execution_count": 21,
     "metadata": {},
     "output_type": "execute_result"
    }
   ],
   "source": [
    "minmax = MinMaxScaler()\n",
    "minmax.fit(X_train) #fit/model this using only training data and not with test data.\n",
    "X_train_scaled = minmax.transform(X_train)\n",
    "X_test_scaled = minmax.transform(X_test)\n",
    "\n",
    "X_test_scaled[0:2] #have a look at scaled data"
   ]
  },
  {
   "cell_type": "markdown",
   "metadata": {},
   "source": [
    "We are now ready for implementing different models"
   ]
  },
  {
   "cell_type": "markdown",
   "metadata": {},
   "source": [
    "## Linear Model"
   ]
  },
  {
   "cell_type": "code",
   "execution_count": 22,
   "metadata": {},
   "outputs": [
    {
     "name": "stdout",
     "output_type": "stream",
     "text": [
      "RMSE for Linear model= 197577.5547058614\n",
      "Average Price= 537559.1433641976\n",
      "-398722.0093272475\n"
     ]
    },
    {
     "data": {
      "text/plain": [
       "array([-1.01385456e+06,  3.06678090e+05,  3.41406583e+17,  9.66361821e+04,\n",
       "       -2.48829480e+03,  6.35356682e+05,  1.93270254e+05,  1.35147601e+05,\n",
       "        1.01410100e+06, -2.34344382e+17, -1.24949106e+17, -2.78404914e+05,\n",
       "        5.44884485e+04,  3.52288842e+05, -1.31037581e+05,  1.66732006e+05,\n",
       "       -3.26871019e+05,  3.74503608e+04,  1.48844277e+04])"
      ]
     },
     "execution_count": 22,
     "metadata": {},
     "output_type": "execute_result"
    }
   ],
   "source": [
    "model_linear = LinearRegression()\n",
    "model_linear.fit(X_train_scaled,y_train)\n",
    "prediction_linear = model_linear.predict(X_test_scaled)\n",
    "print('RMSE for Linear model= '+ str(np.sqrt(mean_squared_error(y_test,prediction_linear))))\n",
    "print('Average Price= '+ str(np.mean(y_test)))\n",
    "print(model_linear.intercept_)\n",
    "model_linear.coef_\n"
   ]
  },
  {
   "cell_type": "code",
   "execution_count": null,
   "metadata": {},
   "outputs": [],
   "source": []
  },
  {
   "cell_type": "markdown",
   "metadata": {},
   "source": [
    "This model doesn't looks good in performing good prediction as we can see that RMSE is almost 50% of price."
   ]
  },
  {
   "cell_type": "code",
   "execution_count": 23,
   "metadata": {},
   "outputs": [
    {
     "data": {
      "text/html": [
       "<div>\n",
       "<style scoped>\n",
       "    .dataframe tbody tr th:only-of-type {\n",
       "        vertical-align: middle;\n",
       "    }\n",
       "\n",
       "    .dataframe tbody tr th {\n",
       "        vertical-align: top;\n",
       "    }\n",
       "\n",
       "    .dataframe thead th {\n",
       "        text-align: right;\n",
       "    }\n",
       "</style>\n",
       "<table border=\"1\" class=\"dataframe\">\n",
       "  <thead>\n",
       "    <tr style=\"text-align: right;\">\n",
       "      <th></th>\n",
       "      <th>y_test</th>\n",
       "      <th>sqft_living</th>\n",
       "      <th>prediction_linear</th>\n",
       "    </tr>\n",
       "  </thead>\n",
       "  <tbody>\n",
       "    <tr>\n",
       "      <th>0</th>\n",
       "      <td>450000.0</td>\n",
       "      <td>1020.0</td>\n",
       "      <td>443141.990673</td>\n",
       "    </tr>\n",
       "    <tr>\n",
       "      <th>1</th>\n",
       "      <td>279000.0</td>\n",
       "      <td>1780.0</td>\n",
       "      <td>281593.990673</td>\n",
       "    </tr>\n",
       "    <tr>\n",
       "      <th>2</th>\n",
       "      <td>467000.0</td>\n",
       "      <td>3460.0</td>\n",
       "      <td>636733.990673</td>\n",
       "    </tr>\n",
       "    <tr>\n",
       "      <th>3</th>\n",
       "      <td>828950.0</td>\n",
       "      <td>3930.0</td>\n",
       "      <td>945645.990673</td>\n",
       "    </tr>\n",
       "    <tr>\n",
       "      <th>4</th>\n",
       "      <td>499950.0</td>\n",
       "      <td>2798.0</td>\n",
       "      <td>598965.990673</td>\n",
       "    </tr>\n",
       "  </tbody>\n",
       "</table>\n",
       "</div>"
      ],
      "text/plain": [
       "     y_test  sqft_living  prediction_linear\n",
       "0  450000.0       1020.0      443141.990673\n",
       "1  279000.0       1780.0      281593.990673\n",
       "2  467000.0       3460.0      636733.990673\n",
       "3  828950.0       3930.0      945645.990673\n",
       "4  499950.0       2798.0      598965.990673"
      ]
     },
     "execution_count": 23,
     "metadata": {},
     "output_type": "execute_result"
    }
   ],
   "source": [
    "df_prediction = pd.DataFrame(y_test,columns=['y_test'])\n",
    "df_prediction['sqft_living'] = X_test[:,2] #capturing unscaled sqft_living for analysis\n",
    "df_prediction['prediction_linear'] = prediction_linear\n",
    "df_prediction.head()"
   ]
  },
  {
   "cell_type": "code",
   "execution_count": 24,
   "metadata": {},
   "outputs": [
    {
     "data": {
      "text/plain": [
       "<matplotlib.axes._subplots.AxesSubplot at 0x1ea8724f4c8>"
      ]
     },
     "execution_count": 24,
     "metadata": {},
     "output_type": "execute_result"
    },
    {
     "data": {
      "image/png": "[encoded data removed]",
      "text/plain": [
       "<Figure size 1080x360 with 1 Axes>"
      ]
     },
     "metadata": {
      "needs_background": "light"
     },
     "output_type": "display_data"
    }
   ],
   "source": [
    "df_prediction[['y_test','prediction_linear']].plot(figsize=(15,5))"
   ]
  },
  {
   "cell_type": "code",
   "execution_count": 25,
   "metadata": {},
   "outputs": [
    {
     "data": {
      "text/plain": [
       "<matplotlib.legend.Legend at 0x1ea872b8a88>"
      ]
     },
     "execution_count": 25,
     "metadata": {},
     "output_type": "execute_result"
    },
    {
     "data": {
      "image/png": "[encoded data removed]",
      "text/plain": [
       "<Figure size 1080x360 with 1 Axes>"
      ]
     },
     "metadata": {
      "needs_background": "light"
     },
     "output_type": "display_data"
    }
   ],
   "source": [
    "fig,ax=plt.subplots(figsize=(15,5))\n",
    "ax.scatter(df_prediction['sqft_living'],df_prediction['y_test'],label='Actual(y_test)')\n",
    "ax.scatter(df_prediction['sqft_living'],df_prediction['prediction_linear'],label='Predicted(prediction_linear)')\n",
    "plt.legend()"
   ]
  },
  {
   "cell_type": "code",
   "execution_count": 26,
   "metadata": {},
   "outputs": [
    {
     "data": {
      "text/html": [
       "<div>\n",
       "<style scoped>\n",
       "    .dataframe tbody tr th:only-of-type {\n",
       "        vertical-align: middle;\n",
       "    }\n",
       "\n",
       "    .dataframe tbody tr th {\n",
       "        vertical-align: top;\n",
       "    }\n",
       "\n",
       "    .dataframe thead th {\n",
       "        text-align: right;\n",
       "    }\n",
       "</style>\n",
       "<table border=\"1\" class=\"dataframe\">\n",
       "  <thead>\n",
       "    <tr style=\"text-align: right;\">\n",
       "      <th></th>\n",
       "      <th>count</th>\n",
       "      <th>mean</th>\n",
       "      <th>std</th>\n",
       "      <th>min</th>\n",
       "      <th>25%</th>\n",
       "      <th>50%</th>\n",
       "      <th>75%</th>\n",
       "      <th>max</th>\n",
       "    </tr>\n",
       "  </thead>\n",
       "  <tbody>\n",
       "    <tr>\n",
       "      <th>y_test</th>\n",
       "      <td>6480.0</td>\n",
       "      <td>537559.143364</td>\n",
       "      <td>358184.358280</td>\n",
       "      <td>78000.000000</td>\n",
       "      <td>320000.000000</td>\n",
       "      <td>450000.000000</td>\n",
       "      <td>645000.000000</td>\n",
       "      <td>7.060000e+06</td>\n",
       "    </tr>\n",
       "    <tr>\n",
       "      <th>prediction_linear</th>\n",
       "      <td>6480.0</td>\n",
       "      <td>539824.715287</td>\n",
       "      <td>306299.680049</td>\n",
       "      <td>-205582.009327</td>\n",
       "      <td>336870.990673</td>\n",
       "      <td>488377.990673</td>\n",
       "      <td>683457.990673</td>\n",
       "      <td>3.179806e+06</td>\n",
       "    </tr>\n",
       "  </tbody>\n",
       "</table>\n",
       "</div>"
      ],
      "text/plain": [
       "                    count           mean            std            min  \\\n",
       "y_test             6480.0  537559.143364  358184.358280   78000.000000   \n",
       "prediction_linear  6480.0  539824.715287  306299.680049 -205582.009327   \n",
       "\n",
       "                             25%            50%            75%           max  \n",
       "y_test             320000.000000  450000.000000  645000.000000  7.060000e+06  \n",
       "prediction_linear  336870.990673  488377.990673  683457.990673  3.179806e+06  "
      ]
     },
     "execution_count": 26,
     "metadata": {},
     "output_type": "execute_result"
    }
   ],
   "source": [
    "df_prediction[['y_test','prediction_linear']].describe().transpose()"
   ]
  },
  {
   "cell_type": "code",
   "execution_count": 27,
   "metadata": {},
   "outputs": [
    {
     "data": {
      "text/html": [
       "<div>\n",
       "<style scoped>\n",
       "    .dataframe tbody tr th:only-of-type {\n",
       "        vertical-align: middle;\n",
       "    }\n",
       "\n",
       "    .dataframe tbody tr th {\n",
       "        vertical-align: top;\n",
       "    }\n",
       "\n",
       "    .dataframe thead th {\n",
       "        text-align: right;\n",
       "    }\n",
       "</style>\n",
       "<table border=\"1\" class=\"dataframe\">\n",
       "  <thead>\n",
       "    <tr style=\"text-align: right;\">\n",
       "      <th></th>\n",
       "      <th>y_test</th>\n",
       "      <th>sqft_living</th>\n",
       "      <th>prediction_linear</th>\n",
       "    </tr>\n",
       "  </thead>\n",
       "  <tbody>\n",
       "    <tr>\n",
       "      <th>679</th>\n",
       "      <td>229050.0</td>\n",
       "      <td>420.0</td>\n",
       "      <td>-13416.009327</td>\n",
       "    </tr>\n",
       "    <tr>\n",
       "      <th>1134</th>\n",
       "      <td>169950.0</td>\n",
       "      <td>840.0</td>\n",
       "      <td>-2226.009327</td>\n",
       "    </tr>\n",
       "    <tr>\n",
       "      <th>1479</th>\n",
       "      <td>100000.0</td>\n",
       "      <td>660.0</td>\n",
       "      <td>-74986.009327</td>\n",
       "    </tr>\n",
       "    <tr>\n",
       "      <th>1547</th>\n",
       "      <td>241000.0</td>\n",
       "      <td>1010.0</td>\n",
       "      <td>-32514.009327</td>\n",
       "    </tr>\n",
       "    <tr>\n",
       "      <th>1640</th>\n",
       "      <td>128750.0</td>\n",
       "      <td>880.0</td>\n",
       "      <td>-133116.009327</td>\n",
       "    </tr>\n",
       "  </tbody>\n",
       "</table>\n",
       "</div>"
      ],
      "text/plain": [
       "        y_test  sqft_living  prediction_linear\n",
       "679   229050.0        420.0      -13416.009327\n",
       "1134  169950.0        840.0       -2226.009327\n",
       "1479  100000.0        660.0      -74986.009327\n",
       "1547  241000.0       1010.0      -32514.009327\n",
       "1640  128750.0        880.0     -133116.009327"
      ]
     },
     "execution_count": 27,
     "metadata": {},
     "output_type": "execute_result"
    }
   ],
   "source": [
    "df_prediction[(df_prediction['prediction_linear']<0)].head() #negative price"
   ]
  },
  {
   "cell_type": "markdown",
   "metadata": {},
   "source": [
    "Things to watch out\n",
    "- Linear model is ok with predicting houses with lower prices\n",
    "- Model is completely failing in predicting price over 1.5 millions.\n",
    "- There are cases where model is predicting price in negative value and this is strange\n",
    "\n",
    "As we analyzed earlier in price distribution, there are **outliers** which is making this model to behave pretty bad specially for high prices.\n",
    "\n",
    "Maximum value predicted by model is around 3 million and actual value is around 7.7 million"
   ]
  },
  {
   "cell_type": "markdown",
   "metadata": {},
   "source": [
    "## Ridge Model"
   ]
  },
  {
   "cell_type": "code",
   "execution_count": 28,
   "metadata": {},
   "outputs": [
    {
     "name": "stdout",
     "output_type": "stream",
     "text": [
      "RMSE for Ridge model= 197670.80904886266\n",
      "Average Price= 537559.1433641976\n"
     ]
    }
   ],
   "source": [
    "model_ridge = Ridge(alpha=1) #have tried for different values of alpha\n",
    "model_ridge.fit(X_train_scaled,y_train)\n",
    "prediction_ridge = model_ridge.predict(X_test_scaled)\n",
    "print('RMSE for Ridge model= '+ str(np.sqrt(mean_squared_error(y_test,prediction_ridge))))\n",
    "print('Average Price= '+ str(np.mean(y_test)))"
   ]
  },
  {
   "cell_type": "code",
   "execution_count": 29,
   "metadata": {},
   "outputs": [
    {
     "data": {
      "text/html": [
       "<div>\n",
       "<style scoped>\n",
       "    .dataframe tbody tr th:only-of-type {\n",
       "        vertical-align: middle;\n",
       "    }\n",
       "\n",
       "    .dataframe tbody tr th {\n",
       "        vertical-align: top;\n",
       "    }\n",
       "\n",
       "    .dataframe thead th {\n",
       "        text-align: right;\n",
       "    }\n",
       "</style>\n",
       "<table border=\"1\" class=\"dataframe\">\n",
       "  <thead>\n",
       "    <tr style=\"text-align: right;\">\n",
       "      <th></th>\n",
       "      <th>y_test</th>\n",
       "      <th>sqft_living</th>\n",
       "      <th>prediction_linear</th>\n",
       "      <th>prediction_ridge</th>\n",
       "    </tr>\n",
       "  </thead>\n",
       "  <tbody>\n",
       "    <tr>\n",
       "      <th>0</th>\n",
       "      <td>450000.0</td>\n",
       "      <td>1020.0</td>\n",
       "      <td>443141.990673</td>\n",
       "      <td>440314.812448</td>\n",
       "    </tr>\n",
       "    <tr>\n",
       "      <th>1</th>\n",
       "      <td>279000.0</td>\n",
       "      <td>1780.0</td>\n",
       "      <td>281593.990673</td>\n",
       "      <td>280634.607448</td>\n",
       "    </tr>\n",
       "    <tr>\n",
       "      <th>2</th>\n",
       "      <td>467000.0</td>\n",
       "      <td>3460.0</td>\n",
       "      <td>636733.990673</td>\n",
       "      <td>628768.082256</td>\n",
       "    </tr>\n",
       "    <tr>\n",
       "      <th>3</th>\n",
       "      <td>828950.0</td>\n",
       "      <td>3930.0</td>\n",
       "      <td>945645.990673</td>\n",
       "      <td>943887.129579</td>\n",
       "    </tr>\n",
       "    <tr>\n",
       "      <th>4</th>\n",
       "      <td>499950.0</td>\n",
       "      <td>2798.0</td>\n",
       "      <td>598965.990673</td>\n",
       "      <td>598582.820989</td>\n",
       "    </tr>\n",
       "  </tbody>\n",
       "</table>\n",
       "</div>"
      ],
      "text/plain": [
       "     y_test  sqft_living  prediction_linear  prediction_ridge\n",
       "0  450000.0       1020.0      443141.990673     440314.812448\n",
       "1  279000.0       1780.0      281593.990673     280634.607448\n",
       "2  467000.0       3460.0      636733.990673     628768.082256\n",
       "3  828950.0       3930.0      945645.990673     943887.129579\n",
       "4  499950.0       2798.0      598965.990673     598582.820989"
      ]
     },
     "execution_count": 29,
     "metadata": {},
     "output_type": "execute_result"
    }
   ],
   "source": [
    "df_prediction['prediction_ridge'] = prediction_ridge\n",
    "df_prediction.head()"
   ]
  },
  {
   "cell_type": "code",
   "execution_count": 30,
   "metadata": {},
   "outputs": [
    {
     "data": {
      "text/plain": [
       "<matplotlib.legend.Legend at 0x1ea892de788>"
      ]
     },
     "execution_count": 30,
     "metadata": {},
     "output_type": "execute_result"
    },
    {
     "data": {
      "image/png": "[encoded data removed]",
      "text/plain": [
       "<Figure size 1080x360 with 1 Axes>"
      ]
     },
     "metadata": {
      "needs_background": "light"
     },
     "output_type": "display_data"
    }
   ],
   "source": [
    "fig,ax=plt.subplots(figsize=(15,5))\n",
    "ax.scatter(df_prediction['sqft_living'],df_prediction['y_test'],label='Actual(y_test)')\n",
    "ax.scatter(df_prediction['sqft_living'],df_prediction['prediction_ridge'],label='Predicted(prediction_ridge)')\n",
    "plt.legend()"
   ]
  },
  {
   "cell_type": "code",
   "execution_count": 31,
   "metadata": {},
   "outputs": [
    {
     "name": "stdout",
     "output_type": "stream",
     "text": [
      "29\n"
     ]
    },
    {
     "data": {
      "text/html": [
       "<div>\n",
       "<style scoped>\n",
       "    .dataframe tbody tr th:only-of-type {\n",
       "        vertical-align: middle;\n",
       "    }\n",
       "\n",
       "    .dataframe tbody tr th {\n",
       "        vertical-align: top;\n",
       "    }\n",
       "\n",
       "    .dataframe thead th {\n",
       "        text-align: right;\n",
       "    }\n",
       "</style>\n",
       "<table border=\"1\" class=\"dataframe\">\n",
       "  <thead>\n",
       "    <tr style=\"text-align: right;\">\n",
       "      <th></th>\n",
       "      <th>y_test</th>\n",
       "      <th>sqft_living</th>\n",
       "      <th>prediction_linear</th>\n",
       "      <th>prediction_ridge</th>\n",
       "    </tr>\n",
       "  </thead>\n",
       "  <tbody>\n",
       "    <tr>\n",
       "      <th>679</th>\n",
       "      <td>229050.0</td>\n",
       "      <td>420.0</td>\n",
       "      <td>-13416.009327</td>\n",
       "      <td>-17666.046709</td>\n",
       "    </tr>\n",
       "    <tr>\n",
       "      <th>1134</th>\n",
       "      <td>169950.0</td>\n",
       "      <td>840.0</td>\n",
       "      <td>-2226.009327</td>\n",
       "      <td>-1291.176252</td>\n",
       "    </tr>\n",
       "    <tr>\n",
       "      <th>1479</th>\n",
       "      <td>100000.0</td>\n",
       "      <td>660.0</td>\n",
       "      <td>-74986.009327</td>\n",
       "      <td>-78004.109721</td>\n",
       "    </tr>\n",
       "    <tr>\n",
       "      <th>1547</th>\n",
       "      <td>241000.0</td>\n",
       "      <td>1010.0</td>\n",
       "      <td>-32514.009327</td>\n",
       "      <td>-31672.069718</td>\n",
       "    </tr>\n",
       "    <tr>\n",
       "      <th>1640</th>\n",
       "      <td>128750.0</td>\n",
       "      <td>880.0</td>\n",
       "      <td>-133116.009327</td>\n",
       "      <td>-132331.173106</td>\n",
       "    </tr>\n",
       "  </tbody>\n",
       "</table>\n",
       "</div>"
      ],
      "text/plain": [
       "        y_test  sqft_living  prediction_linear  prediction_ridge\n",
       "679   229050.0        420.0      -13416.009327     -17666.046709\n",
       "1134  169950.0        840.0       -2226.009327      -1291.176252\n",
       "1479  100000.0        660.0      -74986.009327     -78004.109721\n",
       "1547  241000.0       1010.0      -32514.009327     -31672.069718\n",
       "1640  128750.0        880.0     -133116.009327    -132331.173106"
      ]
     },
     "execution_count": 31,
     "metadata": {},
     "output_type": "execute_result"
    }
   ],
   "source": [
    "print(sum((df_prediction['prediction_ridge']<0))) #prediction less than 0\n",
    "df_prediction[(df_prediction['prediction_ridge']<0)].head()"
   ]
  },
  {
   "cell_type": "markdown",
   "metadata": {},
   "source": [
    "Ridge is almost performing in similar lines as linear mode"
   ]
  },
  {
   "cell_type": "markdown",
   "metadata": {},
   "source": [
    "## Lasso Model"
   ]
  },
  {
   "cell_type": "code",
   "execution_count": 32,
   "metadata": {},
   "outputs": [
    {
     "name": "stdout",
     "output_type": "stream",
     "text": [
      "RMSE for Ridge model= 197575.2170456823\n",
      "Average Price= 537559.1433641976\n"
     ]
    },
    {
     "name": "stderr",
     "output_type": "stream",
     "text": [
      "C:\\Users\\rahul kushwaha\\Anaconda3\\lib\\site-packages\\sklearn\\linear_model\\_coordinate_descent.py:476: ConvergenceWarning: Objective did not converge. You might want to increase the number of iterations. Duality gap: 147961121056459.28, tolerance: 208328275002.44162\n",
      "  positive)\n"
     ]
    },
    {
     "data": {
      "text/html": [
       "<div>\n",
       "<style scoped>\n",
       "    .dataframe tbody tr th:only-of-type {\n",
       "        vertical-align: middle;\n",
       "    }\n",
       "\n",
       "    .dataframe tbody tr th {\n",
       "        vertical-align: top;\n",
       "    }\n",
       "\n",
       "    .dataframe thead th {\n",
       "        text-align: right;\n",
       "    }\n",
       "</style>\n",
       "<table border=\"1\" class=\"dataframe\">\n",
       "  <thead>\n",
       "    <tr style=\"text-align: right;\">\n",
       "      <th></th>\n",
       "      <th>y_test</th>\n",
       "      <th>sqft_living</th>\n",
       "      <th>prediction_linear</th>\n",
       "      <th>prediction_ridge</th>\n",
       "      <th>prediction_lasso</th>\n",
       "    </tr>\n",
       "  </thead>\n",
       "  <tbody>\n",
       "    <tr>\n",
       "      <th>0</th>\n",
       "      <td>450000.0</td>\n",
       "      <td>1020.0</td>\n",
       "      <td>443141.990673</td>\n",
       "      <td>440314.812448</td>\n",
       "      <td>442878.651191</td>\n",
       "    </tr>\n",
       "    <tr>\n",
       "      <th>1</th>\n",
       "      <td>279000.0</td>\n",
       "      <td>1780.0</td>\n",
       "      <td>281593.990673</td>\n",
       "      <td>280634.607448</td>\n",
       "      <td>281363.166503</td>\n",
       "    </tr>\n",
       "    <tr>\n",
       "      <th>2</th>\n",
       "      <td>467000.0</td>\n",
       "      <td>3460.0</td>\n",
       "      <td>636733.990673</td>\n",
       "      <td>628768.082256</td>\n",
       "      <td>636440.449113</td>\n",
       "    </tr>\n",
       "    <tr>\n",
       "      <th>3</th>\n",
       "      <td>828950.0</td>\n",
       "      <td>3930.0</td>\n",
       "      <td>945645.990673</td>\n",
       "      <td>943887.129579</td>\n",
       "      <td>945385.919669</td>\n",
       "    </tr>\n",
       "    <tr>\n",
       "      <th>4</th>\n",
       "      <td>499950.0</td>\n",
       "      <td>2798.0</td>\n",
       "      <td>598965.990673</td>\n",
       "      <td>598582.820989</td>\n",
       "      <td>598731.257145</td>\n",
       "    </tr>\n",
       "  </tbody>\n",
       "</table>\n",
       "</div>"
      ],
      "text/plain": [
       "     y_test  sqft_living  prediction_linear  prediction_ridge  \\\n",
       "0  450000.0       1020.0      443141.990673     440314.812448   \n",
       "1  279000.0       1780.0      281593.990673     280634.607448   \n",
       "2  467000.0       3460.0      636733.990673     628768.082256   \n",
       "3  828950.0       3930.0      945645.990673     943887.129579   \n",
       "4  499950.0       2798.0      598965.990673     598582.820989   \n",
       "\n",
       "   prediction_lasso  \n",
       "0     442878.651191  \n",
       "1     281363.166503  \n",
       "2     636440.449113  \n",
       "3     945385.919669  \n",
       "4     598731.257145  "
      ]
     },
     "execution_count": 32,
     "metadata": {},
     "output_type": "execute_result"
    }
   ],
   "source": [
    "model_lasso = Lasso(alpha=.01,max_iter=5000) #have tried for different value of alpha\n",
    "model_lasso.fit(X_train_scaled,y_train)\n",
    "prediction_lasso = model_lasso.predict(X_test_scaled)\n",
    "print('RMSE for Ridge model= '+ str(np.sqrt(mean_squared_error(y_test,prediction_lasso))))\n",
    "print('Average Price= '+ str(np.mean(y_test)))\n",
    "df_prediction['prediction_lasso'] = prediction_lasso\n",
    "df_prediction.head()"
   ]
  },
  {
   "cell_type": "markdown",
   "metadata": {},
   "source": [
    "Same behaviour as Linear and Ridge"
   ]
  },
  {
   "cell_type": "markdown",
   "metadata": {},
   "source": [
    "## ANN"
   ]
  },
  {
   "cell_type": "code",
   "execution_count": 33,
   "metadata": {},
   "outputs": [],
   "source": [
    "model_ann = Sequential()\n",
    "model_ann.add(Dense(19,activation='relu'))\n",
    "model_ann.add(Dropout(0.2))\n",
    "\n",
    "model_ann.add(Dense(40,activation='relu'))\n",
    "model_ann.add(Dropout(0.3))\n",
    "\n",
    "model_ann.add(Dense(20,activation='relu'))\n",
    "model_ann.add(Dropout(0.3))\n",
    "\n",
    "model_ann.add(Dense(1))\n",
    "\n",
    "model_ann.compile(loss='mse',optimizer='adam')"
   ]
  },
  {
   "cell_type": "code",
   "execution_count": 34,
   "metadata": {},
   "outputs": [
    {
     "name": "stdout",
     "output_type": "stream",
     "text": [
      "Train on 15117 samples, validate on 6480 samples\n",
      "Epoch 1/200\n",
      "15117/15117 [==============================] - 1s 73us/sample - loss: 430996777730.4555 - val_loss: 417231558175.6049\n",
      "Epoch 2/200\n",
      "15117/15117 [==============================] - 0s 19us/sample - loss: 430909828320.4171 - val_loss: 416987902407.1111\n",
      "Epoch 3/200\n",
      "15117/15117 [==============================] - 0s 19us/sample - loss: 430132682368.8721 - val_loss: 415362338967.7037\n",
      "Epoch 4/200\n",
      "15117/15117 [==============================] - 0s 19us/sample - loss: 426827965296.5980 - val_loss: 409860983567.8025\n",
      "Epoch 5/200\n",
      "15117/15117 [==============================] - 0s 19us/sample - loss: 417915862316.0130 - val_loss: 396759484390.7161\n",
      "Epoch 6/200\n",
      "15117/15117 [==============================] - 0s 19us/sample - loss: 399320552822.9315 - val_loss: 372198972630.9136\n",
      "Epoch 7/200\n",
      "15117/15117 [==============================] - 0s 19us/sample - loss: 367280785540.6316 - val_loss: 333152569318.7161\n",
      "Epoch 8/200\n",
      "15117/15117 [==============================] - 0s 18us/sample - loss: 321987390796.7983 - val_loss: 281331986785.9753\n",
      "Epoch 9/200\n",
      "15117/15117 [==============================] - 0s 18us/sample - loss: 266207784503.9857 - val_loss: 222750651733.3333\n",
      "Epoch 10/200\n",
      "15117/15117 [==============================] - 0s 18us/sample - loss: 209973867524.8094 - val_loss: 168191914439.1111\n",
      "Epoch 11/200\n",
      "15117/15117 [==============================] - 0s 18us/sample - loss: 163198895825.4807 - val_loss: 128844553658.4691\n",
      "Epoch 12/200\n",
      "15117/15117 [==============================] - 0s 18us/sample - loss: 135499951295.9026 - val_loss: 107231909761.5802\n",
      "Epoch 13/200\n",
      "15117/15117 [==============================] - 0s 19us/sample - loss: 125216545127.9614 - val_loss: 98584662117.1358\n",
      "Epoch 14/200\n",
      "15117/15117 [==============================] - 0s 19us/sample - loss: 120815734338.2819 - val_loss: 95545475830.5185\n",
      "Epoch 15/200\n",
      "15117/15117 [==============================] - 0s 19us/sample - loss: 122252224732.4205 - val_loss: 94088083531.8519\n",
      "Epoch 16/200\n",
      "15117/15117 [==============================] - 0s 19us/sample - loss: 119556647844.4855 - val_loss: 93155868444.4444\n",
      "Epoch 17/200\n",
      "15117/15117 [==============================] - 0s 19us/sample - loss: 116669866147.1138 - val_loss: 92306543856.1975\n",
      "Epoch 18/200\n",
      "15117/15117 [==============================] - 0s 19us/sample - loss: 117282902424.3265 - val_loss: 91713422196.9383\n",
      "Epoch 19/200\n",
      "15117/15117 [==============================] - 0s 19us/sample - loss: 114798024863.9979 - val_loss: 90968799611.2593\n",
      "Epoch 20/200\n",
      "15117/15117 [==============================] - 0s 18us/sample - loss: 115044559714.9149 - val_loss: 90370723435.4568\n",
      "Epoch 21/200\n",
      "15117/15117 [==============================] - 0s 18us/sample - loss: 115267362881.5707 - val_loss: 89611643107.5556\n",
      "Epoch 22/200\n",
      "15117/15117 [==============================] - 0s 18us/sample - loss: 114035962490.3015 - val_loss: 88835258873.6790\n",
      "Epoch 23/200\n",
      "15117/15117 [==============================] - 0s 18us/sample - loss: 113222891110.9961 - val_loss: 88230410872.0988\n",
      "Epoch 24/200\n",
      "15117/15117 [==============================] - 0s 19us/sample - loss: 112972649562.9725 - val_loss: 87477464430.6173\n",
      "Epoch 25/200\n",
      "15117/15117 [==============================] - 0s 22us/sample - loss: 111721707797.0497 - val_loss: 86684790784.0000\n",
      "Epoch 26/200\n",
      "15117/15117 [==============================] - 0s 19us/sample - loss: 110812868559.4994 - val_loss: 85997653282.7654\n",
      "Epoch 27/200\n",
      "15117/15117 [==============================] - 0s 19us/sample - loss: 108876085882.7079 - val_loss: 85054853195.8519\n",
      "Epoch 28/200\n",
      "15117/15117 [==============================] - 0s 19us/sample - loss: 108438460277.4074 - val_loss: 84353111735.3086\n",
      "Epoch 29/200\n",
      "15117/15117 [==============================] - 0s 19us/sample - loss: 109175698796.6353 - val_loss: 83590176641.5802\n",
      "Epoch 30/200\n",
      "15117/15117 [==============================] - 0s 21us/sample - loss: 106936732623.8381 - val_loss: 82735842468.3457\n",
      "Epoch 31/200\n",
      "15117/15117 [==============================] - 0s 21us/sample - loss: 108381244506.5661 - val_loss: 82104608414.0247\n",
      "Epoch 32/200\n",
      "15117/15117 [==============================] - 0s 22us/sample - loss: 106655068898.3476 - val_loss: 81310980955.6543\n",
      "Epoch 33/200\n",
      "15117/15117 [==============================] - 0s 20us/sample - loss: 105391613911.2215 - val_loss: 80215352079.8025\n",
      "Epoch 34/200\n",
      "15117/15117 [==============================] - 0s 21us/sample - loss: 103244146899.7500 - val_loss: 79352820773.9259\n",
      "Epoch 35/200\n",
      "15117/15117 [==============================] - 0s 21us/sample - loss: 103315689999.0040 - val_loss: 78338409105.3827\n",
      "Epoch 36/200\n",
      "15117/15117 [==============================] - 0s 21us/sample - loss: 103017109177.3659 - val_loss: 77505122202.8642\n",
      "Epoch 37/200\n",
      "15117/15117 [==============================] - 0s 20us/sample - loss: 101216901374.8315 - val_loss: 76555402682.4691\n",
      "Epoch 38/200\n",
      "15117/15117 [==============================] - 0s 20us/sample - loss: 102214798809.1521 - val_loss: 75650814912.7901\n",
      "Epoch 39/200\n",
      "15117/15117 [==============================] - 0s 23us/sample - loss: 99935110536.0016 - val_loss: 74662715063.3086\n",
      "Epoch 40/200\n",
      "15117/15117 [==============================] - 0s 20us/sample - loss: 99754705502.9352 - val_loss: 73725749905.3827\n",
      "Epoch 41/200\n",
      "15117/15117 [==============================] - 0s 20us/sample - loss: 98188691828.6962 - val_loss: 72721860443.6543\n",
      "Epoch 42/200\n",
      "15117/15117 [==============================] - 0s 20us/sample - loss: 95554989572.7756 - val_loss: 71696045852.4444\n",
      "Epoch 43/200\n",
      "15117/15117 [==============================] - 0s 20us/sample - loss: 92682051208.4588 - val_loss: 70716872122.4691\n",
      "Epoch 44/200\n",
      "15117/15117 [==============================] - 0s 20us/sample - loss: 93930748461.7572 - val_loss: 69793396900.3457\n",
      "Epoch 45/200\n",
      "15117/15117 [==============================] - 0s 20us/sample - loss: 94618292409.6030 - val_loss: 68692348713.0864\n",
      "Epoch 46/200\n",
      "15117/15117 [==============================] - 0s 20us/sample - loss: 91232032880.8520 - val_loss: 67595916427.0617\n",
      "Epoch 47/200\n",
      "15117/15117 [==============================] - 0s 20us/sample - loss: 90134911636.9904 - val_loss: 66560278275.1605\n",
      "Epoch 48/200\n",
      "15117/15117 [==============================] - 0s 20us/sample - loss: 90737246305.5432 - val_loss: 65834063695.0123\n",
      "Epoch 49/200\n",
      "15117/15117 [==============================] - 0s 19us/sample - loss: 89106023394.1274 - val_loss: 64561518642.5679\n",
      "Epoch 50/200\n",
      "15117/15117 [==============================] - 0s 20us/sample - loss: 87229061216.8658 - val_loss: 63515022310.7160\n",
      "Epoch 51/200\n",
      "15117/15117 [==============================] - 0s 20us/sample - loss: 86892737709.3423 - val_loss: 62587012209.7778\n",
      "Epoch 52/200\n",
      "15117/15117 [==============================] - 0s 19us/sample - loss: 87365955868.2299 - val_loss: 61789165201.3827\n",
      "Epoch 53/200\n",
      "15117/15117 [==============================] - 0s 22us/sample - loss: 84206205719.8608 - val_loss: 60632110080.0000\n",
      "Epoch 54/200\n",
      "15117/15117 [==============================] - 0s 19us/sample - loss: 82556717799.9021 - val_loss: 59752930670.6173\n",
      "Epoch 55/200\n",
      "15117/15117 [==============================] - 0s 19us/sample - loss: 82783292267.0435 - val_loss: 58799402363.2593\n",
      "Epoch 56/200\n",
      "15117/15117 [==============================] - 0s 26us/sample - loss: 81869516869.6350 - val_loss: 58180677088.3951\n",
      "Epoch 57/200\n",
      "15117/15117 [==============================] - 0s 24us/sample - loss: 83560350547.8770 - val_loss: 57430101308.0494\n",
      "Epoch 58/200\n",
      "15117/15117 [==============================] - 0s 24us/sample - loss: 81557536928.4043 - val_loss: 56512001946.8642\n",
      "Epoch 59/200\n",
      "15117/15117 [==============================] - 0s 24us/sample - loss: 79599139336.3657 - val_loss: 56184572523.4568\n",
      "Epoch 60/200\n",
      "15117/15117 [==============================] - 0s 24us/sample - loss: 79334626539.6616 - val_loss: 55349334698.6667\n",
      "Epoch 61/200\n",
      "15117/15117 [==============================] - 0s 29us/sample - loss: 77353301714.8355 - val_loss: 54709911665.7778\n",
      "Epoch 62/200\n",
      "15117/15117 [==============================] - 0s 24us/sample - loss: 78199039711.4348 - val_loss: 54025376679.5062\n",
      "Epoch 63/200\n",
      "15117/15117 [==============================] - 0s 25us/sample - loss: 75676674631.4978 - val_loss: 53544331251.3580\n"
     ]
    },
    {
     "name": "stdout",
     "output_type": "stream",
     "text": [
      "Epoch 64/200\n",
      "15117/15117 [==============================] - 0s 24us/sample - loss: 78617541243.7918 - val_loss: 53015430851.9506\n",
      "Epoch 65/200\n",
      "15117/15117 [==============================] - 0s 23us/sample - loss: 74970698062.0853 - val_loss: 52388467446.5185\n",
      "Epoch 66/200\n",
      "15117/15117 [==============================] - 0s 25us/sample - loss: 74946953995.2615 - val_loss: 52009997969.3827\n",
      "Epoch 67/200\n",
      "15117/15117 [==============================] - 0s 28us/sample - loss: 75038208707.5944 - val_loss: 51922413011.7531\n",
      "Epoch 68/200\n",
      "15117/15117 [==============================] - 0s 22us/sample - loss: 76776120992.5059 - val_loss: 51242270087.9012\n",
      "Epoch 69/200\n",
      "15117/15117 [==============================] - 0s 20us/sample - loss: 73957672432.5895 - val_loss: 50821848076.6420\n",
      "Epoch 70/200\n",
      "15117/15117 [==============================] - 0s 23us/sample - loss: 73103517866.0232 - val_loss: 50393352078.2222\n",
      "Epoch 71/200\n",
      "15117/15117 [==============================] - 0s 20us/sample - loss: 73585766224.1514 - val_loss: 50209341250.3704\n",
      "Epoch 72/200\n",
      "15117/15117 [==============================] - 0s 22us/sample - loss: 72462915204.2590 - val_loss: 50188263891.7531\n",
      "Epoch 73/200\n",
      "15117/15117 [==============================] - 0s 27us/sample - loss: 73996682368.6350 - val_loss: 49762278147.1605\n",
      "Epoch 74/200\n",
      "15117/15117 [==============================] - 0s 20us/sample - loss: 71619008814.5193 - val_loss: 49319679582.8148\n",
      "Epoch 75/200\n",
      "15117/15117 [==============================] - 0s 19us/sample - loss: 73093723348.3596 - val_loss: 48856000069.5309\n",
      "Epoch 76/200\n",
      "15117/15117 [==============================] - 0s 19us/sample - loss: 71973213942.6013 - val_loss: 48585190526.4198\n",
      "Epoch 77/200\n",
      "15117/15117 [==============================] - 0s 20us/sample - loss: 72237604374.6585 - val_loss: 48359842183.9012\n",
      "Epoch 78/200\n",
      "15117/15117 [==============================] - 1s 34us/sample - loss: 68729514827.3419 - val_loss: 48302086055.5062\n",
      "Epoch 79/200\n",
      "15117/15117 [==============================] - 0s 27us/sample - loss: 70870200610.1909 - val_loss: 47891182794.2716\n",
      "Epoch 80/200\n",
      "15117/15117 [==============================] - 0s 23us/sample - loss: 72307433185.8734 - val_loss: 48018226517.3333\n",
      "Epoch 81/200\n",
      "15117/15117 [==============================] - 0s 21us/sample - loss: 69669282885.8382 - val_loss: 47542804366.2222\n",
      "Epoch 82/200\n",
      "15117/15117 [==============================] - 0s 20us/sample - loss: 70905869744.1027 - val_loss: 47304059335.1111\n",
      "Epoch 83/200\n",
      "15117/15117 [==============================] - 0s 20us/sample - loss: 69327643601.3283 - val_loss: 47256644026.4691\n",
      "Epoch 84/200\n",
      "15117/15117 [==============================] - 0s 20us/sample - loss: 69698798393.8654 - val_loss: 47083064105.0864\n",
      "Epoch 85/200\n",
      "15117/15117 [==============================] - 0s 20us/sample - loss: 68839143148.8470 - val_loss: 46915225587.3580\n",
      "Epoch 86/200\n",
      "15117/15117 [==============================] - 1s 36us/sample - loss: 71120150314.7598 - val_loss: 46676419457.5802\n",
      "Epoch 87/200\n",
      "15117/15117 [==============================] - 0s 28us/sample - loss: 70792887245.9414 - val_loss: 46378472536.4938\n",
      "Epoch 88/200\n",
      "15117/15117 [==============================] - 0s 23us/sample - loss: 68797241789.3116 - val_loss: 46467724844.2469\n",
      "Epoch 89/200\n",
      "15117/15117 [==============================] - 0s 22us/sample - loss: 69542104263.4893 - val_loss: 46169584538.8642\n",
      "Epoch 90/200\n",
      "15117/15117 [==============================] - 0s 25us/sample - loss: 69037686518.1949 - val_loss: 46057806405.5309\n",
      "Epoch 91/200\n",
      "15117/15117 [==============================] - 0s 32us/sample - loss: 68462460039.2734 - val_loss: 45660260794.4691\n",
      "Epoch 92/200\n",
      "15117/15117 [==============================] - 0s 25us/sample - loss: 68192992603.7007 - val_loss: 45469137882.0741\n",
      "Epoch 93/200\n",
      "15117/15117 [==============================] - 1s 34us/sample - loss: 70532584322.7519 - val_loss: 45635588551.1111\n",
      "Epoch 94/200\n",
      "15117/15117 [==============================] - 0s 21us/sample - loss: 68479046847.7672 - val_loss: 45299258582.9136\n",
      "Epoch 95/200\n",
      "15117/15117 [==============================] - 0s 21us/sample - loss: 68711748416.3683 - val_loss: 45267521662.4198\n",
      "Epoch 96/200\n",
      "15117/15117 [==============================] - 0s 21us/sample - loss: 68472651068.2702 - val_loss: 45259452782.6173\n",
      "Epoch 97/200\n",
      "15117/15117 [==============================] - 0s 21us/sample - loss: 69166668642.6439 - val_loss: 44993373007.0123\n",
      "Epoch 98/200\n",
      "15117/15117 [==============================] - 0s 21us/sample - loss: 68118455321.1309 - val_loss: 44864410573.4321\n",
      "Epoch 99/200\n",
      "15117/15117 [==============================] - 0s 20us/sample - loss: 68302868208.7758 - val_loss: 44574031872.0000\n",
      "Epoch 100/200\n",
      "15117/15117 [==============================] - 0s 21us/sample - loss: 70239587245.6980 - val_loss: 45047898339.5556\n",
      "Epoch 101/200\n",
      "15117/15117 [==============================] - 0s 21us/sample - loss: 66706635201.9178 - val_loss: 44411101866.6667\n",
      "Epoch 102/200\n",
      "15117/15117 [==============================] - 0s 23us/sample - loss: 67546546853.3831 - val_loss: 44209635694.6173\n",
      "Epoch 103/200\n",
      "15117/15117 [==============================] - 0s 22us/sample - loss: 67281455381.8625 - val_loss: 44359219667.7531\n",
      "Epoch 104/200\n",
      "15117/15117 [==============================] - 0s 21us/sample - loss: 67557362455.8608 - val_loss: 44187391898.8642\n",
      "Epoch 105/200\n",
      "15117/15117 [==============================] - 0s 20us/sample - loss: 68389553612.8237 - val_loss: 44318068976.1975\n",
      "Epoch 106/200\n",
      "15117/15117 [==============================] - 0s 31us/sample - loss: 66073410902.5526 - val_loss: 44062555881.8765\n",
      "Epoch 107/200\n",
      "15117/15117 [==============================] - 1s 39us/sample - loss: 66417784990.9141 - val_loss: 44192376579.1605\n",
      "Epoch 108/200\n",
      "15117/15117 [==============================] - 0s 25us/sample - loss: 65967745729.1558 - val_loss: 43889359050.2716\n",
      "Epoch 109/200\n",
      "15117/15117 [==============================] - 0s 18us/sample - loss: 66716567395.7955 - val_loss: 44081450262.1235\n",
      "Epoch 110/200\n",
      "15117/15117 [==============================] - 0s 18us/sample - loss: 67887391545.3235 - val_loss: 43687399310.2222\n",
      "Epoch 111/200\n",
      "15117/15117 [==============================] - 0s 18us/sample - loss: 67250851684.7438 - val_loss: 43884506756.7407\n",
      "Epoch 112/200\n",
      "15117/15117 [==============================] - 0s 18us/sample - loss: 66130583893.9430 - val_loss: 43595868678.3210\n",
      "Epoch 113/200\n",
      "15117/15117 [==============================] - 0s 18us/sample - loss: 67521163299.4949 - val_loss: 43675670629.1358\n",
      "Epoch 114/200\n",
      "15117/15117 [==============================] - 0s 18us/sample - loss: 65106236374.7474 - val_loss: 43277983073.9753\n",
      "Epoch 115/200\n",
      "15117/15117 [==============================] - 0s 18us/sample - loss: 66134260927.0898 - val_loss: 43623650215.5062\n",
      "Epoch 116/200\n",
      "15117/15117 [==============================] - 0s 19us/sample - loss: 66169405725.0428 - val_loss: 43529554665.8765\n",
      "Epoch 117/200\n",
      "15117/15117 [==============================] - 0s 19us/sample - loss: 67605969670.2489 - val_loss: 43291551718.7160\n",
      "Epoch 118/200\n",
      "15117/15117 [==============================] - 0s 19us/sample - loss: 69380955465.2759 - val_loss: 43302682093.0370\n",
      "Epoch 119/200\n",
      "15117/15117 [==============================] - 0s 19us/sample - loss: 65625425301.5492 - val_loss: 42976942004.1481\n",
      "Epoch 120/200\n",
      "15117/15117 [==============================] - 0s 19us/sample - loss: 64851379634.2703 - val_loss: 43058352481.9753\n",
      "Epoch 121/200\n",
      "15117/15117 [==============================] - 0s 18us/sample - loss: 66007296268.9211 - val_loss: 43160390150.3210\n",
      "Epoch 122/200\n",
      "15117/15117 [==============================] - 0s 18us/sample - loss: 66691688201.8390 - val_loss: 42781424728.4938\n",
      "Epoch 123/200\n",
      "15117/15117 [==============================] - 0s 19us/sample - loss: 66354427370.3576 - val_loss: 42703899458.3704\n",
      "Epoch 124/200\n",
      "15117/15117 [==============================] - 0s 19us/sample - loss: 65224046182.1832 - val_loss: 42802170968.4938\n",
      "Epoch 125/200\n",
      "15117/15117 [==============================] - 0s 19us/sample - loss: 65833011118.5786 - val_loss: 42762174514.5679\n",
      "Epoch 126/200\n",
      "15117/15117 [==============================] - 0s 18us/sample - loss: 65818632633.9247 - val_loss: 42336789655.7037\n",
      "Epoch 127/200\n"
     ]
    },
    {
     "name": "stdout",
     "output_type": "stream",
     "text": [
      "15117/15117 [==============================] - 0s 18us/sample - loss: 66627778692.0897 - val_loss: 42638170870.5185\n",
      "Epoch 128/200\n",
      "15117/15117 [==============================] - 0s 19us/sample - loss: 62804223153.9485 - val_loss: 42073324581.9259\n",
      "Epoch 129/200\n",
      "15117/15117 [==============================] - 0s 19us/sample - loss: 65815745569.5305 - val_loss: 42009497460.9383\n",
      "Epoch 130/200\n",
      "15117/15117 [==============================] - ETA: 0s - loss: 66427559333.647 - 0s 19us/sample - loss: 65671075898.9323 - val_loss: 41976731824.9877\n",
      "Epoch 131/200\n",
      "15117/15117 [==============================] - 0s 18us/sample - loss: 65179693804.3728 - val_loss: 42298984713.4815\n",
      "Epoch 132/200\n",
      "15117/15117 [==============================] - 0s 19us/sample - loss: 65885274658.2417 - val_loss: 42111126654.4198\n",
      "Epoch 133/200\n",
      "15117/15117 [==============================] - 0s 18us/sample - loss: 64670361015.1475 - val_loss: 41769934658.3704\n",
      "Epoch 134/200\n",
      "15117/15117 [==============================] - 0s 18us/sample - loss: 65198229123.4462 - val_loss: 41908129893.1358\n",
      "Epoch 135/200\n",
      "15117/15117 [==============================] - 0s 18us/sample - loss: 65056906002.7127 - val_loss: 42220102782.4198\n",
      "Epoch 136/200\n",
      "15117/15117 [==============================] - 0s 18us/sample - loss: 65605883678.7024 - val_loss: 41715729395.3580\n",
      "Epoch 137/200\n",
      "15117/15117 [==============================] - 0s 18us/sample - loss: 64840015506.2131 - val_loss: 41896481463.3086\n",
      "Epoch 138/200\n",
      "15117/15117 [==============================] - 0s 18us/sample - loss: 66695194131.5425 - val_loss: 41972271483.2593\n",
      "Epoch 139/200\n",
      "15117/15117 [==============================] - 0s 18us/sample - loss: 66404678010.9281 - val_loss: 41647599830.9136\n",
      "Epoch 140/200\n",
      "15117/15117 [==============================] - 0s 18us/sample - loss: 63576411772.2659 - val_loss: 41289429624.0988\n",
      "Epoch 141/200\n",
      "15117/15117 [==============================] - 0s 18us/sample - loss: 65574730270.5838 - val_loss: 41242040218.8642\n",
      "Epoch 142/200\n",
      "15117/15117 [==============================] - 0s 18us/sample - loss: 64595468291.2514 - val_loss: 41213703850.6667\n",
      "Epoch 143/200\n",
      "15117/15117 [==============================] - 0s 18us/sample - loss: 64150828570.8582 - val_loss: 41127926050.7654\n",
      "Epoch 144/200\n",
      "15117/15117 [==============================] - 0s 18us/sample - loss: 64610655161.3489 - val_loss: 41001379890.5679\n",
      "Epoch 145/200\n",
      "15117/15117 [==============================] - 0s 18us/sample - loss: 64393022070.9146 - val_loss: 40880347565.8272\n",
      "Epoch 146/200\n",
      "15117/15117 [==============================] - 0s 18us/sample - loss: 63000832776.9584 - val_loss: 41179842307.1605\n",
      "Epoch 147/200\n",
      "15117/15117 [==============================] - 0s 18us/sample - loss: 65098715621.2772 - val_loss: 41349170378.2716\n",
      "Epoch 148/200\n",
      "15117/15117 [==============================] - 0s 18us/sample - loss: 64731373942.9993 - val_loss: 40864185356.6420\n",
      "Epoch 149/200\n",
      "15117/15117 [==============================] - 0s 18us/sample - loss: 63023378374.2870 - val_loss: 40877955072.0000\n",
      "Epoch 150/200\n",
      "15117/15117 [==============================] - 0s 18us/sample - loss: 62450878020.0431 - val_loss: 40411647519.6049\n",
      "Epoch 151/200\n",
      "15117/15117 [==============================] - 0s 18us/sample - loss: 63880815183.2200 - val_loss: 40610766228.5432\n",
      "Epoch 152/200\n",
      "15117/15117 [==============================] - 0s 18us/sample - loss: 62526004046.3224 - val_loss: 40434135962.8642\n",
      "Epoch 153/200\n",
      "15117/15117 [==============================] - 0s 18us/sample - loss: 63223689142.8426 - val_loss: 40588745829.1358\n",
      "Epoch 154/200\n",
      "15117/15117 [==============================] - 0s 18us/sample - loss: 64214611493.9673 - val_loss: 40500399634.9630\n",
      "Epoch 155/200\n",
      "15117/15117 [==============================] - 0s 18us/sample - loss: 63533975753.9956 - val_loss: 40181816067.1605\n",
      "Epoch 156/200\n",
      "15117/15117 [==============================] - 0s 18us/sample - loss: 62469178387.1699 - val_loss: 40569985921.5802\n",
      "Epoch 157/200\n",
      "15117/15117 [==============================] - 0s 18us/sample - loss: 64817456814.7987 - val_loss: 40103090466.7654\n",
      "Epoch 158/200\n",
      "15117/15117 [==============================] - 0s 18us/sample - loss: 62993824588.1548 - val_loss: 40228919649.9753\n",
      "Epoch 159/200\n",
      "15117/15117 [==============================] - 0s 18us/sample - loss: 63346931585.3294 - val_loss: 40169173219.5556\n",
      "Epoch 160/200\n",
      "15117/15117 [==============================] - 0s 18us/sample - loss: 62183938745.0272 - val_loss: 40062736295.5062\n",
      "Epoch 161/200\n",
      "15117/15117 [==============================] - 0s 18us/sample - loss: 61546310293.2614 - val_loss: 40011329738.2716\n",
      "Epoch 162/200\n",
      "15117/15117 [==============================] - 0s 18us/sample - loss: 62153783173.8001 - val_loss: 39796727213.8272\n",
      "Epoch 163/200\n",
      "15117/15117 [==============================] - 0s 18us/sample - loss: 62796615920.0646 - val_loss: 39709597822.4198\n",
      "Epoch 164/200\n",
      "15117/15117 [==============================] - 0s 19us/sample - loss: 64143040083.6229 - val_loss: 39427757195.0617\n",
      "Epoch 165/200\n",
      "15117/15117 [==============================] - 0s 18us/sample - loss: 63451656394.9440 - val_loss: 39379538198.1235\n",
      "Epoch 166/200\n",
      "15117/15117 [==============================] - 0s 20us/sample - loss: 64279939728.1133 - val_loss: 39680816494.6173\n",
      "Epoch 167/200\n",
      "15117/15117 [==============================] - 0s 22us/sample - loss: 61044397659.0742 - val_loss: 39182790769.7778\n",
      "Epoch 168/200\n",
      "15117/15117 [==============================] - 0s 21us/sample - loss: 62806342310.4669 - val_loss: 39607470977.5802\n",
      "Epoch 169/200\n",
      "15117/15117 [==============================] - 0s 20us/sample - loss: 60411134121.0748 - val_loss: 39125130050.3704\n",
      "Epoch 170/200\n",
      "15117/15117 [==============================] - 0s 18us/sample - loss: 60524175051.1133 - val_loss: 39409559008.3951\n",
      "Epoch 171/200\n",
      "15117/15117 [==============================] - 0s 18us/sample - loss: 63070434252.1802 - val_loss: 38986249329.7778\n",
      "Epoch 172/200\n",
      "15117/15117 [==============================] - 0s 18us/sample - loss: 60816234073.9903 - val_loss: 39034325535.6049\n",
      "Epoch 173/200\n",
      "15117/15117 [==============================] - 0s 18us/sample - loss: 62706449803.9304 - val_loss: 38878047004.4444\n",
      "Epoch 174/200\n",
      "15117/15117 [==============================] - 0s 18us/sample - loss: 63464930131.7415 - val_loss: 38769245133.4321\n",
      "Epoch 175/200\n",
      "15117/15117 [==============================] - 0s 18us/sample - loss: 64850796346.4751 - val_loss: 38807550482.9630\n",
      "Epoch 176/200\n",
      "15117/15117 [==============================] - 0s 18us/sample - loss: 61625415395.0927 - val_loss: 38659036185.2840\n",
      "Epoch 177/200\n",
      "15117/15117 [==============================] - 0s 18us/sample - loss: 63798098591.8285 - val_loss: 38915239910.7160\n",
      "Epoch 178/200\n",
      "15117/15117 [==============================] - 0s 18us/sample - loss: 63584472899.5520 - val_loss: 38975501387.8519\n",
      "Epoch 179/200\n",
      "15117/15117 [==============================] - 0s 18us/sample - loss: 62379367045.8170 - val_loss: 38628079224.0988\n",
      "Epoch 180/200\n",
      "15117/15117 [==============================] - 0s 18us/sample - loss: 61326283238.9030 - val_loss: 38467051026.9630\n",
      "Epoch 181/200\n",
      "15117/15117 [==============================] - 0s 18us/sample - loss: 61230535450.9768 - val_loss: 38409216404.5432\n",
      "Epoch 182/200\n",
      "15117/15117 [==============================] - 0s 18us/sample - loss: 63287448185.4887 - val_loss: 38319633003.4568\n",
      "Epoch 183/200\n",
      "15117/15117 [==============================] - 0s 18us/sample - loss: 61416590338.7773 - val_loss: 38575507683.5556\n",
      "Epoch 184/200\n",
      "15117/15117 [==============================] - 0s 18us/sample - loss: 63118187144.2556 - val_loss: 38677600786.9630\n",
      "Epoch 185/200\n",
      "15117/15117 [==============================] - 0s 18us/sample - loss: 60053280771.9288 - val_loss: 38414983382.9136\n",
      "Epoch 186/200\n",
      "15117/15117 [==============================] - 0s 18us/sample - loss: 60382755213.8948 - val_loss: 38395853887.2099\n",
      "Epoch 187/200\n",
      "15117/15117 [==============================] - 0s 18us/sample - loss: 61756468683.0625 - val_loss: 38217467448.8889\n",
      "Epoch 188/200\n",
      "15117/15117 [==============================] - 0s 18us/sample - loss: 63183183865.4971 - val_loss: 38182333098.6667\n",
      "Epoch 189/200\n",
      "15117/15117 [==============================] - 0s 18us/sample - loss: 64169136159.1596 - val_loss: 37891381058.3704\n"
     ]
    },
    {
     "name": "stdout",
     "output_type": "stream",
     "text": [
      "Epoch 190/200\n",
      "15117/15117 [==============================] - 0s 18us/sample - loss: 61200582829.8165 - val_loss: 37984443922.9630\n",
      "Epoch 191/200\n",
      "15117/15117 [==============================] - 0s 18us/sample - loss: 62388222258.0417 - val_loss: 38411507256.8889\n",
      "Epoch 192/200\n",
      "15117/15117 [==============================] - 0s 18us/sample - loss: 61507175419.8680 - val_loss: 38017957306.4691\n",
      "Epoch 193/200\n",
      "15117/15117 [==============================] - 0s 18us/sample - loss: 59804375745.1558 - val_loss: 37954930852.3457\n",
      "Epoch 194/200\n",
      "15117/15117 [==============================] - 0s 18us/sample - loss: 62189881551.2792 - val_loss: 37771618860.2469\n",
      "Epoch 195/200\n",
      "15117/15117 [==============================] - 0s 18us/sample - loss: 60371332302.8051 - val_loss: 37946003316.9383\n",
      "Epoch 196/200\n",
      "15117/15117 [==============================] - 0s 18us/sample - loss: 61300072102.2637 - val_loss: 38182561400.0988\n",
      "Epoch 197/200\n",
      "15117/15117 [==============================] - 0s 18us/sample - loss: 61735901392.6340 - val_loss: 37654689526.5185\n",
      "Epoch 198/200\n",
      "15117/15117 [==============================] - 0s 18us/sample - loss: 61627677890.0703 - val_loss: 37568689708.2469\n",
      "Epoch 199/200\n",
      "15117/15117 [==============================] - 0s 19us/sample - loss: 61608174026.1819 - val_loss: 38034213382.3210\n",
      "Epoch 200/200\n",
      "15117/15117 [==============================] - 0s 18us/sample - loss: 60810730698.1988 - val_loss: 37865942306.7654\n"
     ]
    },
    {
     "data": {
      "text/plain": [
       "<tensorflow.python.keras.callbacks.History at 0x1ea8b7e0848>"
      ]
     },
     "execution_count": 34,
     "metadata": {},
     "output_type": "execute_result"
    }
   ],
   "source": [
    "model_ann.fit(x=X_train_scaled,y=y_train,\n",
    "             validation_data=(X_test_scaled,y_test),\n",
    "              epochs=200,\n",
    "              batch_size=200\n",
    "             )"
   ]
  },
  {
   "cell_type": "code",
   "execution_count": 35,
   "metadata": {},
   "outputs": [
    {
     "data": {
      "text/plain": [
       "<matplotlib.axes._subplots.AxesSubplot at 0x1ea8cdb1488>"
      ]
     },
     "execution_count": 35,
     "metadata": {},
     "output_type": "execute_result"
    },
    {
     "data": {
      "image/png": "[encoded data removed]",
      "text/plain": [
       "<Figure size 432x288 with 1 Axes>"
      ]
     },
     "metadata": {
      "needs_background": "light"
     },
     "output_type": "display_data"
    }
   ],
   "source": [
    "pd.DataFrame(model_ann.history.history).plot()"
   ]
  },
  {
   "cell_type": "code",
   "execution_count": 36,
   "metadata": {},
   "outputs": [
    {
     "name": "stdout",
     "output_type": "stream",
     "text": [
      "RMSE for ANN model= 194591.73162542513\n",
      "Average Price= 537559.1433641976\n"
     ]
    }
   ],
   "source": [
    "prediction_ann = model_ann.predict(X_test_scaled)\n",
    "print('RMSE for ANN model= '+ str(np.sqrt(mean_squared_error(y_test,prediction_ann))))\n",
    "print('Average Price= '+ str(np.mean(y_test)))\n",
    "df_prediction['prediction_ann'] = prediction_ann"
   ]
  },
  {
   "cell_type": "markdown",
   "metadata": {},
   "source": [
    "## Comparing all three models"
   ]
  },
  {
   "cell_type": "code",
   "execution_count": 37,
   "metadata": {},
   "outputs": [
    {
     "data": {
      "text/html": [
       "<div>\n",
       "<style scoped>\n",
       "    .dataframe tbody tr th:only-of-type {\n",
       "        vertical-align: middle;\n",
       "    }\n",
       "\n",
       "    .dataframe tbody tr th {\n",
       "        vertical-align: top;\n",
       "    }\n",
       "\n",
       "    .dataframe thead th {\n",
       "        text-align: right;\n",
       "    }\n",
       "</style>\n",
       "<table border=\"1\" class=\"dataframe\">\n",
       "  <thead>\n",
       "    <tr style=\"text-align: right;\">\n",
       "      <th></th>\n",
       "      <th>y_test</th>\n",
       "      <th>sqft_living</th>\n",
       "      <th>prediction_linear</th>\n",
       "      <th>prediction_ridge</th>\n",
       "      <th>prediction_lasso</th>\n",
       "      <th>prediction_ann</th>\n",
       "    </tr>\n",
       "  </thead>\n",
       "  <tbody>\n",
       "    <tr>\n",
       "      <th>0</th>\n",
       "      <td>450000.0</td>\n",
       "      <td>1020.0</td>\n",
       "      <td>443141.990673</td>\n",
       "      <td>440314.812448</td>\n",
       "      <td>442878.651191</td>\n",
       "      <td>423515.43750</td>\n",
       "    </tr>\n",
       "    <tr>\n",
       "      <th>1</th>\n",
       "      <td>279000.0</td>\n",
       "      <td>1780.0</td>\n",
       "      <td>281593.990673</td>\n",
       "      <td>280634.607448</td>\n",
       "      <td>281363.166503</td>\n",
       "      <td>293404.40625</td>\n",
       "    </tr>\n",
       "    <tr>\n",
       "      <th>2</th>\n",
       "      <td>467000.0</td>\n",
       "      <td>3460.0</td>\n",
       "      <td>636733.990673</td>\n",
       "      <td>628768.082256</td>\n",
       "      <td>636440.449113</td>\n",
       "      <td>580686.31250</td>\n",
       "    </tr>\n",
       "    <tr>\n",
       "      <th>3</th>\n",
       "      <td>828950.0</td>\n",
       "      <td>3930.0</td>\n",
       "      <td>945645.990673</td>\n",
       "      <td>943887.129579</td>\n",
       "      <td>945385.919669</td>\n",
       "      <td>958859.75000</td>\n",
       "    </tr>\n",
       "    <tr>\n",
       "      <th>4</th>\n",
       "      <td>499950.0</td>\n",
       "      <td>2798.0</td>\n",
       "      <td>598965.990673</td>\n",
       "      <td>598582.820989</td>\n",
       "      <td>598731.257145</td>\n",
       "      <td>523305.71875</td>\n",
       "    </tr>\n",
       "  </tbody>\n",
       "</table>\n",
       "</div>"
      ],
      "text/plain": [
       "     y_test  sqft_living  prediction_linear  prediction_ridge  \\\n",
       "0  450000.0       1020.0      443141.990673     440314.812448   \n",
       "1  279000.0       1780.0      281593.990673     280634.607448   \n",
       "2  467000.0       3460.0      636733.990673     628768.082256   \n",
       "3  828950.0       3930.0      945645.990673     943887.129579   \n",
       "4  499950.0       2798.0      598965.990673     598582.820989   \n",
       "\n",
       "   prediction_lasso  prediction_ann  \n",
       "0     442878.651191    423515.43750  \n",
       "1     281363.166503    293404.40625  \n",
       "2     636440.449113    580686.31250  \n",
       "3     945385.919669    958859.75000  \n",
       "4     598731.257145    523305.71875  "
      ]
     },
     "execution_count": 37,
     "metadata": {},
     "output_type": "execute_result"
    }
   ],
   "source": [
    "df_prediction[(df_prediction.y_test<1000000)].head()"
   ]
  },
  {
   "cell_type": "code",
   "execution_count": 38,
   "metadata": {},
   "outputs": [
    {
     "data": {
      "text/html": [
       "<div>\n",
       "<style scoped>\n",
       "    .dataframe tbody tr th:only-of-type {\n",
       "        vertical-align: middle;\n",
       "    }\n",
       "\n",
       "    .dataframe tbody tr th {\n",
       "        vertical-align: top;\n",
       "    }\n",
       "\n",
       "    .dataframe thead th {\n",
       "        text-align: right;\n",
       "    }\n",
       "</style>\n",
       "<table border=\"1\" class=\"dataframe\">\n",
       "  <thead>\n",
       "    <tr style=\"text-align: right;\">\n",
       "      <th></th>\n",
       "      <th>y_test</th>\n",
       "      <th>sqft_living</th>\n",
       "      <th>prediction_linear</th>\n",
       "      <th>prediction_ridge</th>\n",
       "      <th>prediction_lasso</th>\n",
       "      <th>prediction_ann</th>\n",
       "    </tr>\n",
       "  </thead>\n",
       "  <tbody>\n",
       "    <tr>\n",
       "      <th>25</th>\n",
       "      <td>1520000.0</td>\n",
       "      <td>4500.0</td>\n",
       "      <td>1.423214e+06</td>\n",
       "      <td>1.417209e+06</td>\n",
       "      <td>1.422942e+06</td>\n",
       "      <td>1331395.50</td>\n",
       "    </tr>\n",
       "    <tr>\n",
       "      <th>223</th>\n",
       "      <td>2000000.0</td>\n",
       "      <td>2610.0</td>\n",
       "      <td>1.655350e+06</td>\n",
       "      <td>1.651537e+06</td>\n",
       "      <td>1.655037e+06</td>\n",
       "      <td>1581042.50</td>\n",
       "    </tr>\n",
       "    <tr>\n",
       "      <th>232</th>\n",
       "      <td>1570000.0</td>\n",
       "      <td>5620.0</td>\n",
       "      <td>1.674718e+06</td>\n",
       "      <td>1.668062e+06</td>\n",
       "      <td>1.674497e+06</td>\n",
       "      <td>1671986.50</td>\n",
       "    </tr>\n",
       "    <tr>\n",
       "      <th>255</th>\n",
       "      <td>1900000.0</td>\n",
       "      <td>3020.0</td>\n",
       "      <td>1.720542e+06</td>\n",
       "      <td>1.729255e+06</td>\n",
       "      <td>1.720257e+06</td>\n",
       "      <td>1885964.25</td>\n",
       "    </tr>\n",
       "    <tr>\n",
       "      <th>346</th>\n",
       "      <td>1900000.0</td>\n",
       "      <td>5080.0</td>\n",
       "      <td>1.385358e+06</td>\n",
       "      <td>1.378366e+06</td>\n",
       "      <td>1.385054e+06</td>\n",
       "      <td>1344623.00</td>\n",
       "    </tr>\n",
       "  </tbody>\n",
       "</table>\n",
       "</div>"
      ],
      "text/plain": [
       "        y_test  sqft_living  prediction_linear  prediction_ridge  \\\n",
       "25   1520000.0       4500.0       1.423214e+06      1.417209e+06   \n",
       "223  2000000.0       2610.0       1.655350e+06      1.651537e+06   \n",
       "232  1570000.0       5620.0       1.674718e+06      1.668062e+06   \n",
       "255  1900000.0       3020.0       1.720542e+06      1.729255e+06   \n",
       "346  1900000.0       5080.0       1.385358e+06      1.378366e+06   \n",
       "\n",
       "     prediction_lasso  prediction_ann  \n",
       "25       1.422942e+06      1331395.50  \n",
       "223      1.655037e+06      1581042.50  \n",
       "232      1.674497e+06      1671986.50  \n",
       "255      1.720257e+06      1885964.25  \n",
       "346      1.385054e+06      1344623.00  "
      ]
     },
     "execution_count": 38,
     "metadata": {},
     "output_type": "execute_result"
    }
   ],
   "source": [
    "df_prediction[(df_prediction.y_test>1500000)].head()"
   ]
  },
  {
   "cell_type": "code",
   "execution_count": 39,
   "metadata": {},
   "outputs": [
    {
     "data": {
      "text/plain": [
       "0"
      ]
     },
     "execution_count": 39,
     "metadata": {},
     "output_type": "execute_result"
    }
   ],
   "source": [
    "sum(df_prediction['prediction_ann']<0) #no negative price prediction"
   ]
  },
  {
   "cell_type": "code",
   "execution_count": 40,
   "metadata": {},
   "outputs": [
    {
     "data": {
      "text/plain": [
       "<matplotlib.legend.Legend at 0x1ea8d110e88>"
      ]
     },
     "execution_count": 40,
     "metadata": {},
     "output_type": "execute_result"
    },
    {
     "data": {
      "image/png": "[encoded data removed]",
      "text/plain": [
       "<Figure size 1080x360 with 1 Axes>"
      ]
     },
     "metadata": {
      "needs_background": "light"
     },
     "output_type": "display_data"
    }
   ],
   "source": [
    "fig,ax=plt.subplots(figsize=(15,5))\n",
    "ax.scatter(df_prediction['sqft_living'],df_prediction['y_test'],label='Actual(y_test)')\n",
    "ax.scatter(df_prediction['sqft_living'],df_prediction['prediction_ridge'],label='Predicted(prediction_ridge)')\n",
    "ax.scatter(df_prediction['sqft_living'],df_prediction['prediction_ann'],label='Predicted(prediction_ann)')\n",
    "plt.legend()"
   ]
  },
  {
   "cell_type": "code",
   "execution_count": 41,
   "metadata": {},
   "outputs": [
    {
     "data": {
      "text/html": [
       "<div>\n",
       "<style scoped>\n",
       "    .dataframe tbody tr th:only-of-type {\n",
       "        vertical-align: middle;\n",
       "    }\n",
       "\n",
       "    .dataframe tbody tr th {\n",
       "        vertical-align: top;\n",
       "    }\n",
       "\n",
       "    .dataframe thead th {\n",
       "        text-align: right;\n",
       "    }\n",
       "</style>\n",
       "<table border=\"1\" class=\"dataframe\">\n",
       "  <thead>\n",
       "    <tr style=\"text-align: right;\">\n",
       "      <th></th>\n",
       "      <th>y_test</th>\n",
       "      <th>sqft_living</th>\n",
       "      <th>prediction_linear</th>\n",
       "      <th>prediction_ridge</th>\n",
       "      <th>prediction_lasso</th>\n",
       "      <th>prediction_ann</th>\n",
       "    </tr>\n",
       "  </thead>\n",
       "  <tbody>\n",
       "    <tr>\n",
       "      <th>679</th>\n",
       "      <td>229050.0</td>\n",
       "      <td>420.0</td>\n",
       "      <td>-13416.009327</td>\n",
       "      <td>-17666.046709</td>\n",
       "      <td>-13713.551074</td>\n",
       "      <td>91369.921875</td>\n",
       "    </tr>\n",
       "    <tr>\n",
       "      <th>1134</th>\n",
       "      <td>169950.0</td>\n",
       "      <td>840.0</td>\n",
       "      <td>-2226.009327</td>\n",
       "      <td>-1291.176252</td>\n",
       "      <td>-2455.569169</td>\n",
       "      <td>44197.535156</td>\n",
       "    </tr>\n",
       "    <tr>\n",
       "      <th>1479</th>\n",
       "      <td>100000.0</td>\n",
       "      <td>660.0</td>\n",
       "      <td>-74986.009327</td>\n",
       "      <td>-78004.109721</td>\n",
       "      <td>-75252.330794</td>\n",
       "      <td>34129.031250</td>\n",
       "    </tr>\n",
       "    <tr>\n",
       "      <th>1547</th>\n",
       "      <td>241000.0</td>\n",
       "      <td>1010.0</td>\n",
       "      <td>-32514.009327</td>\n",
       "      <td>-31672.069718</td>\n",
       "      <td>-32751.851535</td>\n",
       "      <td>33741.707031</td>\n",
       "    </tr>\n",
       "    <tr>\n",
       "      <th>1640</th>\n",
       "      <td>128750.0</td>\n",
       "      <td>880.0</td>\n",
       "      <td>-133116.009327</td>\n",
       "      <td>-132331.173106</td>\n",
       "      <td>-133340.560246</td>\n",
       "      <td>16354.949219</td>\n",
       "    </tr>\n",
       "  </tbody>\n",
       "</table>\n",
       "</div>"
      ],
      "text/plain": [
       "        y_test  sqft_living  prediction_linear  prediction_ridge  \\\n",
       "679   229050.0        420.0      -13416.009327     -17666.046709   \n",
       "1134  169950.0        840.0       -2226.009327      -1291.176252   \n",
       "1479  100000.0        660.0      -74986.009327     -78004.109721   \n",
       "1547  241000.0       1010.0      -32514.009327     -31672.069718   \n",
       "1640  128750.0        880.0     -133116.009327    -132331.173106   \n",
       "\n",
       "      prediction_lasso  prediction_ann  \n",
       "679      -13713.551074    91369.921875  \n",
       "1134      -2455.569169    44197.535156  \n",
       "1479     -75252.330794    34129.031250  \n",
       "1547     -32751.851535    33741.707031  \n",
       "1640    -133340.560246    16354.949219  "
      ]
     },
     "execution_count": 41,
     "metadata": {},
     "output_type": "execute_result"
    }
   ],
   "source": [
    "#what ANN is predicting for prices predicted negative by other models\n",
    "df_prediction[(df_prediction['prediction_ridge']<0)].head()"
   ]
  },
  {
   "cell_type": "code",
   "execution_count": 42,
   "metadata": {},
   "outputs": [
    {
     "data": {
      "text/plain": [
       "<matplotlib.legend.Legend at 0x1ea8ce32ac8>"
      ]
     },
     "execution_count": 42,
     "metadata": {},
     "output_type": "execute_result"
    },
    {
     "data": {
      "image/png": "[encoded data removed]",
      "text/plain": [
       "<Figure size 1080x360 with 1 Axes>"
      ]
     },
     "metadata": {
      "needs_background": "light"
     },
     "output_type": "display_data"
    }
   ],
   "source": [
    "fig,ax=plt.subplots(figsize=(15,5))\n",
    "ax.scatter(df_prediction['y_test'],df_prediction['y_test']-df_prediction['prediction_linear'],label='Difference in price (Linear)')\n",
    "ax.scatter(df_prediction['y_test'],df_prediction['y_test']-df_prediction['prediction_ridge'],label='Difference in price (Ridge)')\n",
    "ax.scatter(df_prediction['y_test'],df_prediction['y_test']-df_prediction['prediction_ann'],label='Difference in price (ANN)')\n",
    "plt.legend()"
   ]
  },
  {
   "cell_type": "markdown",
   "metadata": {},
   "source": [
    "## Conclusion\n",
    "\n",
    "- ANN is not predicting any negative prices but the prices are not close to actual price for which other models are predicting negative values.\n",
    "- All models are failing in predicting higher prices especially more than 1 million. Difference between actual and predicted starts becoming bigger and bigger as the price increase.\n",
    "- All models are comfortable in predicting price around 500K which near to average price.\n",
    "- When I remove the price more than 1 million from the dataset then I get good results. RMSE is around 20-25% of mean price."
   ]
  },
  {
   "cell_type": "markdown",
   "metadata": {},
   "source": [
    "## How to make it more accurate ?\n",
    "\n",
    "- Remove data having prices more than 1 million from original dataset?\n",
    "- Prepare another model for predicting price more than 1 million ?\n",
    "- Any model parameters to change ?"
   ]
  }
 ],
 "metadata": {
  "kernelspec": {
   "display_name": "Python 3",
   "language": "python",
   "name": "python3"
  },
  "language_info": {
   "codemirror_mode": {
    "name": "ipython",
    "version": 3
   },
   "file_extension": ".py",
   "mimetype": "text/x-python",
   "name": "python",
   "nbconvert_exporter": "python",
   "pygments_lexer": "ipython3",
   "version": "3.7.4"
  }
 },
 "nbformat": 4,
 "nbformat_minor": 4
}
