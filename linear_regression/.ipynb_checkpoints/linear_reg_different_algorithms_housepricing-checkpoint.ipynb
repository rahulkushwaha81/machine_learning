{
 "cells": [
  {
   "cell_type": "markdown",
   "metadata": {},
   "source": [
    "In this notebook, we are going to predict price of the house through different regression algorithms.\n",
    "\n",
    "We will be preforming below steps\n",
    "\n",
    "1. Exploratory data analysis\n",
    "2. Feature Engineering\n",
    "3. Prediction using different algorithms\n",
    "\n",
    "Algorithms which we are going to cover are:\n",
    "\n",
    "1. Linear regression\n",
    "2. Ridge regression\n",
    "3. Lasso regression\n",
    "4. Artificial neural network \n"
   ]
  },
  {
   "cell_type": "code",
   "execution_count": 1,
   "metadata": {},
   "outputs": [],
   "source": [
    "#let's import all the modules as one place\n",
    "import numpy as np\n",
    "import pandas as pd\n",
    "import matplotlib.pyplot as plt\n",
    "import seaborn as sns\n",
    "from sklearn.preprocessing import MinMaxScaler\n",
    "from sklearn.model_selection import train_test_split\n",
    "from sklearn.linear_model import LinearRegression,Ridge,Lasso\n",
    "from sklearn.metrics import mean_squared_error\n",
    "from tensorflow.keras.models import Sequential\n",
    "from tensorflow.keras.layers import Dense,Dropout"
   ]
  },
  {
   "cell_type": "code",
   "execution_count": 2,
   "metadata": {},
   "outputs": [],
   "source": [
    "df = pd.read_csv('../dataset/kc_house_data.csv')"
   ]
  },
  {
   "cell_type": "markdown",
   "metadata": {},
   "source": [
    "## **Exploratory data analysis**"
   ]
  },
  {
   "cell_type": "code",
   "execution_count": 3,
   "metadata": {},
   "outputs": [
    {
     "data": {
      "text/html": [
       "<div>\n",
       "<style scoped>\n",
       "    .dataframe tbody tr th:only-of-type {\n",
       "        vertical-align: middle;\n",
       "    }\n",
       "\n",
       "    .dataframe tbody tr th {\n",
       "        vertical-align: top;\n",
       "    }\n",
       "\n",
       "    .dataframe thead th {\n",
       "        text-align: right;\n",
       "    }\n",
       "</style>\n",
       "<table border=\"1\" class=\"dataframe\">\n",
       "  <thead>\n",
       "    <tr style=\"text-align: right;\">\n",
       "      <th></th>\n",
       "      <th>id</th>\n",
       "      <th>date</th>\n",
       "      <th>price</th>\n",
       "      <th>bedrooms</th>\n",
       "      <th>bathrooms</th>\n",
       "      <th>sqft_living</th>\n",
       "      <th>sqft_lot</th>\n",
       "      <th>floors</th>\n",
       "      <th>waterfront</th>\n",
       "      <th>view</th>\n",
       "      <th>...</th>\n",
       "      <th>grade</th>\n",
       "      <th>sqft_above</th>\n",
       "      <th>sqft_basement</th>\n",
       "      <th>yr_built</th>\n",
       "      <th>yr_renovated</th>\n",
       "      <th>zipcode</th>\n",
       "      <th>lat</th>\n",
       "      <th>long</th>\n",
       "      <th>sqft_living15</th>\n",
       "      <th>sqft_lot15</th>\n",
       "    </tr>\n",
       "  </thead>\n",
       "  <tbody>\n",
       "    <tr>\n",
       "      <th>0</th>\n",
       "      <td>7129300520</td>\n",
       "      <td>10/13/2014</td>\n",
       "      <td>221900.0</td>\n",
       "      <td>3</td>\n",
       "      <td>1.00</td>\n",
       "      <td>1180</td>\n",
       "      <td>5650</td>\n",
       "      <td>1.0</td>\n",
       "      <td>0</td>\n",
       "      <td>0</td>\n",
       "      <td>...</td>\n",
       "      <td>7</td>\n",
       "      <td>1180</td>\n",
       "      <td>0</td>\n",
       "      <td>1955</td>\n",
       "      <td>0</td>\n",
       "      <td>98178</td>\n",
       "      <td>47.5112</td>\n",
       "      <td>-122.257</td>\n",
       "      <td>1340</td>\n",
       "      <td>5650</td>\n",
       "    </tr>\n",
       "    <tr>\n",
       "      <th>1</th>\n",
       "      <td>6414100192</td>\n",
       "      <td>12/9/2014</td>\n",
       "      <td>538000.0</td>\n",
       "      <td>3</td>\n",
       "      <td>2.25</td>\n",
       "      <td>2570</td>\n",
       "      <td>7242</td>\n",
       "      <td>2.0</td>\n",
       "      <td>0</td>\n",
       "      <td>0</td>\n",
       "      <td>...</td>\n",
       "      <td>7</td>\n",
       "      <td>2170</td>\n",
       "      <td>400</td>\n",
       "      <td>1951</td>\n",
       "      <td>1991</td>\n",
       "      <td>98125</td>\n",
       "      <td>47.7210</td>\n",
       "      <td>-122.319</td>\n",
       "      <td>1690</td>\n",
       "      <td>7639</td>\n",
       "    </tr>\n",
       "    <tr>\n",
       "      <th>2</th>\n",
       "      <td>5631500400</td>\n",
       "      <td>2/25/2015</td>\n",
       "      <td>180000.0</td>\n",
       "      <td>2</td>\n",
       "      <td>1.00</td>\n",
       "      <td>770</td>\n",
       "      <td>10000</td>\n",
       "      <td>1.0</td>\n",
       "      <td>0</td>\n",
       "      <td>0</td>\n",
       "      <td>...</td>\n",
       "      <td>6</td>\n",
       "      <td>770</td>\n",
       "      <td>0</td>\n",
       "      <td>1933</td>\n",
       "      <td>0</td>\n",
       "      <td>98028</td>\n",
       "      <td>47.7379</td>\n",
       "      <td>-122.233</td>\n",
       "      <td>2720</td>\n",
       "      <td>8062</td>\n",
       "    </tr>\n",
       "    <tr>\n",
       "      <th>3</th>\n",
       "      <td>2487200875</td>\n",
       "      <td>12/9/2014</td>\n",
       "      <td>604000.0</td>\n",
       "      <td>4</td>\n",
       "      <td>3.00</td>\n",
       "      <td>1960</td>\n",
       "      <td>5000</td>\n",
       "      <td>1.0</td>\n",
       "      <td>0</td>\n",
       "      <td>0</td>\n",
       "      <td>...</td>\n",
       "      <td>7</td>\n",
       "      <td>1050</td>\n",
       "      <td>910</td>\n",
       "      <td>1965</td>\n",
       "      <td>0</td>\n",
       "      <td>98136</td>\n",
       "      <td>47.5208</td>\n",
       "      <td>-122.393</td>\n",
       "      <td>1360</td>\n",
       "      <td>5000</td>\n",
       "    </tr>\n",
       "    <tr>\n",
       "      <th>4</th>\n",
       "      <td>1954400510</td>\n",
       "      <td>2/18/2015</td>\n",
       "      <td>510000.0</td>\n",
       "      <td>3</td>\n",
       "      <td>2.00</td>\n",
       "      <td>1680</td>\n",
       "      <td>8080</td>\n",
       "      <td>1.0</td>\n",
       "      <td>0</td>\n",
       "      <td>0</td>\n",
       "      <td>...</td>\n",
       "      <td>8</td>\n",
       "      <td>1680</td>\n",
       "      <td>0</td>\n",
       "      <td>1987</td>\n",
       "      <td>0</td>\n",
       "      <td>98074</td>\n",
       "      <td>47.6168</td>\n",
       "      <td>-122.045</td>\n",
       "      <td>1800</td>\n",
       "      <td>7503</td>\n",
       "    </tr>\n",
       "  </tbody>\n",
       "</table>\n",
       "<p>5 rows × 21 columns</p>\n",
       "</div>"
      ],
      "text/plain": [
       "           id        date     price  bedrooms  bathrooms  sqft_living  \\\n",
       "0  7129300520  10/13/2014  221900.0         3       1.00         1180   \n",
       "1  6414100192   12/9/2014  538000.0         3       2.25         2570   \n",
       "2  5631500400   2/25/2015  180000.0         2       1.00          770   \n",
       "3  2487200875   12/9/2014  604000.0         4       3.00         1960   \n",
       "4  1954400510   2/18/2015  510000.0         3       2.00         1680   \n",
       "\n",
       "   sqft_lot  floors  waterfront  view  ...  grade  sqft_above  sqft_basement  \\\n",
       "0      5650     1.0           0     0  ...      7        1180              0   \n",
       "1      7242     2.0           0     0  ...      7        2170            400   \n",
       "2     10000     1.0           0     0  ...      6         770              0   \n",
       "3      5000     1.0           0     0  ...      7        1050            910   \n",
       "4      8080     1.0           0     0  ...      8        1680              0   \n",
       "\n",
       "   yr_built  yr_renovated  zipcode      lat     long  sqft_living15  \\\n",
       "0      1955             0    98178  47.5112 -122.257           1340   \n",
       "1      1951          1991    98125  47.7210 -122.319           1690   \n",
       "2      1933             0    98028  47.7379 -122.233           2720   \n",
       "3      1965             0    98136  47.5208 -122.393           1360   \n",
       "4      1987             0    98074  47.6168 -122.045           1800   \n",
       "\n",
       "   sqft_lot15  \n",
       "0        5650  \n",
       "1        7639  \n",
       "2        8062  \n",
       "3        5000  \n",
       "4        7503  \n",
       "\n",
       "[5 rows x 21 columns]"
      ]
     },
     "execution_count": 3,
     "metadata": {},
     "output_type": "execute_result"
    }
   ],
   "source": [
    "df.head()"
   ]
  },
  {
   "cell_type": "code",
   "execution_count": 4,
   "metadata": {},
   "outputs": [
    {
     "data": {
      "text/html": [
       "<div>\n",
       "<style scoped>\n",
       "    .dataframe tbody tr th:only-of-type {\n",
       "        vertical-align: middle;\n",
       "    }\n",
       "\n",
       "    .dataframe tbody tr th {\n",
       "        vertical-align: top;\n",
       "    }\n",
       "\n",
       "    .dataframe thead th {\n",
       "        text-align: right;\n",
       "    }\n",
       "</style>\n",
       "<table border=\"1\" class=\"dataframe\">\n",
       "  <thead>\n",
       "    <tr style=\"text-align: right;\">\n",
       "      <th></th>\n",
       "      <th>id</th>\n",
       "      <th>price</th>\n",
       "      <th>bedrooms</th>\n",
       "      <th>bathrooms</th>\n",
       "      <th>sqft_living</th>\n",
       "      <th>sqft_lot</th>\n",
       "      <th>floors</th>\n",
       "      <th>waterfront</th>\n",
       "      <th>view</th>\n",
       "      <th>condition</th>\n",
       "      <th>grade</th>\n",
       "      <th>sqft_above</th>\n",
       "      <th>sqft_basement</th>\n",
       "      <th>yr_built</th>\n",
       "      <th>yr_renovated</th>\n",
       "      <th>zipcode</th>\n",
       "      <th>lat</th>\n",
       "      <th>long</th>\n",
       "      <th>sqft_living15</th>\n",
       "      <th>sqft_lot15</th>\n",
       "    </tr>\n",
       "  </thead>\n",
       "  <tbody>\n",
       "    <tr>\n",
       "      <th>count</th>\n",
       "      <td>2.159700e+04</td>\n",
       "      <td>2.159700e+04</td>\n",
       "      <td>21597.000000</td>\n",
       "      <td>21597.000000</td>\n",
       "      <td>21597.000000</td>\n",
       "      <td>2.159700e+04</td>\n",
       "      <td>21597.000000</td>\n",
       "      <td>21597.000000</td>\n",
       "      <td>21597.000000</td>\n",
       "      <td>21597.000000</td>\n",
       "      <td>21597.000000</td>\n",
       "      <td>21597.000000</td>\n",
       "      <td>21597.000000</td>\n",
       "      <td>21597.000000</td>\n",
       "      <td>21597.000000</td>\n",
       "      <td>21597.000000</td>\n",
       "      <td>21597.000000</td>\n",
       "      <td>21597.000000</td>\n",
       "      <td>21597.000000</td>\n",
       "      <td>21597.000000</td>\n",
       "    </tr>\n",
       "    <tr>\n",
       "      <th>mean</th>\n",
       "      <td>4.580474e+09</td>\n",
       "      <td>5.402966e+05</td>\n",
       "      <td>3.373200</td>\n",
       "      <td>2.115826</td>\n",
       "      <td>2080.321850</td>\n",
       "      <td>1.509941e+04</td>\n",
       "      <td>1.494096</td>\n",
       "      <td>0.007547</td>\n",
       "      <td>0.234292</td>\n",
       "      <td>3.409825</td>\n",
       "      <td>7.657915</td>\n",
       "      <td>1788.596842</td>\n",
       "      <td>291.725008</td>\n",
       "      <td>1970.999676</td>\n",
       "      <td>84.464787</td>\n",
       "      <td>98077.951845</td>\n",
       "      <td>47.560093</td>\n",
       "      <td>-122.213982</td>\n",
       "      <td>1986.620318</td>\n",
       "      <td>12758.283512</td>\n",
       "    </tr>\n",
       "    <tr>\n",
       "      <th>std</th>\n",
       "      <td>2.876736e+09</td>\n",
       "      <td>3.673681e+05</td>\n",
       "      <td>0.926299</td>\n",
       "      <td>0.768984</td>\n",
       "      <td>918.106125</td>\n",
       "      <td>4.141264e+04</td>\n",
       "      <td>0.539683</td>\n",
       "      <td>0.086549</td>\n",
       "      <td>0.766390</td>\n",
       "      <td>0.650546</td>\n",
       "      <td>1.173200</td>\n",
       "      <td>827.759761</td>\n",
       "      <td>442.667800</td>\n",
       "      <td>29.375234</td>\n",
       "      <td>401.821438</td>\n",
       "      <td>53.513072</td>\n",
       "      <td>0.138552</td>\n",
       "      <td>0.140724</td>\n",
       "      <td>685.230472</td>\n",
       "      <td>27274.441950</td>\n",
       "    </tr>\n",
       "    <tr>\n",
       "      <th>min</th>\n",
       "      <td>1.000102e+06</td>\n",
       "      <td>7.800000e+04</td>\n",
       "      <td>1.000000</td>\n",
       "      <td>0.500000</td>\n",
       "      <td>370.000000</td>\n",
       "      <td>5.200000e+02</td>\n",
       "      <td>1.000000</td>\n",
       "      <td>0.000000</td>\n",
       "      <td>0.000000</td>\n",
       "      <td>1.000000</td>\n",
       "      <td>3.000000</td>\n",
       "      <td>370.000000</td>\n",
       "      <td>0.000000</td>\n",
       "      <td>1900.000000</td>\n",
       "      <td>0.000000</td>\n",
       "      <td>98001.000000</td>\n",
       "      <td>47.155900</td>\n",
       "      <td>-122.519000</td>\n",
       "      <td>399.000000</td>\n",
       "      <td>651.000000</td>\n",
       "    </tr>\n",
       "    <tr>\n",
       "      <th>25%</th>\n",
       "      <td>2.123049e+09</td>\n",
       "      <td>3.220000e+05</td>\n",
       "      <td>3.000000</td>\n",
       "      <td>1.750000</td>\n",
       "      <td>1430.000000</td>\n",
       "      <td>5.040000e+03</td>\n",
       "      <td>1.000000</td>\n",
       "      <td>0.000000</td>\n",
       "      <td>0.000000</td>\n",
       "      <td>3.000000</td>\n",
       "      <td>7.000000</td>\n",
       "      <td>1190.000000</td>\n",
       "      <td>0.000000</td>\n",
       "      <td>1951.000000</td>\n",
       "      <td>0.000000</td>\n",
       "      <td>98033.000000</td>\n",
       "      <td>47.471100</td>\n",
       "      <td>-122.328000</td>\n",
       "      <td>1490.000000</td>\n",
       "      <td>5100.000000</td>\n",
       "    </tr>\n",
       "    <tr>\n",
       "      <th>50%</th>\n",
       "      <td>3.904930e+09</td>\n",
       "      <td>4.500000e+05</td>\n",
       "      <td>3.000000</td>\n",
       "      <td>2.250000</td>\n",
       "      <td>1910.000000</td>\n",
       "      <td>7.618000e+03</td>\n",
       "      <td>1.500000</td>\n",
       "      <td>0.000000</td>\n",
       "      <td>0.000000</td>\n",
       "      <td>3.000000</td>\n",
       "      <td>7.000000</td>\n",
       "      <td>1560.000000</td>\n",
       "      <td>0.000000</td>\n",
       "      <td>1975.000000</td>\n",
       "      <td>0.000000</td>\n",
       "      <td>98065.000000</td>\n",
       "      <td>47.571800</td>\n",
       "      <td>-122.231000</td>\n",
       "      <td>1840.000000</td>\n",
       "      <td>7620.000000</td>\n",
       "    </tr>\n",
       "    <tr>\n",
       "      <th>75%</th>\n",
       "      <td>7.308900e+09</td>\n",
       "      <td>6.450000e+05</td>\n",
       "      <td>4.000000</td>\n",
       "      <td>2.500000</td>\n",
       "      <td>2550.000000</td>\n",
       "      <td>1.068500e+04</td>\n",
       "      <td>2.000000</td>\n",
       "      <td>0.000000</td>\n",
       "      <td>0.000000</td>\n",
       "      <td>4.000000</td>\n",
       "      <td>8.000000</td>\n",
       "      <td>2210.000000</td>\n",
       "      <td>560.000000</td>\n",
       "      <td>1997.000000</td>\n",
       "      <td>0.000000</td>\n",
       "      <td>98118.000000</td>\n",
       "      <td>47.678000</td>\n",
       "      <td>-122.125000</td>\n",
       "      <td>2360.000000</td>\n",
       "      <td>10083.000000</td>\n",
       "    </tr>\n",
       "    <tr>\n",
       "      <th>max</th>\n",
       "      <td>9.900000e+09</td>\n",
       "      <td>7.700000e+06</td>\n",
       "      <td>33.000000</td>\n",
       "      <td>8.000000</td>\n",
       "      <td>13540.000000</td>\n",
       "      <td>1.651359e+06</td>\n",
       "      <td>3.500000</td>\n",
       "      <td>1.000000</td>\n",
       "      <td>4.000000</td>\n",
       "      <td>5.000000</td>\n",
       "      <td>13.000000</td>\n",
       "      <td>9410.000000</td>\n",
       "      <td>4820.000000</td>\n",
       "      <td>2015.000000</td>\n",
       "      <td>2015.000000</td>\n",
       "      <td>98199.000000</td>\n",
       "      <td>47.777600</td>\n",
       "      <td>-121.315000</td>\n",
       "      <td>6210.000000</td>\n",
       "      <td>871200.000000</td>\n",
       "    </tr>\n",
       "  </tbody>\n",
       "</table>\n",
       "</div>"
      ],
      "text/plain": [
       "                 id         price      bedrooms     bathrooms   sqft_living  \\\n",
       "count  2.159700e+04  2.159700e+04  21597.000000  21597.000000  21597.000000   \n",
       "mean   4.580474e+09  5.402966e+05      3.373200      2.115826   2080.321850   \n",
       "std    2.876736e+09  3.673681e+05      0.926299      0.768984    918.106125   \n",
       "min    1.000102e+06  7.800000e+04      1.000000      0.500000    370.000000   \n",
       "25%    2.123049e+09  3.220000e+05      3.000000      1.750000   1430.000000   \n",
       "50%    3.904930e+09  4.500000e+05      3.000000      2.250000   1910.000000   \n",
       "75%    7.308900e+09  6.450000e+05      4.000000      2.500000   2550.000000   \n",
       "max    9.900000e+09  7.700000e+06     33.000000      8.000000  13540.000000   \n",
       "\n",
       "           sqft_lot        floors    waterfront          view     condition  \\\n",
       "count  2.159700e+04  21597.000000  21597.000000  21597.000000  21597.000000   \n",
       "mean   1.509941e+04      1.494096      0.007547      0.234292      3.409825   \n",
       "std    4.141264e+04      0.539683      0.086549      0.766390      0.650546   \n",
       "min    5.200000e+02      1.000000      0.000000      0.000000      1.000000   \n",
       "25%    5.040000e+03      1.000000      0.000000      0.000000      3.000000   \n",
       "50%    7.618000e+03      1.500000      0.000000      0.000000      3.000000   \n",
       "75%    1.068500e+04      2.000000      0.000000      0.000000      4.000000   \n",
       "max    1.651359e+06      3.500000      1.000000      4.000000      5.000000   \n",
       "\n",
       "              grade    sqft_above  sqft_basement      yr_built  yr_renovated  \\\n",
       "count  21597.000000  21597.000000   21597.000000  21597.000000  21597.000000   \n",
       "mean       7.657915   1788.596842     291.725008   1970.999676     84.464787   \n",
       "std        1.173200    827.759761     442.667800     29.375234    401.821438   \n",
       "min        3.000000    370.000000       0.000000   1900.000000      0.000000   \n",
       "25%        7.000000   1190.000000       0.000000   1951.000000      0.000000   \n",
       "50%        7.000000   1560.000000       0.000000   1975.000000      0.000000   \n",
       "75%        8.000000   2210.000000     560.000000   1997.000000      0.000000   \n",
       "max       13.000000   9410.000000    4820.000000   2015.000000   2015.000000   \n",
       "\n",
       "            zipcode           lat          long  sqft_living15     sqft_lot15  \n",
       "count  21597.000000  21597.000000  21597.000000   21597.000000   21597.000000  \n",
       "mean   98077.951845     47.560093   -122.213982    1986.620318   12758.283512  \n",
       "std       53.513072      0.138552      0.140724     685.230472   27274.441950  \n",
       "min    98001.000000     47.155900   -122.519000     399.000000     651.000000  \n",
       "25%    98033.000000     47.471100   -122.328000    1490.000000    5100.000000  \n",
       "50%    98065.000000     47.571800   -122.231000    1840.000000    7620.000000  \n",
       "75%    98118.000000     47.678000   -122.125000    2360.000000   10083.000000  \n",
       "max    98199.000000     47.777600   -121.315000    6210.000000  871200.000000  "
      ]
     },
     "execution_count": 4,
     "metadata": {},
     "output_type": "execute_result"
    }
   ],
   "source": [
    "df.describe()"
   ]
  },
  {
   "cell_type": "markdown",
   "metadata": {},
   "source": [
    "How is the disribution of price?"
   ]
  },
  {
   "cell_type": "code",
   "execution_count": 5,
   "metadata": {},
   "outputs": [
    {
     "data": {
      "text/plain": [
       "<matplotlib.axes._subplots.AxesSubplot at 0x2098f2a8b88>"
      ]
     },
     "execution_count": 5,
     "metadata": {},
     "output_type": "execute_result"
    },
    {
     "data": {
      "image/png": "[encoded data removed]",
      "text/plain": [
       "<Figure size 1080x360 with 2 Axes>"
      ]
     },
     "metadata": {
      "needs_background": "light"
     },
     "output_type": "display_data"
    }
   ],
   "source": [
    "fig,ax = plt.subplots(nrows=2,ncols=1,figsize=(15,5))\n",
    "sns.distplot(df['price'],bins=30,ax=ax[0])\n",
    "sns.boxplot(df['price'],ax=ax[1])"
   ]
  },
  {
   "cell_type": "markdown",
   "metadata": {},
   "source": [
    "- most of the prices are around 500K\n",
    "- very few houses have price more than 2.5 million. These can be treated as outliers."
   ]
  },
  {
   "cell_type": "markdown",
   "metadata": {},
   "source": [
    "Let's see which features are **highly correlated** with price and plot top 4 of them"
   ]
  },
  {
   "cell_type": "code",
   "execution_count": 6,
   "metadata": {},
   "outputs": [
    {
     "data": {
      "text/plain": [
       "price            1.000000\n",
       "sqft_living      0.701917\n",
       "grade            0.667951\n",
       "sqft_above       0.605368\n",
       "sqft_living15    0.585241\n",
       "bathrooms        0.525906\n",
       "view             0.397370\n",
       "sqft_basement    0.323799\n",
       "bedrooms         0.308787\n",
       "lat              0.306692\n",
       "waterfront       0.266398\n",
       "floors           0.256804\n",
       "yr_renovated     0.126424\n",
       "sqft_lot         0.089876\n",
       "sqft_lot15       0.082845\n",
       "yr_built         0.053953\n",
       "condition        0.036056\n",
       "long             0.022036\n",
       "id              -0.016772\n",
       "zipcode         -0.053402\n",
       "Name: price, dtype: float64"
      ]
     },
     "execution_count": 6,
     "metadata": {},
     "output_type": "execute_result"
    }
   ],
   "source": [
    "df.corr().price.sort_values(ascending=False)"
   ]
  },
  {
   "cell_type": "code",
   "execution_count": 7,
   "metadata": {},
   "outputs": [
    {
     "data": {
      "image/png": "[encoded data removed]",
      "text/plain": [
       "<Figure size 1440x720 with 4 Axes>"
      ]
     },
     "metadata": {
      "needs_background": "light"
     },
     "output_type": "display_data"
    }
   ],
   "source": [
    "fig,ax_array=plt.subplots(nrows=2,ncols=2,figsize=(20,10))\n",
    "ax_array[0,0].scatter(df['sqft_living'],df['price']) #can't use seaborn joinplot in array of axes \n",
    "ax_array[0,0].set(xlabel='sqft_living',ylabel='price',title='price vs sqft_living')\n",
    "ax_array[0,1].scatter(df['grade'],df['price']) \n",
    "ax_array[0,1].set(xlabel='grade',ylabel='price',title='price vs grade')\n",
    "ax_array[1,0].scatter(df['sqft_above'],df['price']) \n",
    "ax_array[1,0].set(xlabel='sqft_above',ylabel='price',title='price vs sqft_above')\n",
    "ax_array[1,1].scatter(df['bathrooms'],df['price']) \n",
    "ax_array[1,1].set(xlabel='bathrooms',ylabel='price',title='price vs bathrooms')\n",
    "plt.tight_layout()"
   ]
  },
  {
   "cell_type": "markdown",
   "metadata": {},
   "source": [
    "We can see that price increases with increase in X-axis in above graphs"
   ]
  },
  {
   "cell_type": "code",
   "execution_count": 8,
   "metadata": {},
   "outputs": [
    {
     "data": {
      "text/plain": [
       "id               False\n",
       "date             False\n",
       "price            False\n",
       "bedrooms         False\n",
       "bathrooms        False\n",
       "sqft_living      False\n",
       "sqft_lot         False\n",
       "floors           False\n",
       "waterfront       False\n",
       "view             False\n",
       "condition        False\n",
       "grade            False\n",
       "sqft_above       False\n",
       "sqft_basement    False\n",
       "yr_built         False\n",
       "yr_renovated     False\n",
       "zipcode          False\n",
       "lat              False\n",
       "long             False\n",
       "sqft_living15    False\n",
       "sqft_lot15       False\n",
       "dtype: bool"
      ]
     },
     "execution_count": 8,
     "metadata": {},
     "output_type": "execute_result"
    }
   ],
   "source": [
    "df.isnull().any() #non of the columns have null value which is good."
   ]
  },
  {
   "cell_type": "markdown",
   "metadata": {},
   "source": [
    "## Feature Engineering"
   ]
  },
  {
   "cell_type": "code",
   "execution_count": 9,
   "metadata": {},
   "outputs": [
    {
     "name": "stdout",
     "output_type": "stream",
     "text": [
      "21420\n"
     ]
    }
   ],
   "source": [
    "print(df.id.nunique())"
   ]
  },
  {
   "cell_type": "markdown",
   "metadata": {},
   "source": [
    "id column is an unique identifier for each transaction and can be dropped off as it doesn't contribute to the price"
   ]
  },
  {
   "cell_type": "code",
   "execution_count": 10,
   "metadata": {},
   "outputs": [],
   "source": [
    "df.drop('id',axis=1,inplace=True)"
   ]
  },
  {
   "cell_type": "code",
   "execution_count": 11,
   "metadata": {},
   "outputs": [
    {
     "data": {
      "text/plain": [
       "-0.053402434377726675"
      ]
     },
     "execution_count": 11,
     "metadata": {},
     "output_type": "execute_result"
    }
   ],
   "source": [
    "df.corr().price['zipcode']"
   ]
  },
  {
   "cell_type": "markdown",
   "metadata": {},
   "source": [
    "Technically zipcode also doesn't contribute to pricing. This can be dropped too. Also there is very minor correlation between zipcode and  price"
   ]
  },
  {
   "cell_type": "code",
   "execution_count": 12,
   "metadata": {},
   "outputs": [],
   "source": [
    "df.drop('zipcode',axis=1,inplace=True)"
   ]
  },
  {
   "cell_type": "code",
   "execution_count": 13,
   "metadata": {},
   "outputs": [
    {
     "name": "stdout",
     "output_type": "stream",
     "text": [
      "<class 'pandas.core.frame.DataFrame'>\n",
      "RangeIndex: 21597 entries, 0 to 21596\n",
      "Data columns (total 19 columns):\n",
      " #   Column         Non-Null Count  Dtype  \n",
      "---  ------         --------------  -----  \n",
      " 0   date           21597 non-null  object \n",
      " 1   price          21597 non-null  float64\n",
      " 2   bedrooms       21597 non-null  int64  \n",
      " 3   bathrooms      21597 non-null  float64\n",
      " 4   sqft_living    21597 non-null  int64  \n",
      " 5   sqft_lot       21597 non-null  int64  \n",
      " 6   floors         21597 non-null  float64\n",
      " 7   waterfront     21597 non-null  int64  \n",
      " 8   view           21597 non-null  int64  \n",
      " 9   condition      21597 non-null  int64  \n",
      " 10  grade          21597 non-null  int64  \n",
      " 11  sqft_above     21597 non-null  int64  \n",
      " 12  sqft_basement  21597 non-null  int64  \n",
      " 13  yr_built       21597 non-null  int64  \n",
      " 14  yr_renovated   21597 non-null  int64  \n",
      " 15  lat            21597 non-null  float64\n",
      " 16  long           21597 non-null  float64\n",
      " 17  sqft_living15  21597 non-null  int64  \n",
      " 18  sqft_lot15     21597 non-null  int64  \n",
      "dtypes: float64(5), int64(13), object(1)\n",
      "memory usage: 3.1+ MB\n"
     ]
    }
   ],
   "source": [
    "df.info()"
   ]
  },
  {
   "cell_type": "markdown",
   "metadata": {},
   "source": [
    "date is the only object/string type present in dataset and this needs to be analysed whether it is of any use or not.\n",
    "Let's convert it into datetime and extract year,month information."
   ]
  },
  {
   "cell_type": "code",
   "execution_count": 14,
   "metadata": {},
   "outputs": [
    {
     "data": {
      "text/plain": [
       "0.003727139624315501"
      ]
     },
     "execution_count": 14,
     "metadata": {},
     "output_type": "execute_result"
    }
   ],
   "source": [
    "df['date'] = pd.to_datetime(df['date'])\n",
    "df['yr_of_tran'] = df['date'].apply(lambda x:x.year)\n",
    "df['month_of_tran'] = df['date'].apply(lambda x:x.month)\n",
    "df.corr().price['yr_of_tran']"
   ]
  },
  {
   "cell_type": "code",
   "execution_count": 15,
   "metadata": {},
   "outputs": [
    {
     "data": {
      "text/plain": [
       "<seaborn.axisgrid.JointGrid at 0x2098f5490c8>"
      ]
     },
     "execution_count": 15,
     "metadata": {},
     "output_type": "execute_result"
    },
    {
     "data": {
      "image/png": "[encoded data removed]",
      "text/plain": [
       "<Figure size 432x432 with 3 Axes>"
      ]
     },
     "metadata": {
      "needs_background": "light"
     },
     "output_type": "display_data"
    }
   ],
   "source": [
    "sns.jointplot(x='yr_of_tran',y='price',data=df)"
   ]
  },
  {
   "cell_type": "markdown",
   "metadata": {},
   "source": [
    "Although as we can see that there is no major impact of year on price, but generally price increases as we tend to move to next year. This is depicted below. We can use this feature. "
   ]
  },
  {
   "cell_type": "code",
   "execution_count": 16,
   "metadata": {},
   "outputs": [
    {
     "data": {
      "text/plain": [
       "yr_of_tran\n",
       "2014    539350.911777\n",
       "2015    542279.005878\n",
       "Name: price, dtype: float64"
      ]
     },
     "execution_count": 16,
     "metadata": {},
     "output_type": "execute_result"
    }
   ],
   "source": [
    "df.groupby('yr_of_tran').mean()['price']"
   ]
  },
  {
   "cell_type": "code",
   "execution_count": 17,
   "metadata": {},
   "outputs": [],
   "source": [
    "#we can now drop date column as we have extracted year and month features.\n",
    "df.drop('date',axis=1,inplace=True)"
   ]
  },
  {
   "cell_type": "code",
   "execution_count": 18,
   "metadata": {},
   "outputs": [
    {
     "data": {
      "text/html": [
       "<div>\n",
       "<style scoped>\n",
       "    .dataframe tbody tr th:only-of-type {\n",
       "        vertical-align: middle;\n",
       "    }\n",
       "\n",
       "    .dataframe tbody tr th {\n",
       "        vertical-align: top;\n",
       "    }\n",
       "\n",
       "    .dataframe thead th {\n",
       "        text-align: right;\n",
       "    }\n",
       "</style>\n",
       "<table border=\"1\" class=\"dataframe\">\n",
       "  <thead>\n",
       "    <tr style=\"text-align: right;\">\n",
       "      <th></th>\n",
       "      <th>price</th>\n",
       "      <th>bedrooms</th>\n",
       "      <th>bathrooms</th>\n",
       "      <th>sqft_living</th>\n",
       "      <th>sqft_lot</th>\n",
       "      <th>floors</th>\n",
       "      <th>waterfront</th>\n",
       "      <th>view</th>\n",
       "      <th>condition</th>\n",
       "      <th>grade</th>\n",
       "      <th>sqft_above</th>\n",
       "      <th>sqft_basement</th>\n",
       "      <th>yr_built</th>\n",
       "      <th>yr_renovated</th>\n",
       "      <th>lat</th>\n",
       "      <th>long</th>\n",
       "      <th>sqft_living15</th>\n",
       "      <th>sqft_lot15</th>\n",
       "      <th>yr_of_tran</th>\n",
       "      <th>month_of_tran</th>\n",
       "    </tr>\n",
       "  </thead>\n",
       "  <tbody>\n",
       "    <tr>\n",
       "      <th>0</th>\n",
       "      <td>221900.0</td>\n",
       "      <td>3</td>\n",
       "      <td>1.00</td>\n",
       "      <td>1180</td>\n",
       "      <td>5650</td>\n",
       "      <td>1.0</td>\n",
       "      <td>0</td>\n",
       "      <td>0</td>\n",
       "      <td>3</td>\n",
       "      <td>7</td>\n",
       "      <td>1180</td>\n",
       "      <td>0</td>\n",
       "      <td>1955</td>\n",
       "      <td>0</td>\n",
       "      <td>47.5112</td>\n",
       "      <td>-122.257</td>\n",
       "      <td>1340</td>\n",
       "      <td>5650</td>\n",
       "      <td>2014</td>\n",
       "      <td>10</td>\n",
       "    </tr>\n",
       "    <tr>\n",
       "      <th>1</th>\n",
       "      <td>538000.0</td>\n",
       "      <td>3</td>\n",
       "      <td>2.25</td>\n",
       "      <td>2570</td>\n",
       "      <td>7242</td>\n",
       "      <td>2.0</td>\n",
       "      <td>0</td>\n",
       "      <td>0</td>\n",
       "      <td>3</td>\n",
       "      <td>7</td>\n",
       "      <td>2170</td>\n",
       "      <td>400</td>\n",
       "      <td>1951</td>\n",
       "      <td>1991</td>\n",
       "      <td>47.7210</td>\n",
       "      <td>-122.319</td>\n",
       "      <td>1690</td>\n",
       "      <td>7639</td>\n",
       "      <td>2014</td>\n",
       "      <td>12</td>\n",
       "    </tr>\n",
       "    <tr>\n",
       "      <th>2</th>\n",
       "      <td>180000.0</td>\n",
       "      <td>2</td>\n",
       "      <td>1.00</td>\n",
       "      <td>770</td>\n",
       "      <td>10000</td>\n",
       "      <td>1.0</td>\n",
       "      <td>0</td>\n",
       "      <td>0</td>\n",
       "      <td>3</td>\n",
       "      <td>6</td>\n",
       "      <td>770</td>\n",
       "      <td>0</td>\n",
       "      <td>1933</td>\n",
       "      <td>0</td>\n",
       "      <td>47.7379</td>\n",
       "      <td>-122.233</td>\n",
       "      <td>2720</td>\n",
       "      <td>8062</td>\n",
       "      <td>2015</td>\n",
       "      <td>2</td>\n",
       "    </tr>\n",
       "    <tr>\n",
       "      <th>3</th>\n",
       "      <td>604000.0</td>\n",
       "      <td>4</td>\n",
       "      <td>3.00</td>\n",
       "      <td>1960</td>\n",
       "      <td>5000</td>\n",
       "      <td>1.0</td>\n",
       "      <td>0</td>\n",
       "      <td>0</td>\n",
       "      <td>5</td>\n",
       "      <td>7</td>\n",
       "      <td>1050</td>\n",
       "      <td>910</td>\n",
       "      <td>1965</td>\n",
       "      <td>0</td>\n",
       "      <td>47.5208</td>\n",
       "      <td>-122.393</td>\n",
       "      <td>1360</td>\n",
       "      <td>5000</td>\n",
       "      <td>2014</td>\n",
       "      <td>12</td>\n",
       "    </tr>\n",
       "    <tr>\n",
       "      <th>4</th>\n",
       "      <td>510000.0</td>\n",
       "      <td>3</td>\n",
       "      <td>2.00</td>\n",
       "      <td>1680</td>\n",
       "      <td>8080</td>\n",
       "      <td>1.0</td>\n",
       "      <td>0</td>\n",
       "      <td>0</td>\n",
       "      <td>3</td>\n",
       "      <td>8</td>\n",
       "      <td>1680</td>\n",
       "      <td>0</td>\n",
       "      <td>1987</td>\n",
       "      <td>0</td>\n",
       "      <td>47.6168</td>\n",
       "      <td>-122.045</td>\n",
       "      <td>1800</td>\n",
       "      <td>7503</td>\n",
       "      <td>2015</td>\n",
       "      <td>2</td>\n",
       "    </tr>\n",
       "  </tbody>\n",
       "</table>\n",
       "</div>"
      ],
      "text/plain": [
       "      price  bedrooms  bathrooms  sqft_living  sqft_lot  floors  waterfront  \\\n",
       "0  221900.0         3       1.00         1180      5650     1.0           0   \n",
       "1  538000.0         3       2.25         2570      7242     2.0           0   \n",
       "2  180000.0         2       1.00          770     10000     1.0           0   \n",
       "3  604000.0         4       3.00         1960      5000     1.0           0   \n",
       "4  510000.0         3       2.00         1680      8080     1.0           0   \n",
       "\n",
       "   view  condition  grade  sqft_above  sqft_basement  yr_built  yr_renovated  \\\n",
       "0     0          3      7        1180              0      1955             0   \n",
       "1     0          3      7        2170            400      1951          1991   \n",
       "2     0          3      6         770              0      1933             0   \n",
       "3     0          5      7        1050            910      1965             0   \n",
       "4     0          3      8        1680              0      1987             0   \n",
       "\n",
       "       lat     long  sqft_living15  sqft_lot15  yr_of_tran  month_of_tran  \n",
       "0  47.5112 -122.257           1340        5650        2014             10  \n",
       "1  47.7210 -122.319           1690        7639        2014             12  \n",
       "2  47.7379 -122.233           2720        8062        2015              2  \n",
       "3  47.5208 -122.393           1360        5000        2014             12  \n",
       "4  47.6168 -122.045           1800        7503        2015              2  "
      ]
     },
     "execution_count": 18,
     "metadata": {},
     "output_type": "execute_result"
    }
   ],
   "source": [
    "#final look of data\n",
    "df.head()"
   ]
  },
  {
   "cell_type": "markdown",
   "metadata": {},
   "source": [
    "# Implementing algorithm"
   ]
  },
  {
   "cell_type": "markdown",
   "metadata": {},
   "source": [
    "We have to standardized the all features into one scale as their values ranges from single digit to 4 digits\n",
    "\n",
    "Example bathrooms and sqft_living are of different scales. We need to being them under same scale.\n",
    "\n",
    "You can refer to this url [chosing scaler](https://stackoverflow.com/questions/51237635/difference-between-standard-scaler-and-minmaxscaler/51237727) for choosing the scaler. Here we would be using minmax scaler\n",
    "\n",
    "Before scaling, we need to split data into training and test sets"
   ]
  },
  {
   "cell_type": "code",
   "execution_count": 19,
   "metadata": {},
   "outputs": [
    {
     "name": "stdout",
     "output_type": "stream",
     "text": [
      "Index(['price', 'bedrooms', 'bathrooms', 'sqft_living', 'sqft_lot', 'floors',\n",
      "       'waterfront', 'view', 'condition', 'grade', 'sqft_above',\n",
      "       'sqft_basement', 'yr_built', 'yr_renovated', 'lat', 'long',\n",
      "       'sqft_living15', 'sqft_lot15', 'yr_of_tran', 'month_of_tran'],\n",
      "      dtype='object')\n"
     ]
    }
   ],
   "source": [
    "# hit and trial\n",
    "# df = df[(df.price<800000)] #to remove outliers\n",
    "# df = df[(df.price>2000000) & (df.price<5000000)]\n",
    "# df.drop('grade',axis=1,inplace=True)\n",
    "# df.drop('sqft_living15',axis=1,inplace=True)\n",
    "# df.drop('bathrooms',axis=1,inplace=True)\n",
    "# df.drop('sqft_lot',axis=1,inplace=True)\n",
    "# df.drop('bedrooms',axis=1,inplace=True)\n",
    "print(df.columns)"
   ]
  },
  {
   "cell_type": "code",
   "execution_count": 20,
   "metadata": {},
   "outputs": [
    {
     "name": "stdout",
     "output_type": "stream",
     "text": [
      "(15117, 19) (6480, 19) (15117,) (6480,)\n"
     ]
    }
   ],
   "source": [
    "X=df.drop('price',axis=1).values #converting this into numpy arrays as keras/tensorflow doesn't accept dataframes\n",
    "y=df['price'].values\n",
    "X_train,X_test,y_train,y_test = train_test_split(X,y,test_size=0.3)\n",
    "print(X_train.shape,X_test.shape,y_train.shape,y_test.shape)"
   ]
  },
  {
   "cell_type": "code",
   "execution_count": 21,
   "metadata": {},
   "outputs": [
    {
     "data": {
      "text/plain": [
       "array([[0.09375   , 0.23333333, 0.08580106, 0.00418544, 0.4       ,\n",
       "        0.        , 0.        , 0.5       , 0.4       , 0.125     ,\n",
       "        0.        , 0.86086957, 0.        , 0.28534287, 0.21363259,\n",
       "        0.19278585, 0.00608013, 0.        , 0.54545455],\n",
       "       [0.09375   , 0.26666667, 0.19665907, 0.03533189, 0.4       ,\n",
       "        0.        , 0.        , 0.5       , 0.7       , 0.28650442,\n",
       "        0.        , 0.73913043, 0.        , 0.92573936, 0.32169576,\n",
       "        0.61302749, 0.03956735, 0.        , 0.45454545]])"
      ]
     },
     "execution_count": 21,
     "metadata": {},
     "output_type": "execute_result"
    }
   ],
   "source": [
    "minmax = MinMaxScaler()\n",
    "minmax.fit(X_train) #fit/model this using only training data and not with test data.\n",
    "X_train_scaled = minmax.transform(X_train)\n",
    "X_test_scaled = minmax.transform(X_test)\n",
    "\n",
    "X_test_scaled[0:2] #have a look at scaled data"
   ]
  },
  {
   "cell_type": "markdown",
   "metadata": {},
   "source": [
    "We are now ready for implementing different models"
   ]
  },
  {
   "cell_type": "markdown",
   "metadata": {},
   "source": [
    "## Linear Model"
   ]
  },
  {
   "cell_type": "code",
   "execution_count": 22,
   "metadata": {},
   "outputs": [
    {
     "name": "stdout",
     "output_type": "stream",
     "text": [
      "RMSE for Linear model= 202451.37324546723\n",
      "Average Price= 535995.4833333333\n",
      "-367203.7363233445\n",
      "[-1.08104171e+06  3.16474905e+05  4.87662362e+17  9.46682184e+04\n",
      "  1.99351767e+03  5.80253364e+05  2.09924106e+05  1.25375212e+05\n",
      "  9.69742836e+05 -3.34735593e+17 -1.78476278e+17 -2.78403617e+05\n",
      "  4.30607420e+04  3.49096856e+05 -1.57541187e+05  1.38638367e+05\n",
      " -3.08956686e+05  3.66941064e+04  1.55469504e+04]\n"
     ]
    }
   ],
   "source": [
    "model_linear = LinearRegression()\n",
    "model_linear.fit(X_train_scaled,y_train)\n",
    "prediction_linear = model_linear.predict(X_test_scaled)\n",
    "print('RMSE for Linear model= '+ str(np.sqrt(mean_squared_error(y_test,prediction_linear))))\n",
    "print('Average Price= '+ str(np.mean(y_test)))\n",
    "print(model_linear.intercept_)\n",
    "print(model_linear.coef_)"
   ]
  },
  {
   "cell_type": "markdown",
   "metadata": {},
   "source": [
    "This model doesn't looks good in performing good prediction as we can see that RMSE is almost 50% of price."
   ]
  },
  {
   "cell_type": "code",
   "execution_count": 23,
   "metadata": {},
   "outputs": [
    {
     "data": {
      "text/html": [
       "<div>\n",
       "<style scoped>\n",
       "    .dataframe tbody tr th:only-of-type {\n",
       "        vertical-align: middle;\n",
       "    }\n",
       "\n",
       "    .dataframe tbody tr th {\n",
       "        vertical-align: top;\n",
       "    }\n",
       "\n",
       "    .dataframe thead th {\n",
       "        text-align: right;\n",
       "    }\n",
       "</style>\n",
       "<table border=\"1\" class=\"dataframe\">\n",
       "  <thead>\n",
       "    <tr style=\"text-align: right;\">\n",
       "      <th></th>\n",
       "      <th>y_test</th>\n",
       "      <th>sqft_living</th>\n",
       "      <th>prediction_linear</th>\n",
       "    </tr>\n",
       "  </thead>\n",
       "  <tbody>\n",
       "    <tr>\n",
       "      <th>0</th>\n",
       "      <td>215000.0</td>\n",
       "      <td>1500.0</td>\n",
       "      <td>1.248763e+05</td>\n",
       "    </tr>\n",
       "    <tr>\n",
       "      <th>1</th>\n",
       "      <td>883000.0</td>\n",
       "      <td>2960.0</td>\n",
       "      <td>9.851643e+05</td>\n",
       "    </tr>\n",
       "    <tr>\n",
       "      <th>2</th>\n",
       "      <td>380500.0</td>\n",
       "      <td>1270.0</td>\n",
       "      <td>4.303043e+05</td>\n",
       "    </tr>\n",
       "    <tr>\n",
       "      <th>3</th>\n",
       "      <td>265000.0</td>\n",
       "      <td>1320.0</td>\n",
       "      <td>1.292123e+05</td>\n",
       "    </tr>\n",
       "    <tr>\n",
       "      <th>4</th>\n",
       "      <td>780000.0</td>\n",
       "      <td>3190.0</td>\n",
       "      <td>1.000252e+06</td>\n",
       "    </tr>\n",
       "  </tbody>\n",
       "</table>\n",
       "</div>"
      ],
      "text/plain": [
       "     y_test  sqft_living  prediction_linear\n",
       "0  215000.0       1500.0       1.248763e+05\n",
       "1  883000.0       2960.0       9.851643e+05\n",
       "2  380500.0       1270.0       4.303043e+05\n",
       "3  265000.0       1320.0       1.292123e+05\n",
       "4  780000.0       3190.0       1.000252e+06"
      ]
     },
     "execution_count": 23,
     "metadata": {},
     "output_type": "execute_result"
    }
   ],
   "source": [
    "df_prediction = pd.DataFrame(y_test,columns=['y_test'])\n",
    "df_prediction['sqft_living'] = X_test[:,2] #capturing unscaled sqft_living for analysis\n",
    "df_prediction['prediction_linear'] = prediction_linear\n",
    "df_prediction.head()"
   ]
  },
  {
   "cell_type": "code",
   "execution_count": 24,
   "metadata": {},
   "outputs": [
    {
     "data": {
      "text/plain": [
       "<matplotlib.axes._subplots.AxesSubplot at 0x2098f8fd608>"
      ]
     },
     "execution_count": 24,
     "metadata": {},
     "output_type": "execute_result"
    },
    {
     "data": {
      "image/png": "[encoded data removed]",
      "text/plain": [
       "<Figure size 1080x360 with 1 Axes>"
      ]
     },
     "metadata": {
      "needs_background": "light"
     },
     "output_type": "display_data"
    }
   ],
   "source": [
    "df_prediction[['y_test','prediction_linear']].plot(figsize=(15,5))"
   ]
  },
  {
   "cell_type": "code",
   "execution_count": 25,
   "metadata": {},
   "outputs": [
    {
     "data": {
      "text/plain": [
       "<matplotlib.legend.Legend at 0x2098f979048>"
      ]
     },
     "execution_count": 25,
     "metadata": {},
     "output_type": "execute_result"
    },
    {
     "data": {
      "image/png": "[encoded data removed]",
      "text/plain": [
       "<Figure size 1080x360 with 1 Axes>"
      ]
     },
     "metadata": {
      "needs_background": "light"
     },
     "output_type": "display_data"
    }
   ],
   "source": [
    "fig,ax=plt.subplots(figsize=(15,5))\n",
    "ax.scatter(df_prediction['sqft_living'],df_prediction['y_test'],label='Actual(y_test)')\n",
    "ax.scatter(df_prediction['sqft_living'],df_prediction['prediction_linear'],label='Predicted(prediction_linear)')\n",
    "plt.legend()"
   ]
  },
  {
   "cell_type": "code",
   "execution_count": 26,
   "metadata": {},
   "outputs": [
    {
     "data": {
      "text/html": [
       "<div>\n",
       "<style scoped>\n",
       "    .dataframe tbody tr th:only-of-type {\n",
       "        vertical-align: middle;\n",
       "    }\n",
       "\n",
       "    .dataframe tbody tr th {\n",
       "        vertical-align: top;\n",
       "    }\n",
       "\n",
       "    .dataframe thead th {\n",
       "        text-align: right;\n",
       "    }\n",
       "</style>\n",
       "<table border=\"1\" class=\"dataframe\">\n",
       "  <thead>\n",
       "    <tr style=\"text-align: right;\">\n",
       "      <th></th>\n",
       "      <th>count</th>\n",
       "      <th>mean</th>\n",
       "      <th>std</th>\n",
       "      <th>min</th>\n",
       "      <th>25%</th>\n",
       "      <th>50%</th>\n",
       "      <th>75%</th>\n",
       "      <th>max</th>\n",
       "    </tr>\n",
       "  </thead>\n",
       "  <tbody>\n",
       "    <tr>\n",
       "      <th>y_test</th>\n",
       "      <td>6480.0</td>\n",
       "      <td>535995.483333</td>\n",
       "      <td>366084.553971</td>\n",
       "      <td>82000.000000</td>\n",
       "      <td>318972.000000</td>\n",
       "      <td>445000.000000</td>\n",
       "      <td>640000.000000</td>\n",
       "      <td>5.570000e+06</td>\n",
       "    </tr>\n",
       "    <tr>\n",
       "      <th>prediction_linear</th>\n",
       "      <td>6480.0</td>\n",
       "      <td>536739.794493</td>\n",
       "      <td>310193.193691</td>\n",
       "      <td>-207391.736323</td>\n",
       "      <td>329549.263677</td>\n",
       "      <td>483057.763677</td>\n",
       "      <td>687100.263677</td>\n",
       "      <td>2.758556e+06</td>\n",
       "    </tr>\n",
       "  </tbody>\n",
       "</table>\n",
       "</div>"
      ],
      "text/plain": [
       "                    count           mean            std            min  \\\n",
       "y_test             6480.0  535995.483333  366084.553971   82000.000000   \n",
       "prediction_linear  6480.0  536739.794493  310193.193691 -207391.736323   \n",
       "\n",
       "                             25%            50%            75%           max  \n",
       "y_test             318972.000000  445000.000000  640000.000000  5.570000e+06  \n",
       "prediction_linear  329549.263677  483057.763677  687100.263677  2.758556e+06  "
      ]
     },
     "execution_count": 26,
     "metadata": {},
     "output_type": "execute_result"
    }
   ],
   "source": [
    "df_prediction[['y_test','prediction_linear']].describe().transpose()"
   ]
  },
  {
   "cell_type": "code",
   "execution_count": 27,
   "metadata": {},
   "outputs": [
    {
     "data": {
      "text/html": [
       "<div>\n",
       "<style scoped>\n",
       "    .dataframe tbody tr th:only-of-type {\n",
       "        vertical-align: middle;\n",
       "    }\n",
       "\n",
       "    .dataframe tbody tr th {\n",
       "        vertical-align: top;\n",
       "    }\n",
       "\n",
       "    .dataframe thead th {\n",
       "        text-align: right;\n",
       "    }\n",
       "</style>\n",
       "<table border=\"1\" class=\"dataframe\">\n",
       "  <thead>\n",
       "    <tr style=\"text-align: right;\">\n",
       "      <th></th>\n",
       "      <th>y_test</th>\n",
       "      <th>sqft_living</th>\n",
       "      <th>prediction_linear</th>\n",
       "    </tr>\n",
       "  </thead>\n",
       "  <tbody>\n",
       "    <tr>\n",
       "      <th>39</th>\n",
       "      <td>115000.0</td>\n",
       "      <td>550.0</td>\n",
       "      <td>-21969.736323</td>\n",
       "    </tr>\n",
       "    <tr>\n",
       "      <th>297</th>\n",
       "      <td>527550.0</td>\n",
       "      <td>820.0</td>\n",
       "      <td>-111529.736323</td>\n",
       "    </tr>\n",
       "    <tr>\n",
       "      <th>1426</th>\n",
       "      <td>202000.0</td>\n",
       "      <td>1420.0</td>\n",
       "      <td>-52803.736323</td>\n",
       "    </tr>\n",
       "    <tr>\n",
       "      <th>1932</th>\n",
       "      <td>133400.0</td>\n",
       "      <td>900.0</td>\n",
       "      <td>-31823.736323</td>\n",
       "    </tr>\n",
       "    <tr>\n",
       "      <th>1939</th>\n",
       "      <td>250000.0</td>\n",
       "      <td>720.0</td>\n",
       "      <td>-10597.736323</td>\n",
       "    </tr>\n",
       "  </tbody>\n",
       "</table>\n",
       "</div>"
      ],
      "text/plain": [
       "        y_test  sqft_living  prediction_linear\n",
       "39    115000.0        550.0      -21969.736323\n",
       "297   527550.0        820.0     -111529.736323\n",
       "1426  202000.0       1420.0      -52803.736323\n",
       "1932  133400.0        900.0      -31823.736323\n",
       "1939  250000.0        720.0      -10597.736323"
      ]
     },
     "execution_count": 27,
     "metadata": {},
     "output_type": "execute_result"
    }
   ],
   "source": [
    "df_prediction[(df_prediction['prediction_linear']<0)].head() #negative price"
   ]
  },
  {
   "cell_type": "markdown",
   "metadata": {},
   "source": [
    "Things to watch out\n",
    "- Linear model is ok with predicting houses with lower prices\n",
    "- Model is completely failing in predicting price over 1.5 millions.\n",
    "- There are cases where model is predicting price in negative value and this is strange\n",
    "\n",
    "As we analyzed earlier in price distribution, there are **outliers** which is making this model to behave pretty bad specially for high prices.\n",
    "\n",
    "Maximum value predicted by model is around 3 million and actual value is around 7.7 million"
   ]
  },
  {
   "cell_type": "markdown",
   "metadata": {},
   "source": [
    "## Ridge Model"
   ]
  },
  {
   "cell_type": "code",
   "execution_count": 28,
   "metadata": {},
   "outputs": [
    {
     "name": "stdout",
     "output_type": "stream",
     "text": [
      "RMSE for Ridge model= 202470.88972949\n",
      "Average Price= 535995.4833333333\n"
     ]
    }
   ],
   "source": [
    "model_ridge = Ridge(alpha=1) #have tried for different values of alpha\n",
    "model_ridge.fit(X_train_scaled,y_train)\n",
    "prediction_ridge = model_ridge.predict(X_test_scaled)\n",
    "print('RMSE for Ridge model= '+ str(np.sqrt(mean_squared_error(y_test,prediction_ridge))))\n",
    "print('Average Price= '+ str(np.mean(y_test)))"
   ]
  },
  {
   "cell_type": "code",
   "execution_count": 29,
   "metadata": {},
   "outputs": [
    {
     "data": {
      "text/html": [
       "<div>\n",
       "<style scoped>\n",
       "    .dataframe tbody tr th:only-of-type {\n",
       "        vertical-align: middle;\n",
       "    }\n",
       "\n",
       "    .dataframe tbody tr th {\n",
       "        vertical-align: top;\n",
       "    }\n",
       "\n",
       "    .dataframe thead th {\n",
       "        text-align: right;\n",
       "    }\n",
       "</style>\n",
       "<table border=\"1\" class=\"dataframe\">\n",
       "  <thead>\n",
       "    <tr style=\"text-align: right;\">\n",
       "      <th></th>\n",
       "      <th>y_test</th>\n",
       "      <th>sqft_living</th>\n",
       "      <th>prediction_linear</th>\n",
       "      <th>prediction_ridge</th>\n",
       "    </tr>\n",
       "  </thead>\n",
       "  <tbody>\n",
       "    <tr>\n",
       "      <th>0</th>\n",
       "      <td>215000.0</td>\n",
       "      <td>1500.0</td>\n",
       "      <td>1.248763e+05</td>\n",
       "      <td>129496.492499</td>\n",
       "    </tr>\n",
       "    <tr>\n",
       "      <th>1</th>\n",
       "      <td>883000.0</td>\n",
       "      <td>2960.0</td>\n",
       "      <td>9.851643e+05</td>\n",
       "      <td>988503.527789</td>\n",
       "    </tr>\n",
       "    <tr>\n",
       "      <th>2</th>\n",
       "      <td>380500.0</td>\n",
       "      <td>1270.0</td>\n",
       "      <td>4.303043e+05</td>\n",
       "      <td>432618.525110</td>\n",
       "    </tr>\n",
       "    <tr>\n",
       "      <th>3</th>\n",
       "      <td>265000.0</td>\n",
       "      <td>1320.0</td>\n",
       "      <td>1.292123e+05</td>\n",
       "      <td>129900.078625</td>\n",
       "    </tr>\n",
       "    <tr>\n",
       "      <th>4</th>\n",
       "      <td>780000.0</td>\n",
       "      <td>3190.0</td>\n",
       "      <td>1.000252e+06</td>\n",
       "      <td>995259.549389</td>\n",
       "    </tr>\n",
       "  </tbody>\n",
       "</table>\n",
       "</div>"
      ],
      "text/plain": [
       "     y_test  sqft_living  prediction_linear  prediction_ridge\n",
       "0  215000.0       1500.0       1.248763e+05     129496.492499\n",
       "1  883000.0       2960.0       9.851643e+05     988503.527789\n",
       "2  380500.0       1270.0       4.303043e+05     432618.525110\n",
       "3  265000.0       1320.0       1.292123e+05     129900.078625\n",
       "4  780000.0       3190.0       1.000252e+06     995259.549389"
      ]
     },
     "execution_count": 29,
     "metadata": {},
     "output_type": "execute_result"
    }
   ],
   "source": [
    "df_prediction['prediction_ridge'] = prediction_ridge\n",
    "df_prediction.head()"
   ]
  },
  {
   "cell_type": "code",
   "execution_count": 30,
   "metadata": {},
   "outputs": [
    {
     "data": {
      "text/plain": [
       "<matplotlib.legend.Legend at 0x209903ba988>"
      ]
     },
     "execution_count": 30,
     "metadata": {},
     "output_type": "execute_result"
    },
    {
     "data": {
      "image/png": "[encoded data removed]",
      "text/plain": [
       "<Figure size 1080x360 with 1 Axes>"
      ]
     },
     "metadata": {
      "needs_background": "light"
     },
     "output_type": "display_data"
    }
   ],
   "source": [
    "fig,ax=plt.subplots(figsize=(15,5))\n",
    "ax.scatter(df_prediction['sqft_living'],df_prediction['y_test'],label='Actual(y_test)')\n",
    "ax.scatter(df_prediction['sqft_living'],df_prediction['prediction_ridge'],label='Predicted(prediction_ridge)')\n",
    "plt.legend()"
   ]
  },
  {
   "cell_type": "code",
   "execution_count": 31,
   "metadata": {},
   "outputs": [
    {
     "name": "stdout",
     "output_type": "stream",
     "text": [
      "28\n"
     ]
    },
    {
     "data": {
      "text/html": [
       "<div>\n",
       "<style scoped>\n",
       "    .dataframe tbody tr th:only-of-type {\n",
       "        vertical-align: middle;\n",
       "    }\n",
       "\n",
       "    .dataframe tbody tr th {\n",
       "        vertical-align: top;\n",
       "    }\n",
       "\n",
       "    .dataframe thead th {\n",
       "        text-align: right;\n",
       "    }\n",
       "</style>\n",
       "<table border=\"1\" class=\"dataframe\">\n",
       "  <thead>\n",
       "    <tr style=\"text-align: right;\">\n",
       "      <th></th>\n",
       "      <th>y_test</th>\n",
       "      <th>sqft_living</th>\n",
       "      <th>prediction_linear</th>\n",
       "      <th>prediction_ridge</th>\n",
       "    </tr>\n",
       "  </thead>\n",
       "  <tbody>\n",
       "    <tr>\n",
       "      <th>39</th>\n",
       "      <td>115000.0</td>\n",
       "      <td>550.0</td>\n",
       "      <td>-21969.736323</td>\n",
       "      <td>-22662.220979</td>\n",
       "    </tr>\n",
       "    <tr>\n",
       "      <th>297</th>\n",
       "      <td>527550.0</td>\n",
       "      <td>820.0</td>\n",
       "      <td>-111529.736323</td>\n",
       "      <td>-117824.665716</td>\n",
       "    </tr>\n",
       "    <tr>\n",
       "      <th>1426</th>\n",
       "      <td>202000.0</td>\n",
       "      <td>1420.0</td>\n",
       "      <td>-52803.736323</td>\n",
       "      <td>-54527.626933</td>\n",
       "    </tr>\n",
       "    <tr>\n",
       "      <th>1932</th>\n",
       "      <td>133400.0</td>\n",
       "      <td>900.0</td>\n",
       "      <td>-31823.736323</td>\n",
       "      <td>-30628.443394</td>\n",
       "    </tr>\n",
       "    <tr>\n",
       "      <th>1939</th>\n",
       "      <td>250000.0</td>\n",
       "      <td>720.0</td>\n",
       "      <td>-10597.736323</td>\n",
       "      <td>-1163.737374</td>\n",
       "    </tr>\n",
       "  </tbody>\n",
       "</table>\n",
       "</div>"
      ],
      "text/plain": [
       "        y_test  sqft_living  prediction_linear  prediction_ridge\n",
       "39    115000.0        550.0      -21969.736323     -22662.220979\n",
       "297   527550.0        820.0     -111529.736323    -117824.665716\n",
       "1426  202000.0       1420.0      -52803.736323     -54527.626933\n",
       "1932  133400.0        900.0      -31823.736323     -30628.443394\n",
       "1939  250000.0        720.0      -10597.736323      -1163.737374"
      ]
     },
     "execution_count": 31,
     "metadata": {},
     "output_type": "execute_result"
    }
   ],
   "source": [
    "print(sum((df_prediction['prediction_ridge']<0))) #prediction less than 0\n",
    "df_prediction[(df_prediction['prediction_ridge']<0)].head()"
   ]
  },
  {
   "cell_type": "markdown",
   "metadata": {},
   "source": [
    "Ridge is almost performing in similar lines as linear mode"
   ]
  },
  {
   "cell_type": "markdown",
   "metadata": {},
   "source": [
    "## Lasso Model"
   ]
  },
  {
   "cell_type": "code",
   "execution_count": 32,
   "metadata": {},
   "outputs": [
    {
     "name": "stdout",
     "output_type": "stream",
     "text": [
      "RMSE for Lasso model= 202450.92724416847\n",
      "Average Price= 535995.4833333333\n"
     ]
    },
    {
     "name": "stderr",
     "output_type": "stream",
     "text": [
      "C:\\Users\\rahul kushwaha\\Anaconda3\\lib\\site-packages\\sklearn\\linear_model\\_coordinate_descent.py:476: ConvergenceWarning: Objective did not converge. You might want to increase the number of iterations. Duality gap: 40159560168927.44, tolerance: 204610889048.80655\n",
      "  positive)\n"
     ]
    },
    {
     "data": {
      "text/html": [
       "<div>\n",
       "<style scoped>\n",
       "    .dataframe tbody tr th:only-of-type {\n",
       "        vertical-align: middle;\n",
       "    }\n",
       "\n",
       "    .dataframe tbody tr th {\n",
       "        vertical-align: top;\n",
       "    }\n",
       "\n",
       "    .dataframe thead th {\n",
       "        text-align: right;\n",
       "    }\n",
       "</style>\n",
       "<table border=\"1\" class=\"dataframe\">\n",
       "  <thead>\n",
       "    <tr style=\"text-align: right;\">\n",
       "      <th></th>\n",
       "      <th>y_test</th>\n",
       "      <th>sqft_living</th>\n",
       "      <th>prediction_linear</th>\n",
       "      <th>prediction_ridge</th>\n",
       "      <th>prediction_lasso</th>\n",
       "    </tr>\n",
       "  </thead>\n",
       "  <tbody>\n",
       "    <tr>\n",
       "      <th>0</th>\n",
       "      <td>215000.0</td>\n",
       "      <td>1500.0</td>\n",
       "      <td>1.248763e+05</td>\n",
       "      <td>129496.492499</td>\n",
       "      <td>1.245788e+05</td>\n",
       "    </tr>\n",
       "    <tr>\n",
       "      <th>1</th>\n",
       "      <td>883000.0</td>\n",
       "      <td>2960.0</td>\n",
       "      <td>9.851643e+05</td>\n",
       "      <td>988503.527789</td>\n",
       "      <td>9.849892e+05</td>\n",
       "    </tr>\n",
       "    <tr>\n",
       "      <th>2</th>\n",
       "      <td>380500.0</td>\n",
       "      <td>1270.0</td>\n",
       "      <td>4.303043e+05</td>\n",
       "      <td>432618.525110</td>\n",
       "      <td>4.299499e+05</td>\n",
       "    </tr>\n",
       "    <tr>\n",
       "      <th>3</th>\n",
       "      <td>265000.0</td>\n",
       "      <td>1320.0</td>\n",
       "      <td>1.292123e+05</td>\n",
       "      <td>129900.078625</td>\n",
       "      <td>1.289842e+05</td>\n",
       "    </tr>\n",
       "    <tr>\n",
       "      <th>4</th>\n",
       "      <td>780000.0</td>\n",
       "      <td>3190.0</td>\n",
       "      <td>1.000252e+06</td>\n",
       "      <td>995259.549389</td>\n",
       "      <td>1.000070e+06</td>\n",
       "    </tr>\n",
       "  </tbody>\n",
       "</table>\n",
       "</div>"
      ],
      "text/plain": [
       "     y_test  sqft_living  prediction_linear  prediction_ridge  \\\n",
       "0  215000.0       1500.0       1.248763e+05     129496.492499   \n",
       "1  883000.0       2960.0       9.851643e+05     988503.527789   \n",
       "2  380500.0       1270.0       4.303043e+05     432618.525110   \n",
       "3  265000.0       1320.0       1.292123e+05     129900.078625   \n",
       "4  780000.0       3190.0       1.000252e+06     995259.549389   \n",
       "\n",
       "   prediction_lasso  \n",
       "0      1.245788e+05  \n",
       "1      9.849892e+05  \n",
       "2      4.299499e+05  \n",
       "3      1.289842e+05  \n",
       "4      1.000070e+06  "
      ]
     },
     "execution_count": 32,
     "metadata": {},
     "output_type": "execute_result"
    }
   ],
   "source": [
    "model_lasso = Lasso(alpha=.01,max_iter=5000) #have tried for different value of alpha\n",
    "model_lasso.fit(X_train_scaled,y_train)\n",
    "prediction_lasso = model_lasso.predict(X_test_scaled)\n",
    "print('RMSE for Lasso model= '+ str(np.sqrt(mean_squared_error(y_test,prediction_lasso))))\n",
    "print('Average Price= '+ str(np.mean(y_test)))\n",
    "df_prediction['prediction_lasso'] = prediction_lasso\n",
    "df_prediction.head()"
   ]
  },
  {
   "cell_type": "markdown",
   "metadata": {},
   "source": [
    "Same behaviour as Linear and Ridge"
   ]
  },
  {
   "cell_type": "markdown",
   "metadata": {},
   "source": [
    "## ANN"
   ]
  },
  {
   "cell_type": "code",
   "execution_count": 33,
   "metadata": {},
   "outputs": [],
   "source": [
    "model_ann = Sequential()\n",
    "model_ann.add(Dense(19,activation='relu'))\n",
    "model_ann.add(Dropout(0.2))\n",
    "\n",
    "model_ann.add(Dense(40,activation='relu'))\n",
    "model_ann.add(Dropout(0.3))\n",
    "\n",
    "model_ann.add(Dense(20,activation='relu'))\n",
    "model_ann.add(Dropout(0.3))\n",
    "\n",
    "model_ann.add(Dense(1))\n",
    "\n",
    "model_ann.compile(loss='mse',optimizer='adam')"
   ]
  },
  {
   "cell_type": "code",
   "execution_count": 34,
   "metadata": {},
   "outputs": [
    {
     "name": "stdout",
     "output_type": "stream",
     "text": [
      "Train on 15117 samples, validate on 6480 samples\n",
      "Epoch 1/100\n",
      "15117/15117 [==============================] - 1s 64us/sample - loss: 429264959808.4022 - val_loss: 421277791067.6543\n",
      "Epoch 2/100\n",
      "15117/15117 [==============================] - 0s 20us/sample - loss: 429189687509.3757 - val_loss: 421053753824.3951\n",
      "Epoch 3/100\n",
      "15117/15117 [==============================] - 0s 18us/sample - loss: 428470699189.2000 - val_loss: 419494179271.1111\n",
      "Epoch 4/100\n",
      "15117/15117 [==============================] - 0s 19us/sample - loss: 425101623532.2712 - val_loss: 413820896243.3580\n",
      "Epoch 5/100\n",
      "15117/15117 [==============================] - 0s 19us/sample - loss: 415813378166.6775 - val_loss: 400344438708.1481\n",
      "Epoch 6/100\n",
      "15117/15117 [==============================] - 0s 24us/sample - loss: 396893641538.6714 - val_loss: 375425487808.7902\n",
      "Epoch 7/100\n",
      "15117/15117 [==============================] - 0s 18us/sample - loss: 365413908017.2119 - val_loss: 336629839695.0123\n",
      "Epoch 8/100\n",
      "15117/15117 [==============================] - 0s 22us/sample - loss: 319225218567.3496 - val_loss: 284677566514.5679\n",
      "Epoch 9/100\n",
      "15117/15117 [==============================] - 0s 18us/sample - loss: 263676902724.9407 - val_loss: 226274809375.6049\n",
      "Epoch 10/100\n",
      "15117/15117 [==============================] - 0s 24us/sample - loss: 206664341963.1302 - val_loss: 172209793150.4197\n",
      "Epoch 11/100\n",
      "15117/15117 [==============================] - 0s 18us/sample - loss: 161786716204.9782 - val_loss: 132916797793.9753\n",
      "Epoch 12/100\n",
      "15117/15117 [==============================] - 0s 22us/sample - loss: 135406710395.1821 - val_loss: 111838814056.2963\n",
      "Epoch 13/100\n",
      "15117/15117 [==============================] - 0s 17us/sample - loss: 124031005213.9065 - val_loss: 103204194860.2469\n",
      "Epoch 14/100\n",
      "15117/15117 [==============================] - 0s 25us/sample - loss: 119142422767.6581 - val_loss: 99951053482.6667\n",
      "Epoch 15/100\n",
      "15117/15117 [==============================] - 0s 16us/sample - loss: 116222052528.5260 - val_loss: 98398111592.2963\n",
      "Epoch 16/100\n",
      "15117/15117 [==============================] - 0s 22us/sample - loss: 115588050593.9284 - val_loss: 97592168877.8272\n",
      "Epoch 17/100\n",
      "15117/15117 [==============================] - 0s 18us/sample - loss: 114571307561.1510 - val_loss: 96732994547.3580\n",
      "Epoch 18/100\n",
      "15117/15117 [==============================] - 0s 21us/sample - loss: 115036480594.0311 - val_loss: 96096910196.9383\n",
      "Epoch 19/100\n",
      "15117/15117 [==============================] - 0s 21us/sample - loss: 114982932131.8251 - val_loss: 95424523883.4568\n",
      "Epoch 20/100\n",
      "15117/15117 [==============================] - 0s 17us/sample - loss: 113400027856.8711 - val_loss: 94682814261.7284\n",
      "Epoch 21/100\n",
      "15117/15117 [==============================] - 0s 20us/sample - loss: 112084879065.6093 - val_loss: 93896754239.2099\n",
      "Epoch 22/100\n",
      "15117/15117 [==============================] - 0s 18us/sample - loss: 112926881072.2128 - val_loss: 93295136717.4321\n",
      "Epoch 23/100\n",
      "15117/15117 [==============================] - 0s 18us/sample - loss: 112825333074.0819 - val_loss: 92617997956.7407\n",
      "Epoch 24/100\n",
      "15117/15117 [==============================] - 0s 24us/sample - loss: 111678749823.6867 - val_loss: 91907778838.1235\n",
      "Epoch 25/100\n",
      "15117/15117 [==============================] - 0s 17us/sample - loss: 110317704528.4562 - val_loss: 91111471786.6667\n",
      "Epoch 26/100\n",
      "15117/15117 [==============================] - 0s 15us/sample - loss: 109683040866.1867 - val_loss: 90255780067.5556\n",
      "Epoch 27/100\n",
      "15117/15117 [==============================] - 0s 18us/sample - loss: 109149036231.3200 - val_loss: 89474972709.9259\n",
      "Epoch 28/100\n",
      "15117/15117 [==============================] - 0s 16us/sample - loss: 108879634925.6768 - val_loss: 88855677686.5185\n",
      "Epoch 29/100\n",
      "15117/15117 [==============================] - 0s 18us/sample - loss: 107392341223.8682 - val_loss: 87852676235.0617\n",
      "Epoch 30/100\n",
      "15117/15117 [==============================] - 0s 16us/sample - loss: 107243339417.2579 - val_loss: 87131061488.1975\n",
      "Epoch 31/100\n",
      "15117/15117 [==============================] - 0s 18us/sample - loss: 107015445990.9707 - val_loss: 86353609664.7901\n",
      "Epoch 32/100\n",
      "15117/15117 [==============================] - 0s 17us/sample - loss: 105276322427.3853 - val_loss: 85442636142.6173\n",
      "Epoch 33/100\n",
      "15117/15117 [==============================] - 0s 18us/sample - loss: 103818027841.9940 - val_loss: 84463176615.5062\n",
      "Epoch 34/100\n",
      "15117/15117 [==============================] - 0s 15us/sample - loss: 101359456569.4929 - val_loss: 83544573041.7778\n",
      "Epoch 35/100\n",
      "15117/15117 [==============================] - 0s 18us/sample - loss: 100055777692.6618 - val_loss: 82615630228.5432\n",
      "Epoch 36/100\n",
      "15117/15117 [==============================] - 0s 16us/sample - loss: 102429383481.4590 - val_loss: 81788044452.3457\n",
      "Epoch 37/100\n",
      "15117/15117 [==============================] - 0s 18us/sample - loss: 101693614308.5491 - val_loss: 80873175621.5309\n",
      "Epoch 38/100\n",
      "15117/15117 [==============================] - 0s 16us/sample - loss: 99056172916.1881 - val_loss: 79909886697.8765\n",
      "Epoch 39/100\n",
      "15117/15117 [==============================] - 0s 18us/sample - loss: 97614099037.0386 - val_loss: 78907091955.3580\n",
      "Epoch 40/100\n",
      "15117/15117 [==============================] - 0s 16us/sample - loss: 97103806341.5291 - val_loss: 77768131141.5309\n",
      "Epoch 41/100\n",
      "15117/15117 [==============================] - 0s 18us/sample - loss: 97566795952.5260 - val_loss: 76980566787.1605\n",
      "Epoch 42/100\n",
      "15117/15117 [==============================] - 0s 18us/sample - loss: 96581454387.9892 - val_loss: 76004074698.2716\n",
      "Epoch 43/100\n",
      "15117/15117 [==============================] - 0s 17us/sample - loss: 92784197131.2784 - val_loss: 74733278941.2346\n",
      "Epoch 44/100\n",
      "15117/15117 [==============================] - 0s 18us/sample - loss: 93568115040.7811 - val_loss: 73652969901.8272\n",
      "Epoch 45/100\n",
      "15117/15117 [==============================] - 0s 19us/sample - loss: 92580564004.9174 - val_loss: 72644983277.0370\n",
      "Epoch 46/100\n",
      "15117/15117 [==============================] - 0s 17us/sample - loss: 91438463041.7061 - val_loss: 71831661492.1481\n",
      "Epoch 47/100\n",
      "15117/15117 [==============================] - 0s 23us/sample - loss: 89521609501.2799 - val_loss: 70532353731.9506\n",
      "Epoch 48/100\n",
      "15117/15117 [==============================] - 0s 21us/sample - loss: 89439368748.7411 - val_loss: 69581146010.8642\n",
      "Epoch 49/100\n",
      "15117/15117 [==============================] - 0s 15us/sample - loss: 86273232074.7408 - val_loss: 68433065946.0741\n",
      "Epoch 50/100\n",
      "15117/15117 [==============================] - 0s 17us/sample - loss: 83001217996.9931 - val_loss: 67315196472.8889\n",
      "Epoch 51/100\n",
      "15117/15117 [==============================] - 0s 15us/sample - loss: 84787989281.3442 - val_loss: 66387973714.1728\n",
      "Epoch 52/100\n",
      "15117/15117 [==============================] - 0s 18us/sample - loss: 84943835610.9810 - val_loss: 65177900891.6543\n",
      "Epoch 53/100\n",
      "15117/15117 [==============================] - 0s 17us/sample - loss: 83480354384.1006 - val_loss: 64541966664.6914\n",
      "Epoch 54/100\n",
      "15117/15117 [==============================] - 0s 15us/sample - loss: 81638520625.1272 - val_loss: 63622271051.8519\n",
      "Epoch 55/100\n",
      "15117/15117 [==============================] - 0s 15us/sample - loss: 84425981199.5629 - val_loss: 62821691581.6296\n",
      "Epoch 56/100\n",
      "15117/15117 [==============================] - 0s 16us/sample - loss: 81416114382.7373 - val_loss: 61541977884.4444\n",
      "Epoch 57/100\n",
      "15117/15117 [==============================] - 0s 15us/sample - loss: 81534218500.9280 - val_loss: 60795627987.7531\n",
      "Epoch 58/100\n",
      "15117/15117 [==============================] - 0s 20us/sample - loss: 78465115138.9128 - val_loss: 60118331922.9630\n",
      "Epoch 59/100\n",
      "15117/15117 [==============================] - 0s 19us/sample - loss: 77925797384.8398 - val_loss: 59451291888.1975\n",
      "Epoch 60/100\n",
      "15117/15117 [==============================] - 0s 20us/sample - loss: 78444937088.1101 - val_loss: 58551295405.8272\n",
      "Epoch 61/100\n",
      "15117/15117 [==============================] - 0s 22us/sample - loss: 78418593003.3906 - val_loss: 57816991516.4444\n",
      "Epoch 62/100\n",
      "15117/15117 [==============================] - 0s 15us/sample - loss: 77066004677.9313 - val_loss: 57147887957.3333\n",
      "Epoch 63/100\n",
      "15117/15117 [==============================] - 0s 19us/sample - loss: 75018305793.4056 - val_loss: 56661317935.4074\n"
     ]
    },
    {
     "name": "stdout",
     "output_type": "stream",
     "text": [
      "Epoch 64/100\n",
      "15117/15117 [==============================] - 0s 16us/sample - loss: 75335778722.3518 - val_loss: 55996944472.4938\n",
      "Epoch 65/100\n",
      "15117/15117 [==============================] - 0s 15us/sample - loss: 73415446427.2054 - val_loss: 55490270486.1235\n",
      "Epoch 66/100\n",
      "15117/15117 [==============================] - 0s 17us/sample - loss: 74543218176.1693 - val_loss: 54970649233.3827\n",
      "Epoch 67/100\n",
      "15117/15117 [==============================] - 0s 17us/sample - loss: 73068337129.1044 - val_loss: 54307409793.5802\n",
      "Epoch 68/100\n",
      "15117/15117 [==============================] - 0s 18us/sample - loss: 71942369887.2062 - val_loss: 54011637532.4444\n",
      "Epoch 69/100\n",
      "15117/15117 [==============================] - 0s 19us/sample - loss: 72005471634.7042 - val_loss: 53716776808.2963\n",
      "Epoch 70/100\n",
      "15117/15117 [==============================] - 0s 16us/sample - loss: 72039473718.8342 - val_loss: 53450323702.5185\n",
      "Epoch 71/100\n",
      "15117/15117 [==============================] - 0s 18us/sample - loss: 73734246403.2514 - val_loss: 52930741260.6420\n",
      "Epoch 72/100\n",
      "15117/15117 [==============================] - 0s 17us/sample - loss: 72039095008.5864 - val_loss: 52746953778.5679\n",
      "Epoch 73/100\n",
      "15117/15117 [==============================] - 0s 15us/sample - loss: 70950473688.1699 - val_loss: 51940183431.9012\n",
      "Epoch 74/100\n",
      "15117/15117 [==============================] - 0s 17us/sample - loss: 72812176495.8359 - val_loss: 51864605999.4074\n",
      "Epoch 75/100\n",
      "15117/15117 [==============================] - 0s 17us/sample - loss: 70352022097.7940 - val_loss: 52104437987.5556\n",
      "Epoch 76/100\n",
      "15117/15117 [==============================] - 0s 16us/sample - loss: 71491042776.3392 - val_loss: 51528005948.0494\n",
      "Epoch 77/100\n",
      "15117/15117 [==============================] - 0s 16us/sample - loss: 68527470907.2541 - val_loss: 50986027513.6790\n",
      "Epoch 78/100\n",
      "15117/15117 [==============================] - 0s 18us/sample - loss: 71116785730.2481 - val_loss: 51048549236.9383\n",
      "Epoch 79/100\n",
      "15117/15117 [==============================] - 0s 17us/sample - loss: 69240127271.7793 - val_loss: 50745504274.9630\n",
      "Epoch 80/100\n",
      "15117/15117 [==============================] - 0s 16us/sample - loss: 70805257678.8559 - val_loss: 50502635975.1111\n",
      "Epoch 81/100\n",
      "15117/15117 [==============================] - 0s 18us/sample - loss: 69772088937.7056 - val_loss: 50313121526.5185\n",
      "Epoch 82/100\n",
      "15117/15117 [==============================] - 0s 16us/sample - loss: 68283133431.4988 - val_loss: 49812659237.9259\n",
      "Epoch 83/100\n",
      "15117/15117 [==============================] - 0s 17us/sample - loss: 68415009113.4654 - val_loss: 49832112229.1358\n",
      "Epoch 84/100\n",
      "15117/15117 [==============================] - 0s 18us/sample - loss: 69031431787.7378 - val_loss: 49687687559.9012\n",
      "Epoch 85/100\n",
      "15117/15117 [==============================] - 0s 18us/sample - loss: 67667601087.8688 - val_loss: 49453451390.4198\n",
      "Epoch 86/100\n",
      "15117/15117 [==============================] - 0s 16us/sample - loss: 68165531863.2723 - val_loss: 48971134773.7284\n",
      "Epoch 87/100\n",
      "15117/15117 [==============================] - 0s 18us/sample - loss: 68956681680.6171 - val_loss: 48896387034.0741\n",
      "Epoch 88/100\n",
      "15117/15117 [==============================] - 0s 17us/sample - loss: 71143175016.7404 - val_loss: 49019145620.5432\n",
      "Epoch 89/100\n",
      "15117/15117 [==============================] - 0s 19us/sample - loss: 68075585006.8283 - val_loss: 48392523990.9136\n",
      "Epoch 90/100\n",
      "15117/15117 [==============================] - 0s 18us/sample - loss: 67767440082.3613 - val_loss: 48747309814.5185\n",
      "Epoch 91/100\n",
      "15117/15117 [==============================] - 0s 16us/sample - loss: 65683954686.4420 - val_loss: 48443361469.6296\n",
      "Epoch 92/100\n",
      "15117/15117 [==============================] - 0s 19us/sample - loss: 69612810946.6460 - val_loss: 48452694192.9877\n",
      "Epoch 93/100\n",
      "15117/15117 [==============================] - 0s 20us/sample - loss: 66981763924.5543 - val_loss: 48295095789.0370\n",
      "Epoch 94/100\n",
      "15117/15117 [==============================] - 0s 21us/sample - loss: 68341606056.5668 - val_loss: 48277618321.3827\n",
      "Epoch 95/100\n",
      "15117/15117 [==============================] - 0s 16us/sample - loss: 68267030713.4675 - val_loss: 47829358174.8148\n",
      "Epoch 96/100\n",
      "15117/15117 [==============================] - 0s 17us/sample - loss: 68538172598.1483 - val_loss: 48052497711.4074\n",
      "Epoch 97/100\n",
      "15117/15117 [==============================] - 0s 16us/sample - loss: 65791402425.3828 - val_loss: 47671571721.4815\n",
      "Epoch 98/100\n",
      "15117/15117 [==============================] - 0s 23us/sample - loss: 67323452034.8365 - val_loss: 47719907694.6173\n",
      "Epoch 99/100\n",
      "15117/15117 [==============================] - 0s 18us/sample - loss: 67218531610.8074 - val_loss: 47544536291.5556\n",
      "Epoch 100/100\n",
      "15117/15117 [==============================] - 0s 19us/sample - loss: 68424826031.9164 - val_loss: 47494859535.8025\n"
     ]
    },
    {
     "data": {
      "text/plain": [
       "<tensorflow.python.keras.callbacks.History at 0x20991da5fc8>"
      ]
     },
     "execution_count": 34,
     "metadata": {},
     "output_type": "execute_result"
    }
   ],
   "source": [
    "model_ann.fit(x=X_train_scaled,y=y_train,\n",
    "             validation_data=(X_test_scaled,y_test),\n",
    "              epochs=100,\n",
    "              batch_size=200\n",
    "             )"
   ]
  },
  {
   "cell_type": "code",
   "execution_count": 35,
   "metadata": {},
   "outputs": [
    {
     "data": {
      "text/plain": [
       "<matplotlib.axes._subplots.AxesSubplot at 0x2099546c048>"
      ]
     },
     "execution_count": 35,
     "metadata": {},
     "output_type": "execute_result"
    },
    {
     "data": {
      "image/png": "[encoded data removed]",
      "text/plain": [
       "<Figure size 432x288 with 1 Axes>"
      ]
     },
     "metadata": {
      "needs_background": "light"
     },
     "output_type": "display_data"
    }
   ],
   "source": [
    "pd.DataFrame(model_ann.history.history).plot()"
   ]
  },
  {
   "cell_type": "code",
   "execution_count": 36,
   "metadata": {},
   "outputs": [
    {
     "name": "stdout",
     "output_type": "stream",
     "text": [
      "RMSE for ANN model= 217933.15098942193\n",
      "Average Price= 535995.4833333333\n"
     ]
    }
   ],
   "source": [
    "prediction_ann = model_ann.predict(X_test_scaled)\n",
    "print('RMSE for ANN model= '+ str(np.sqrt(mean_squared_error(y_test,prediction_ann))))\n",
    "print('Average Price= '+ str(np.mean(y_test)))\n",
    "df_prediction['prediction_ann'] = prediction_ann"
   ]
  },
  {
   "cell_type": "markdown",
   "metadata": {},
   "source": [
    "## Comparing all three models"
   ]
  },
  {
   "cell_type": "code",
   "execution_count": 37,
   "metadata": {},
   "outputs": [
    {
     "data": {
      "text/html": [
       "<div>\n",
       "<style scoped>\n",
       "    .dataframe tbody tr th:only-of-type {\n",
       "        vertical-align: middle;\n",
       "    }\n",
       "\n",
       "    .dataframe tbody tr th {\n",
       "        vertical-align: top;\n",
       "    }\n",
       "\n",
       "    .dataframe thead th {\n",
       "        text-align: right;\n",
       "    }\n",
       "</style>\n",
       "<table border=\"1\" class=\"dataframe\">\n",
       "  <thead>\n",
       "    <tr style=\"text-align: right;\">\n",
       "      <th></th>\n",
       "      <th>y_test</th>\n",
       "      <th>sqft_living</th>\n",
       "      <th>prediction_linear</th>\n",
       "      <th>prediction_ridge</th>\n",
       "      <th>prediction_lasso</th>\n",
       "      <th>prediction_ann</th>\n",
       "    </tr>\n",
       "  </thead>\n",
       "  <tbody>\n",
       "    <tr>\n",
       "      <th>0</th>\n",
       "      <td>215000.0</td>\n",
       "      <td>1500.0</td>\n",
       "      <td>1.248763e+05</td>\n",
       "      <td>129496.492499</td>\n",
       "      <td>1.245788e+05</td>\n",
       "      <td>223804.750000</td>\n",
       "    </tr>\n",
       "    <tr>\n",
       "      <th>1</th>\n",
       "      <td>883000.0</td>\n",
       "      <td>2960.0</td>\n",
       "      <td>9.851643e+05</td>\n",
       "      <td>988503.527789</td>\n",
       "      <td>9.849892e+05</td>\n",
       "      <td>916810.312500</td>\n",
       "    </tr>\n",
       "    <tr>\n",
       "      <th>2</th>\n",
       "      <td>380500.0</td>\n",
       "      <td>1270.0</td>\n",
       "      <td>4.303043e+05</td>\n",
       "      <td>432618.525110</td>\n",
       "      <td>4.299499e+05</td>\n",
       "      <td>443579.562500</td>\n",
       "    </tr>\n",
       "    <tr>\n",
       "      <th>3</th>\n",
       "      <td>265000.0</td>\n",
       "      <td>1320.0</td>\n",
       "      <td>1.292123e+05</td>\n",
       "      <td>129900.078625</td>\n",
       "      <td>1.289842e+05</td>\n",
       "      <td>151781.046875</td>\n",
       "    </tr>\n",
       "    <tr>\n",
       "      <th>4</th>\n",
       "      <td>780000.0</td>\n",
       "      <td>3190.0</td>\n",
       "      <td>1.000252e+06</td>\n",
       "      <td>995259.549389</td>\n",
       "      <td>1.000070e+06</td>\n",
       "      <td>841946.750000</td>\n",
       "    </tr>\n",
       "  </tbody>\n",
       "</table>\n",
       "</div>"
      ],
      "text/plain": [
       "     y_test  sqft_living  prediction_linear  prediction_ridge  \\\n",
       "0  215000.0       1500.0       1.248763e+05     129496.492499   \n",
       "1  883000.0       2960.0       9.851643e+05     988503.527789   \n",
       "2  380500.0       1270.0       4.303043e+05     432618.525110   \n",
       "3  265000.0       1320.0       1.292123e+05     129900.078625   \n",
       "4  780000.0       3190.0       1.000252e+06     995259.549389   \n",
       "\n",
       "   prediction_lasso  prediction_ann  \n",
       "0      1.245788e+05   223804.750000  \n",
       "1      9.849892e+05   916810.312500  \n",
       "2      4.299499e+05   443579.562500  \n",
       "3      1.289842e+05   151781.046875  \n",
       "4      1.000070e+06   841946.750000  "
      ]
     },
     "execution_count": 37,
     "metadata": {},
     "output_type": "execute_result"
    }
   ],
   "source": [
    "df_prediction[(df_prediction.y_test<1000000)].head()"
   ]
  },
  {
   "cell_type": "code",
   "execution_count": 38,
   "metadata": {},
   "outputs": [
    {
     "data": {
      "text/html": [
       "<div>\n",
       "<style scoped>\n",
       "    .dataframe tbody tr th:only-of-type {\n",
       "        vertical-align: middle;\n",
       "    }\n",
       "\n",
       "    .dataframe tbody tr th {\n",
       "        vertical-align: top;\n",
       "    }\n",
       "\n",
       "    .dataframe thead th {\n",
       "        text-align: right;\n",
       "    }\n",
       "</style>\n",
       "<table border=\"1\" class=\"dataframe\">\n",
       "  <thead>\n",
       "    <tr style=\"text-align: right;\">\n",
       "      <th></th>\n",
       "      <th>y_test</th>\n",
       "      <th>sqft_living</th>\n",
       "      <th>prediction_linear</th>\n",
       "      <th>prediction_ridge</th>\n",
       "      <th>prediction_lasso</th>\n",
       "      <th>prediction_ann</th>\n",
       "    </tr>\n",
       "  </thead>\n",
       "  <tbody>\n",
       "    <tr>\n",
       "      <th>68</th>\n",
       "      <td>2130000.0</td>\n",
       "      <td>3190.0</td>\n",
       "      <td>1.266492e+06</td>\n",
       "      <td>1.267836e+06</td>\n",
       "      <td>1.266292e+06</td>\n",
       "      <td>1.203121e+06</td>\n",
       "    </tr>\n",
       "    <tr>\n",
       "      <th>158</th>\n",
       "      <td>1520000.0</td>\n",
       "      <td>5930.0</td>\n",
       "      <td>1.545708e+06</td>\n",
       "      <td>1.539208e+06</td>\n",
       "      <td>1.545540e+06</td>\n",
       "      <td>1.447652e+06</td>\n",
       "    </tr>\n",
       "    <tr>\n",
       "      <th>160</th>\n",
       "      <td>2400000.0</td>\n",
       "      <td>5860.0</td>\n",
       "      <td>1.712588e+06</td>\n",
       "      <td>1.699636e+06</td>\n",
       "      <td>1.712391e+06</td>\n",
       "      <td>1.480712e+06</td>\n",
       "    </tr>\n",
       "    <tr>\n",
       "      <th>184</th>\n",
       "      <td>1790000.0</td>\n",
       "      <td>5490.0</td>\n",
       "      <td>1.693996e+06</td>\n",
       "      <td>1.687877e+06</td>\n",
       "      <td>1.693877e+06</td>\n",
       "      <td>1.598270e+06</td>\n",
       "    </tr>\n",
       "    <tr>\n",
       "      <th>201</th>\n",
       "      <td>1580000.0</td>\n",
       "      <td>3410.0</td>\n",
       "      <td>9.649403e+05</td>\n",
       "      <td>9.611920e+05</td>\n",
       "      <td>9.646602e+05</td>\n",
       "      <td>7.609162e+05</td>\n",
       "    </tr>\n",
       "  </tbody>\n",
       "</table>\n",
       "</div>"
      ],
      "text/plain": [
       "        y_test  sqft_living  prediction_linear  prediction_ridge  \\\n",
       "68   2130000.0       3190.0       1.266492e+06      1.267836e+06   \n",
       "158  1520000.0       5930.0       1.545708e+06      1.539208e+06   \n",
       "160  2400000.0       5860.0       1.712588e+06      1.699636e+06   \n",
       "184  1790000.0       5490.0       1.693996e+06      1.687877e+06   \n",
       "201  1580000.0       3410.0       9.649403e+05      9.611920e+05   \n",
       "\n",
       "     prediction_lasso  prediction_ann  \n",
       "68       1.266292e+06    1.203121e+06  \n",
       "158      1.545540e+06    1.447652e+06  \n",
       "160      1.712391e+06    1.480712e+06  \n",
       "184      1.693877e+06    1.598270e+06  \n",
       "201      9.646602e+05    7.609162e+05  "
      ]
     },
     "execution_count": 38,
     "metadata": {},
     "output_type": "execute_result"
    }
   ],
   "source": [
    "df_prediction[(df_prediction.y_test>1500000)].head()"
   ]
  },
  {
   "cell_type": "code",
   "execution_count": 39,
   "metadata": {},
   "outputs": [
    {
     "data": {
      "text/plain": [
       "0"
      ]
     },
     "execution_count": 39,
     "metadata": {},
     "output_type": "execute_result"
    }
   ],
   "source": [
    "sum(df_prediction['prediction_ann']<0) #no negative price prediction"
   ]
  },
  {
   "cell_type": "code",
   "execution_count": 40,
   "metadata": {},
   "outputs": [
    {
     "data": {
      "text/plain": [
       "<matplotlib.legend.Legend at 0x209957b9948>"
      ]
     },
     "execution_count": 40,
     "metadata": {},
     "output_type": "execute_result"
    },
    {
     "data": {
      "image/png": "[encoded data removed]",
      "text/plain": [
       "<Figure size 1080x360 with 1 Axes>"
      ]
     },
     "metadata": {
      "needs_background": "light"
     },
     "output_type": "display_data"
    }
   ],
   "source": [
    "fig,ax=plt.subplots(figsize=(15,5))\n",
    "ax.scatter(df_prediction['sqft_living'],df_prediction['y_test'],label='Actual(y_test)')\n",
    "ax.scatter(df_prediction['sqft_living'],df_prediction['prediction_ridge'],label='Predicted(prediction_ridge)')\n",
    "ax.scatter(df_prediction['sqft_living'],df_prediction['prediction_ann'],label='Predicted(prediction_ann)')\n",
    "plt.legend()"
   ]
  },
  {
   "cell_type": "code",
   "execution_count": 41,
   "metadata": {},
   "outputs": [
    {
     "data": {
      "text/html": [
       "<div>\n",
       "<style scoped>\n",
       "    .dataframe tbody tr th:only-of-type {\n",
       "        vertical-align: middle;\n",
       "    }\n",
       "\n",
       "    .dataframe tbody tr th {\n",
       "        vertical-align: top;\n",
       "    }\n",
       "\n",
       "    .dataframe thead th {\n",
       "        text-align: right;\n",
       "    }\n",
       "</style>\n",
       "<table border=\"1\" class=\"dataframe\">\n",
       "  <thead>\n",
       "    <tr style=\"text-align: right;\">\n",
       "      <th></th>\n",
       "      <th>y_test</th>\n",
       "      <th>sqft_living</th>\n",
       "      <th>prediction_linear</th>\n",
       "      <th>prediction_ridge</th>\n",
       "      <th>prediction_lasso</th>\n",
       "      <th>prediction_ann</th>\n",
       "    </tr>\n",
       "  </thead>\n",
       "  <tbody>\n",
       "    <tr>\n",
       "      <th>39</th>\n",
       "      <td>115000.0</td>\n",
       "      <td>550.0</td>\n",
       "      <td>-21969.736323</td>\n",
       "      <td>-22662.220979</td>\n",
       "      <td>-22201.750449</td>\n",
       "      <td>86122.945312</td>\n",
       "    </tr>\n",
       "    <tr>\n",
       "      <th>297</th>\n",
       "      <td>527550.0</td>\n",
       "      <td>820.0</td>\n",
       "      <td>-111529.736323</td>\n",
       "      <td>-117824.665716</td>\n",
       "      <td>-111754.311576</td>\n",
       "      <td>12971.144531</td>\n",
       "    </tr>\n",
       "    <tr>\n",
       "      <th>1426</th>\n",
       "      <td>202000.0</td>\n",
       "      <td>1420.0</td>\n",
       "      <td>-52803.736323</td>\n",
       "      <td>-54527.626933</td>\n",
       "      <td>-53072.326297</td>\n",
       "      <td>7465.102539</td>\n",
       "    </tr>\n",
       "    <tr>\n",
       "      <th>1932</th>\n",
       "      <td>133400.0</td>\n",
       "      <td>900.0</td>\n",
       "      <td>-31823.736323</td>\n",
       "      <td>-30628.443394</td>\n",
       "      <td>-32058.402505</td>\n",
       "      <td>23199.263672</td>\n",
       "    </tr>\n",
       "    <tr>\n",
       "      <th>1939</th>\n",
       "      <td>250000.0</td>\n",
       "      <td>720.0</td>\n",
       "      <td>-10597.736323</td>\n",
       "      <td>-1163.737374</td>\n",
       "      <td>-10808.486585</td>\n",
       "      <td>85579.937500</td>\n",
       "    </tr>\n",
       "  </tbody>\n",
       "</table>\n",
       "</div>"
      ],
      "text/plain": [
       "        y_test  sqft_living  prediction_linear  prediction_ridge  \\\n",
       "39    115000.0        550.0      -21969.736323     -22662.220979   \n",
       "297   527550.0        820.0     -111529.736323    -117824.665716   \n",
       "1426  202000.0       1420.0      -52803.736323     -54527.626933   \n",
       "1932  133400.0        900.0      -31823.736323     -30628.443394   \n",
       "1939  250000.0        720.0      -10597.736323      -1163.737374   \n",
       "\n",
       "      prediction_lasso  prediction_ann  \n",
       "39       -22201.750449    86122.945312  \n",
       "297     -111754.311576    12971.144531  \n",
       "1426     -53072.326297     7465.102539  \n",
       "1932     -32058.402505    23199.263672  \n",
       "1939     -10808.486585    85579.937500  "
      ]
     },
     "execution_count": 41,
     "metadata": {},
     "output_type": "execute_result"
    }
   ],
   "source": [
    "#what ANN is predicting for prices predicted negative by other models\n",
    "df_prediction[(df_prediction['prediction_ridge']<0)].head()"
   ]
  },
  {
   "cell_type": "code",
   "execution_count": 42,
   "metadata": {},
   "outputs": [
    {
     "data": {
      "text/plain": [
       "<matplotlib.legend.Legend at 0x20995512b48>"
      ]
     },
     "execution_count": 42,
     "metadata": {},
     "output_type": "execute_result"
    },
    {
     "data": {
      "image/png": "[encoded data removed]",
      "text/plain": [
       "<Figure size 1080x360 with 1 Axes>"
      ]
     },
     "metadata": {
      "needs_background": "light"
     },
     "output_type": "display_data"
    }
   ],
   "source": [
    "fig,ax=plt.subplots(figsize=(15,5))\n",
    "ax.scatter(df_prediction['y_test'],df_prediction['y_test']-df_prediction['prediction_linear'],label='Difference in price (Linear)')\n",
    "ax.scatter(df_prediction['y_test'],df_prediction['y_test']-df_prediction['prediction_ridge'],label='Difference in price (Ridge)')\n",
    "ax.scatter(df_prediction['y_test'],df_prediction['y_test']-df_prediction['prediction_ann'],label='Difference in price (ANN)')\n",
    "plt.legend()"
   ]
  },
  {
   "cell_type": "markdown",
   "metadata": {},
   "source": [
    "## Conclusion\n",
    "\n",
    "- ANN is not predicting any negative prices but the prices are not close to actual price for which other models are predicting negative values.\n",
    "- All models are failing in predicting higher prices especially more than 1 million. Difference between actual and predicted starts becoming bigger and bigger as the price increase.\n",
    "- All models are comfortable in predicting price around 500K which near to average price.\n",
    "- When I remove the price more than 1 million from the dataset then I get good results. RMSE is around 20-25% of mean price."
   ]
  },
  {
   "cell_type": "markdown",
   "metadata": {},
   "source": [
    "## How to make it more accurate ?\n",
    "\n",
    "- Remove data having prices more than 1 million from original dataset?\n",
    "- Prepare another model for predicting price more than 1 million ?\n",
    "- Any model parameters to change ?"
   ]
  }
 ],
 "metadata": {
  "kernelspec": {
   "display_name": "Python 3",
   "language": "python",
   "name": "python3"
  },
  "language_info": {
   "codemirror_mode": {
    "name": "ipython",
    "version": 3
   },
   "file_extension": ".py",
   "mimetype": "text/x-python",
   "name": "python",
   "nbconvert_exporter": "python",
   "pygments_lexer": "ipython3",
   "version": "3.7.4"
  }
 },
 "nbformat": 4,
 "nbformat_minor": 4
}
